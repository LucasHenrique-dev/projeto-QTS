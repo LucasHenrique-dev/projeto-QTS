{
  "nbformat": 4,
  "nbformat_minor": 0,
  "metadata": {
    "colab": {
      "provenance": [],
      "include_colab_link": true
    },
    "kernelspec": {
      "name": "python3",
      "display_name": "Python 3"
    },
    "language_info": {
      "name": "python"
    }
  },
  "cells": [
    {
      "cell_type": "markdown",
      "metadata": {
        "id": "view-in-github",
        "colab_type": "text"
      },
      "source": [
        "<a href=\"https://colab.research.google.com/github/LucasHenrique-dev/projeto-QTS/blob/main/desenvolvimento/GeradrorQTS.ipynb\" target=\"_parent\"><img src=\"https://colab.research.google.com/assets/colab-badge.svg\" alt=\"Open In Colab\"/></a>"
      ]
    },
    {
      "cell_type": "markdown",
      "source": [
        "##Importar Bibliotecas"
      ],
      "metadata": {
        "id": "44EhQphxtKWu"
      }
    },
    {
      "cell_type": "code",
      "execution_count": 1,
      "metadata": {
        "id": "Zn3Azjpws3Cz"
      },
      "outputs": [],
      "source": [
        "import time\n",
        "import random\n",
        "import math\n",
        "import sys\n",
        "import json\n",
        "# libraries for the files in google drive\n",
        "from pydrive.auth import GoogleAuth\n",
        "from google.colab import drive\n",
        "from pydrive.drive import GoogleDrive\n",
        "from google.colab import auth\n",
        "from oauth2client.client import GoogleCredentials"
      ]
    },
    {
      "cell_type": "markdown",
      "source": [
        "## Importar Informações"
      ],
      "metadata": {
        "id": "zsnndz38D3ro"
      }
    },
    {
      "cell_type": "code",
      "source": [
        "auth.authenticate_user()\n",
        "gauth = GoogleAuth()\n",
        "gauth.credentials = GoogleCredentials.get_application_default()\n",
        "drive = GoogleDrive(gauth)\n",
        "\n",
        "file_id = '1Zv5i7SI4MMgMzSQjeBIS9q2AMAkbA0bX' #<-- You add in here the id from you google drive file, you can find it\n",
        "\n",
        "\n",
        "download = drive.CreateFile({'id': file_id})\n",
        "\n",
        "\n",
        "# Download the file to a local disc\n",
        "download.GetContentFile('info_curso.json')"
      ],
      "metadata": {
        "id": "FZqeuKpbWP3M"
      },
      "execution_count": 2,
      "outputs": []
    },
    {
      "cell_type": "markdown",
      "source": [
        "##Explorar Dados do Curso"
      ],
      "metadata": {
        "id": "nJdmfuQl-1HS"
      }
    },
    {
      "cell_type": "code",
      "source": [
        "arquivo = open('/content/info_curso.json')\n",
        "curso = json.load(arquivo)\n",
        "\n",
        "print(json.dumps(curso, indent=4))"
      ],
      "metadata": {
        "colab": {
          "base_uri": "https://localhost:8080/"
        },
        "id": "HR2Yxd4YAWPj",
        "outputId": "56caadca-132d-4072-8886-08db4481bdef"
      },
      "execution_count": 3,
      "outputs": [
        {
          "output_type": "stream",
          "name": "stdout",
          "text": [
            "{\n",
            "    \"horario_inicio\": \"7:00\",\n",
            "    \"horario_fim\": \"12:00\",\n",
            "    \"quantidade_turmas\": 5,\n",
            "    \"disciplinas\": {\n",
            "        \"SO\": {\n",
            "            \"nome\": \"Sistemas Operacionais\",\n",
            "            \"hora_aula\": 1,\n",
            "            \"carga_horaria_semanal\": 4\n",
            "        },\n",
            "        \"MF\": {\n",
            "            \"nome\": \"M\\u00e9todos Formais\",\n",
            "            \"hora_aula\": 1,\n",
            "            \"carga_horaria_semanal\": 4\n",
            "        },\n",
            "        \"OC\": {\n",
            "            \"nome\": \"Organiza\\u00e7\\u00e3o de Computadores\",\n",
            "            \"hora_aula\": 1,\n",
            "            \"carga_horaria_semanal\": 4\n",
            "        },\n",
            "        \"CO\": {\n",
            "            \"nome\": \"Compiladores\",\n",
            "            \"hora_aula\": 1,\n",
            "            \"carga_horaria_semanal\": 4\n",
            "        },\n",
            "        \"IA\": {\n",
            "            \"nome\": \"Intelig\\u00eancia Artificial\",\n",
            "            \"hora_aula\": 1,\n",
            "            \"carga_horaria_semanal\": 4\n",
            "        }\n",
            "    }\n",
            "}\n"
          ]
        }
      ]
    },
    {
      "cell_type": "code",
      "source": [
        "disciplinas = {0: ('NA', 'Horário Vago')}\n",
        "\n",
        "for index, disciplina in enumerate(curso[\"disciplinas\"].items()):\n",
        "  disciplinas[index+1] = (disciplina[0], disciplina[1][\"nome\"])\n",
        "\n",
        "disciplinas"
      ],
      "metadata": {
        "colab": {
          "base_uri": "https://localhost:8080/"
        },
        "id": "jH4q2R88IrPP",
        "outputId": "3b8f3a48-5178-4eb6-f45f-d281185696a4"
      },
      "execution_count": 4,
      "outputs": [
        {
          "output_type": "execute_result",
          "data": {
            "text/plain": [
              "{0: ('NA', 'Horário Vago'),\n",
              " 1: ('SO', 'Sistemas Operacionais'),\n",
              " 2: ('MF', 'Métodos Formais'),\n",
              " 3: ('OC', 'Organização de Computadores'),\n",
              " 4: ('CO', 'Compiladores'),\n",
              " 5: ('IA', 'Inteligência Artificial')}"
            ]
          },
          "metadata": {},
          "execution_count": 4
        }
      ]
    },
    {
      "cell_type": "markdown",
      "source": [
        "## Funções Auxiliares"
      ],
      "metadata": {
        "id": "yJRnNtSC1s4g"
      }
    },
    {
      "cell_type": "code",
      "source": [
        "def converter_minutos(hora):\n",
        "  t = time.strptime(hora, '%H:%M')\n",
        "  minutos = t[3] * 60 + t[4]\n",
        "  return minutos"
      ],
      "metadata": {
        "id": "6pPQSTpA1xd-"
      },
      "execution_count": 5,
      "outputs": []
    },
    {
      "cell_type": "code",
      "source": [
        "def calcular_disciplinas_dia(curso, segmentacao_horario):\n",
        "  inicio, fim = curso['horario_inicio'], curso['horario_fim']\n",
        "  inicio, fim = converter_minutos(inicio), converter_minutos(fim)\n",
        "  return ((fim - inicio)/segmentacao_horario) + 1"
      ],
      "metadata": {
        "id": "HOjxnRd02IZl"
      },
      "execution_count": 6,
      "outputs": []
    },
    {
      "cell_type": "code",
      "source": [
        "def calcular_horas_vagas(disciplinas):\n",
        "  return (''.join(disciplinas).replace(\"NA\", ' ')).strip().count(\" \")"
      ],
      "metadata": {
        "id": "XbvvQIwdm6hI"
      },
      "execution_count": 7,
      "outputs": []
    },
    {
      "cell_type": "code",
      "source": [
        "def gerar_cromossomo(turmas, qtd_dias_semana, disciplinas_dia, dominio):\n",
        "  return [random.randint(0, dominio-1) for i in range(turmas*qtd_dias_semana*disciplinas_dia)]"
      ],
      "metadata": {
        "id": "7riexydNNn2f"
      },
      "execution_count": 8,
      "outputs": []
    },
    {
      "cell_type": "code",
      "source": [
        "cromossomo = gerar_cromossomo(5, 5, 6, 5)\n",
        "print(cromossomo, \"\\nTamanho:\", len(cromossomo))"
      ],
      "metadata": {
        "colab": {
          "base_uri": "https://localhost:8080/"
        },
        "id": "D-4YL_cjPbBn",
        "outputId": "1e3eb495-3600-4e83-fa1c-2cdd38d6e3df"
      },
      "execution_count": 9,
      "outputs": [
        {
          "output_type": "stream",
          "name": "stdout",
          "text": [
            "[3, 4, 1, 3, 2, 1, 3, 2, 2, 0, 3, 0, 1, 2, 4, 4, 3, 2, 0, 2, 4, 0, 4, 0, 0, 2, 1, 4, 2, 0, 4, 1, 3, 0, 0, 4, 1, 1, 1, 0, 0, 3, 1, 2, 3, 2, 4, 2, 0, 1, 4, 4, 2, 4, 4, 1, 4, 2, 1, 3, 1, 3, 1, 0, 2, 2, 0, 0, 1, 4, 0, 0, 4, 4, 2, 2, 3, 2, 3, 1, 0, 1, 1, 3, 3, 3, 2, 2, 3, 2, 0, 2, 1, 4, 3, 3, 3, 2, 1, 2, 1, 4, 4, 0, 3, 0, 3, 4, 1, 3, 4, 0, 0, 0, 4, 0, 0, 4, 0, 1, 1, 2, 0, 0, 1, 2, 4, 0, 0, 3, 4, 1, 2, 0, 0, 4, 1, 2, 3, 3, 0, 1, 4, 3, 2, 4, 1, 0, 2, 3] \n",
            "Tamanho: 150\n"
          ]
        }
      ]
    },
    {
      "cell_type": "code",
      "source": [
        "# def calcular_horas_vagas(aulas):\n",
        "#   primeira_aula = ultima_aula = 0\n",
        "\n",
        "#   aulas_nao_vagas = [pos for pos, aula in enumerate(aulas, 0) if aula != 0]\n",
        "\n",
        "#   if len(aulas_nao_vagas) > 0:\n",
        "#     primeira_aula = aulas_nao_vagas[0]      #coleta o index da primeira aula não vaga\n",
        "#     ultima_aula = aulas_nao_vagas[-1]       #coleta o index da última aula não vaga\n",
        "#   else:\n",
        "#     primeira_aula = disciplinas_dia         #define a primeira aula como a última do dia\n",
        "  \n",
        "#   # print(\"Inicio: \", primeira_aula, \"\\nFim: \", ultima_aula, \"\\nSemana: \", aulas[primeira_aula:ultima_aula+1])\n",
        "#   return aulas[primeira_aula:ultima_aula+1].count(0)"
      ],
      "metadata": {
        "id": "-JD5ZkNPtAPX"
      },
      "execution_count": 10,
      "outputs": []
    },
    {
      "cell_type": "code",
      "source": [
        "def calcular_horas_vagas(aulas):\n",
        "  disciplinas = set(aulas);\n",
        "  aula_vaga = 0\n",
        "\n",
        "  for disciplina in disciplinas:\n",
        "    aula_atual = 0\n",
        "    proxima_aula = 1\n",
        "    while aulas[proxima_aula:].count(disciplina) > 1:\n",
        "      # print(\"Aula Atual: \", aula_atual, \"     Proxima Aula: \", proxima_aula)\n",
        "      aula_atual = aulas.index(disciplina, proxima_aula)\n",
        "      proxima_aula = aulas.index(disciplina, aula_atual+1)\n",
        "\n",
        "      aula_vaga += proxima_aula - (aula_atual + 1)\n",
        "\n",
        "  return aula_vaga"
      ],
      "metadata": {
        "id": "QuJwSSNL_unu"
      },
      "execution_count": 11,
      "outputs": []
    },
    {
      "cell_type": "code",
      "source": [
        "calcular_horas_vagas([1,1,2,1,1])"
      ],
      "metadata": {
        "colab": {
          "base_uri": "https://localhost:8080/"
        },
        "id": "01G41nwgA_gr",
        "outputId": "6874f7d9-faa2-4a32-a666-fd94b010e7cb"
      },
      "execution_count": 12,
      "outputs": [
        {
          "output_type": "execute_result",
          "data": {
            "text/plain": [
              "1"
            ]
          },
          "metadata": {},
          "execution_count": 12
        }
      ]
    },
    {
      "cell_type": "code",
      "source": [
        "def calcular_aulas_esparsas(aulas, agrupamento):\n",
        "  aulas_esparsas = 0\n",
        "  i = 0\n",
        "\n",
        "  while i < len(aulas):\n",
        "    if aulas[i] == 0:                                             #desconsidera aulas vagas\n",
        "      i += 1\n",
        "      continue      \n",
        "    \n",
        "    # print(\"Grupo de aulas: \", aulas[i:i+agrupamento])\n",
        "    tamanho_grupo_aulas = len(set(aulas[i:i+agrupamento]))        \n",
        "    if tamanho_grupo_aulas != 1:                                  #verifica se aulas estão agrupadas\n",
        "      aulas_esparsas += tamanho_grupo_aulas\n",
        "      i += 1\n",
        "      continue\n",
        "    \n",
        "    i += agrupamento\n",
        "  \n",
        "  return aulas_esparsas"
      ],
      "metadata": {
        "id": "BK_TOoKZtaKK"
      },
      "execution_count": 13,
      "outputs": []
    },
    {
      "cell_type": "code",
      "source": [
        "calcular_aulas_esparsas([1,1,2,1,1], 2)"
      ],
      "metadata": {
        "id": "i6M1m_XYGBAs",
        "outputId": "8c04dffc-08c3-4d99-fea2-0f8fe17ec89b",
        "colab": {
          "base_uri": "https://localhost:8080/"
        }
      },
      "execution_count": 14,
      "outputs": [
        {
          "output_type": "execute_result",
          "data": {
            "text/plain": [
              "2"
            ]
          },
          "metadata": {},
          "execution_count": 14
        }
      ]
    },
    {
      "cell_type": "code",
      "source": [
        "dias_semana = ['Segunda','Terça','Quarta','Quinta','Sexta']"
      ],
      "metadata": {
        "id": "Fw8b6kHf7cSV"
      },
      "execution_count": 15,
      "outputs": []
    },
    {
      "cell_type": "markdown",
      "source": [
        "## Objetivo\n",
        "\n",
        "O algoritmo visará montar um quadro de trabalho semanal contendo o menor **Tempo de Espera Entre Aulas** possível\n",
        "\n",
        "Tempo de Espera Entre Aulas: horário de aula vaga entre aulas da mesma disciplina"
      ],
      "metadata": {
        "id": "ZtJiiBm5y6Iz"
      }
    },
    {
      "cell_type": "markdown",
      "source": [
        "##Definir Cromossomo\n",
        "\n",
        "Definir a sequência genética de formação de um cromossomo\n",
        "\n",
        "Os genes determinam aspectos de um indivíduo e o cromossomo é o conjunto dessas características o qual forma o indivíduo (possível solução do problema)\n",
        "\n",
        "O cromossomo está estruturado da seguinte forma:\n",
        "- turma -> dias da semana -> disciplinas\n",
        "- Não há divisão física entre os dados, eles são sequenciais\n",
        "- As informações indicadas no primeiro tópico se repetem N vezes onde N indica o número de turmas\n",
        "\n",
        "[Turma1:(Segunda:(..disciplinas), Terça:(..disciplinas), Quarta:(..disciplinas), Quinta:(..disciplinas), Sexta:(..disciplinas)), Turma2:(Segunda:(..disciplinas), Terça:(..disciplinas), Quarta:(..disciplinas), Quinta:(..disciplinas), Sexta:(..disciplinas))..]\n",
        "\n",
        "Ex.: [(SO,SO,SO,SO,MF,MF), (MF,MF,OC,OC,OC,OC), (CO,CO,CO,CO,IA,IA), (IA,IA,NA,NA,NA,NA), (NA,NA,NA,NA,NA,NA),</br>\n",
        "(SO,SO,SO,SO,MF,MF), (MF,MF,OC,OC,OC,OC), (CO,CO,CO,CO,IA,IA), (IA,IA,NA,NA,NA,NA), (NA,NA,NA,NA,NA,NA)]"
      ],
      "metadata": {
        "id": "L9vgHiG_KAc0"
      }
    },
    {
      "cell_type": "code",
      "source": [
        "segmentacao_horario = 60                                                          # Divisão do horário no QTS (minutos)\n",
        "disciplinas_dia = int(calcular_disciplinas_dia(curso, segmentacao_horario))       # Retorna quantidade de sessões destinadas às disciplinas em um dia"
      ],
      "metadata": {
        "id": "9YHLBelcF-42"
      },
      "execution_count": 16,
      "outputs": []
    },
    {
      "cell_type": "code",
      "source": [
        "disciplinas_dia"
      ],
      "metadata": {
        "colab": {
          "base_uri": "https://localhost:8080/"
        },
        "id": "BgyHR4Z9-23X",
        "outputId": "54ef04ef-e079-4093-c05d-0ce2e23cdc26"
      },
      "execution_count": 17,
      "outputs": [
        {
          "output_type": "execute_result",
          "data": {
            "text/plain": [
              "6"
            ]
          },
          "metadata": {},
          "execution_count": 17
        }
      ]
    },
    {
      "cell_type": "markdown",
      "source": [
        "##Impressão de Quadro de Trabalho Semanal"
      ],
      "metadata": {
        "id": "55VE4w9OupHM"
      }
    },
    {
      "cell_type": "code",
      "source": [
        "def imprimir_qts(calendario):\n",
        "  dia_id = 0\n",
        "  espera_total = 0\n",
        "  qtd_dias_semana = len(dias_semana)\n",
        "\n",
        "  for i in range(curso[\"quantidade_turmas\"]):\n",
        "    print(f\"\\n{i+1}ª Turma:\")\n",
        "    inicio_turma = i*(disciplinas_dia*qtd_dias_semana)\n",
        "    for j in range(qtd_dias_semana):\n",
        "        dia = dias_semana[j]\n",
        "        comeco_semana = inicio_turma + j*disciplinas_dia\n",
        "        \n",
        "        disciplinas_semana = calendario[comeco_semana:comeco_semana+disciplinas_dia]                        # coleta as disciplinas da semana\n",
        "        ordem_disciplinas = [disciplinas[disciplina][0] for disciplina in disciplinas_semana]               # traduz números em disciplinas\n",
        "\n",
        "        dia_id += 1                                                                                         # próximo dia da semana\n",
        "        print(f'|{dia:7}| {\", \".join(ordem_disciplinas)}|')\n",
        "        \n",
        "        espera_total += calcular_horas_vagas(ordem_disciplinas)\n",
        "\n",
        "  print('\\nTempo Total de Espera Entre Aulas: ', espera_total)"
      ],
      "metadata": {
        "id": "I9r16GTDuu61"
      },
      "execution_count": 18,
      "outputs": []
    },
    {
      "cell_type": "code",
      "source": [
        "imprimir_qts([1,1,1,1,2,2, 2,2,3,3,3,3, 4,4,4,4,5,5, 5,5,0,0,0,0, 0,0,0,0,0,0,\n",
        "              1,1,1,1,2,2, 2,2,3,3,3,3, 4,4,4,4,5,5, 5,5,0,0,0,0, 0,0,0,0,0,0,\n",
        "              1,1,1,1,2,2, 2,2,3,3,3,3, 4,4,4,4,5,5, 5,5,0,0,0,0, 0,0,0,0,0,0,\n",
        "              1,1,1,1,2,2, 2,2,3,3,3,3, 4,4,4,4,5,5, 5,5,0,0,0,0, 0,0,0,0,0,0,\n",
        "              1,1,1,1,2,2, 2,2,3,3,3,3, 4,4,4,4,5,5, 5,5,0,0,0,0, 0,0,0,0,0,0])"
      ],
      "metadata": {
        "colab": {
          "base_uri": "https://localhost:8080/"
        },
        "id": "o8snYnpCu6GK",
        "outputId": "d27ca72e-ca59-474c-c57b-e4165957b1e7"
      },
      "execution_count": 19,
      "outputs": [
        {
          "output_type": "stream",
          "name": "stdout",
          "text": [
            "\n",
            "1ª Turma:\n",
            "|Segunda| SO, SO, SO, SO, MF, MF|\n",
            "|Terça  | MF, MF, OC, OC, OC, OC|\n",
            "|Quarta | CO, CO, CO, CO, IA, IA|\n",
            "|Quinta | IA, IA, NA, NA, NA, NA|\n",
            "|Sexta  | NA, NA, NA, NA, NA, NA|\n",
            "\n",
            "2ª Turma:\n",
            "|Segunda| SO, SO, SO, SO, MF, MF|\n",
            "|Terça  | MF, MF, OC, OC, OC, OC|\n",
            "|Quarta | CO, CO, CO, CO, IA, IA|\n",
            "|Quinta | IA, IA, NA, NA, NA, NA|\n",
            "|Sexta  | NA, NA, NA, NA, NA, NA|\n",
            "\n",
            "3ª Turma:\n",
            "|Segunda| SO, SO, SO, SO, MF, MF|\n",
            "|Terça  | MF, MF, OC, OC, OC, OC|\n",
            "|Quarta | CO, CO, CO, CO, IA, IA|\n",
            "|Quinta | IA, IA, NA, NA, NA, NA|\n",
            "|Sexta  | NA, NA, NA, NA, NA, NA|\n",
            "\n",
            "4ª Turma:\n",
            "|Segunda| SO, SO, SO, SO, MF, MF|\n",
            "|Terça  | MF, MF, OC, OC, OC, OC|\n",
            "|Quarta | CO, CO, CO, CO, IA, IA|\n",
            "|Quinta | IA, IA, NA, NA, NA, NA|\n",
            "|Sexta  | NA, NA, NA, NA, NA, NA|\n",
            "\n",
            "5ª Turma:\n",
            "|Segunda| SO, SO, SO, SO, MF, MF|\n",
            "|Terça  | MF, MF, OC, OC, OC, OC|\n",
            "|Quarta | CO, CO, CO, CO, IA, IA|\n",
            "|Quinta | IA, IA, NA, NA, NA, NA|\n",
            "|Sexta  | NA, NA, NA, NA, NA, NA|\n",
            "\n",
            "Tempo Total de Espera Entre Aulas:  0\n"
          ]
        }
      ]
    },
    {
      "cell_type": "markdown",
      "source": [
        "# Função de Avaliação (Fitness Function)\n",
        "Definir algoritmo que atribua uma pontuação ao indivíduo gerado (possível solução) baseado no objetivo estabelecido e critérios do sistema\n",
        "\n",
        "Implementar a função de fitness para que ela \"premie\" os QTS com as melhores distribuições\n",
        "\n",
        "Critérios:\n",
        "- Objetivo\n",
        "  - Tempo de ociosadade entre aulas de mesma disciplina\n",
        "- Restrições\n",
        "  - Hora aula semanal de cada disciplina\n",
        "  - Aulas conjuntas (sistema de duplas)"
      ],
      "metadata": {
        "id": "vcpW2xs3woJf"
      }
    },
    {
      "cell_type": "code",
      "source": [
        "# def funcao_avaliacao(calendario):\n",
        "#   horas_vagas = 0\n",
        "#   primeira_aula = 0\n",
        "#   ultima_aula = 0\n",
        "\n",
        "#   for i in range(0, len(calendario), disciplinas_dia):\n",
        "#     aulas = calendario[i:i+disciplinas_dia]\n",
        "#     aulas_nao_vagas = [pos for pos, aula in enumerate(aulas, 0) if aula != 0]\n",
        "\n",
        "#     if len(aulas_nao_vagas) > 0:\n",
        "#       primeira_aula = aulas_nao_vagas[0]      #coleta o index da primeira aula não vaga\n",
        "#       ultima_aula = aulas_nao_vagas[-1]       #coleta o index da última aula não vaga\n",
        "#     else:\n",
        "#       primeira_aula = disciplinas_dia         #define a primeira aula como a última do dia\n",
        "    \n",
        "#     # print(\"Inicio: \", primeira_aula, \"\\nFim: \", ultima_aula, \"\\nSemana: \", aulas[primeira_aula:ultima_aula+1])\n",
        "#     horas_vagas += aulas[primeira_aula:ultima_aula+1].count(0)\n",
        "  \n",
        "#   return horas_vagas"
      ],
      "metadata": {
        "id": "bdFqEYUee0qy"
      },
      "execution_count": 20,
      "outputs": []
    },
    {
      "cell_type": "code",
      "source": [
        "###################################################################################################################################"
      ],
      "metadata": {
        "id": "NR3IILDiq-W5"
      },
      "execution_count": 21,
      "outputs": []
    },
    {
      "cell_type": "code",
      "source": [
        "def avaliar_objetivos(aulas):\n",
        "  pontuacao = 0\n",
        "\n",
        "  pontuacao += calcular_horas_vagas(aulas)\n",
        "  \n",
        "  return pontuacao"
      ],
      "metadata": {
        "id": "vvVsfdd1jVbK"
      },
      "execution_count": 22,
      "outputs": []
    },
    {
      "cell_type": "code",
      "source": [
        "# Penalidade(x) = (P * desvio)^2\n",
        "def aplicar_penalidades(aulas, agrupamento):\n",
        "  constante_penalidade = 4\n",
        "  desvio = 0\n",
        "\n",
        "  desvio += calcular_aulas_esparsas(aulas, agrupamento)\n",
        "  \n",
        "  return math.pow((constante_penalidade * desvio), 2)"
      ],
      "metadata": {
        "id": "ubLoTHvMjkyy"
      },
      "execution_count": 23,
      "outputs": []
    },
    {
      "cell_type": "code",
      "source": [
        "def funcao_avaliacao(calendario):\n",
        "  pontuacao = 0\n",
        "\n",
        "  for i in range(0, len(calendario), disciplinas_dia):\n",
        "    aulas = calendario[i:i+disciplinas_dia]\n",
        "\n",
        "    pontuacao += avaliar_objetivos(aulas)\n",
        "    pontuacao += aplicar_penalidades(aulas, 3)\n",
        "  \n",
        "  return pontuacao"
      ],
      "metadata": {
        "id": "R8YhhUhmq-r3"
      },
      "execution_count": 24,
      "outputs": []
    },
    {
      "cell_type": "code",
      "source": [
        "funcao_avaliacao([1,1,0,0,2,0, 0,2,0,3,0,3, 0,4,4,4,5,0, 5,5,0,0,0,0, 0,0,0,0,0,0,\n",
        "                  1,1,0,3,2,0, 2,2,0,3,0,3, 0,4,4,4,5,0, 5,5,0,0,0,0, 0,0,0,0,0,0,\n",
        "                  1,1,5,1,2,0, 2,2,0,3,0,3, 1,0,0,0,0,1, 5,5,0,0,0,0, 0,0,0,0,0,0])"
      ],
      "metadata": {
        "id": "8-PjSbHLBbt7",
        "colab": {
          "base_uri": "https://localhost:8080/"
        },
        "outputId": "0d80c4bb-2635-453d-fa7f-8a7d75a22b55"
      },
      "execution_count": 25,
      "outputs": [
        {
          "output_type": "execute_result",
          "data": {
            "text/plain": [
              "7418.0"
            ]
          },
          "metadata": {},
          "execution_count": 25
        }
      ]
    },
    {
      "cell_type": "markdown",
      "source": [
        "##Criar o Domínio de Variação dos Genes"
      ],
      "metadata": {
        "id": "eL1f_FP-xANt"
      }
    },
    {
      "cell_type": "code",
      "source": [
        "dominio = [(0, len(disciplinas)-1)] * (curso[\"quantidade_turmas\"] * len(dias_semana) * len(disciplinas))\n",
        "dominio, len(dominio)"
      ],
      "metadata": {
        "colab": {
          "base_uri": "https://localhost:8080/"
        },
        "id": "AW07CZuFxA6j",
        "outputId": "b99a0846-7d9d-4330-e050-619c2c27f52c"
      },
      "execution_count": 26,
      "outputs": [
        {
          "output_type": "execute_result",
          "data": {
            "text/plain": [
              "([(0, 5),\n",
              "  (0, 5),\n",
              "  (0, 5),\n",
              "  (0, 5),\n",
              "  (0, 5),\n",
              "  (0, 5),\n",
              "  (0, 5),\n",
              "  (0, 5),\n",
              "  (0, 5),\n",
              "  (0, 5),\n",
              "  (0, 5),\n",
              "  (0, 5),\n",
              "  (0, 5),\n",
              "  (0, 5),\n",
              "  (0, 5),\n",
              "  (0, 5),\n",
              "  (0, 5),\n",
              "  (0, 5),\n",
              "  (0, 5),\n",
              "  (0, 5),\n",
              "  (0, 5),\n",
              "  (0, 5),\n",
              "  (0, 5),\n",
              "  (0, 5),\n",
              "  (0, 5),\n",
              "  (0, 5),\n",
              "  (0, 5),\n",
              "  (0, 5),\n",
              "  (0, 5),\n",
              "  (0, 5),\n",
              "  (0, 5),\n",
              "  (0, 5),\n",
              "  (0, 5),\n",
              "  (0, 5),\n",
              "  (0, 5),\n",
              "  (0, 5),\n",
              "  (0, 5),\n",
              "  (0, 5),\n",
              "  (0, 5),\n",
              "  (0, 5),\n",
              "  (0, 5),\n",
              "  (0, 5),\n",
              "  (0, 5),\n",
              "  (0, 5),\n",
              "  (0, 5),\n",
              "  (0, 5),\n",
              "  (0, 5),\n",
              "  (0, 5),\n",
              "  (0, 5),\n",
              "  (0, 5),\n",
              "  (0, 5),\n",
              "  (0, 5),\n",
              "  (0, 5),\n",
              "  (0, 5),\n",
              "  (0, 5),\n",
              "  (0, 5),\n",
              "  (0, 5),\n",
              "  (0, 5),\n",
              "  (0, 5),\n",
              "  (0, 5),\n",
              "  (0, 5),\n",
              "  (0, 5),\n",
              "  (0, 5),\n",
              "  (0, 5),\n",
              "  (0, 5),\n",
              "  (0, 5),\n",
              "  (0, 5),\n",
              "  (0, 5),\n",
              "  (0, 5),\n",
              "  (0, 5),\n",
              "  (0, 5),\n",
              "  (0, 5),\n",
              "  (0, 5),\n",
              "  (0, 5),\n",
              "  (0, 5),\n",
              "  (0, 5),\n",
              "  (0, 5),\n",
              "  (0, 5),\n",
              "  (0, 5),\n",
              "  (0, 5),\n",
              "  (0, 5),\n",
              "  (0, 5),\n",
              "  (0, 5),\n",
              "  (0, 5),\n",
              "  (0, 5),\n",
              "  (0, 5),\n",
              "  (0, 5),\n",
              "  (0, 5),\n",
              "  (0, 5),\n",
              "  (0, 5),\n",
              "  (0, 5),\n",
              "  (0, 5),\n",
              "  (0, 5),\n",
              "  (0, 5),\n",
              "  (0, 5),\n",
              "  (0, 5),\n",
              "  (0, 5),\n",
              "  (0, 5),\n",
              "  (0, 5),\n",
              "  (0, 5),\n",
              "  (0, 5),\n",
              "  (0, 5),\n",
              "  (0, 5),\n",
              "  (0, 5),\n",
              "  (0, 5),\n",
              "  (0, 5),\n",
              "  (0, 5),\n",
              "  (0, 5),\n",
              "  (0, 5),\n",
              "  (0, 5),\n",
              "  (0, 5),\n",
              "  (0, 5),\n",
              "  (0, 5),\n",
              "  (0, 5),\n",
              "  (0, 5),\n",
              "  (0, 5),\n",
              "  (0, 5),\n",
              "  (0, 5),\n",
              "  (0, 5),\n",
              "  (0, 5),\n",
              "  (0, 5),\n",
              "  (0, 5),\n",
              "  (0, 5),\n",
              "  (0, 5),\n",
              "  (0, 5),\n",
              "  (0, 5),\n",
              "  (0, 5),\n",
              "  (0, 5),\n",
              "  (0, 5),\n",
              "  (0, 5),\n",
              "  (0, 5),\n",
              "  (0, 5),\n",
              "  (0, 5),\n",
              "  (0, 5),\n",
              "  (0, 5),\n",
              "  (0, 5),\n",
              "  (0, 5),\n",
              "  (0, 5),\n",
              "  (0, 5),\n",
              "  (0, 5),\n",
              "  (0, 5),\n",
              "  (0, 5),\n",
              "  (0, 5),\n",
              "  (0, 5),\n",
              "  (0, 5),\n",
              "  (0, 5),\n",
              "  (0, 5),\n",
              "  (0, 5),\n",
              "  (0, 5),\n",
              "  (0, 5)],\n",
              " 150)"
            ]
          },
          "metadata": {},
          "execution_count": 26
        }
      ]
    },
    {
      "cell_type": "markdown",
      "source": [
        "# Mutação"
      ],
      "metadata": {
        "id": "2Npp9cugy-in"
      }
    },
    {
      "cell_type": "code",
      "source": [
        "def mutacao(dominio, passo, calendario, probabilidade):\n",
        "  gene = random.randint(0, len(dominio) - 1)    #Escolha do gene que sofrerá a mutação\n",
        "  mutante = calendario\n",
        "  #print(\"Gene: \", gene)\n",
        "  #Joga um número aleatório para verificar se haverá mutação.\n",
        "  if random.random() < probabilidade:\n",
        "    if calendario[gene] != dominio[gene][0]:    #Verifica borda inferior\n",
        "      mutante = calendario[0:gene] + [calendario[gene] - passo] + calendario[gene + 1:]\n",
        "    elif calendario[gene] != dominio[gene][1]:  #Verifica borda superior\n",
        "      mutante = calendario[0:gene] + [calendario[gene] + passo] + calendario[gene + 1:]\n",
        "  return mutante"
      ],
      "metadata": {
        "id": "5RAZcpBWy_gb"
      },
      "execution_count": 27,
      "outputs": []
    },
    {
      "cell_type": "code",
      "source": [
        "mutacao(dominio[0:30], 2, [1,1,1,1,2,2, 2,2,3,3,3,3, 4,4,4,4,5,5, 5,5,0,0,0,0, 0,0,0,0,0,0], 0.9)"
      ],
      "metadata": {
        "colab": {
          "base_uri": "https://localhost:8080/"
        },
        "id": "x6XLd7Cw0fHZ",
        "outputId": "f3224fb2-3a3c-4672-fd43-e14bf9a77787"
      },
      "execution_count": 28,
      "outputs": [
        {
          "output_type": "execute_result",
          "data": {
            "text/plain": [
              "[1,\n",
              " 1,\n",
              " 1,\n",
              " 1,\n",
              " 2,\n",
              " 2,\n",
              " 2,\n",
              " 2,\n",
              " 3,\n",
              " 3,\n",
              " 3,\n",
              " 3,\n",
              " 4,\n",
              " 2,\n",
              " 4,\n",
              " 4,\n",
              " 5,\n",
              " 5,\n",
              " 5,\n",
              " 5,\n",
              " 0,\n",
              " 0,\n",
              " 0,\n",
              " 0,\n",
              " 0,\n",
              " 0,\n",
              " 0,\n",
              " 0,\n",
              " 0,\n",
              " 0]"
            ]
          },
          "metadata": {},
          "execution_count": 28
        }
      ]
    },
    {
      "cell_type": "markdown",
      "source": [
        "# Crossover"
      ],
      "metadata": {
        "id": "Q-T8bim57cf6"
      }
    },
    {
      "cell_type": "code",
      "source": [
        "def crossover(dominio, individuo1, individuo2):\n",
        "  gene = random.randint(1, len(dominio) - 2)\n",
        "  #print(gene)\n",
        "  return individuo1[0:gene] + individuo2[gene:]"
      ],
      "metadata": {
        "id": "qRNlIEZU50Jd"
      },
      "execution_count": 29,
      "outputs": []
    },
    {
      "cell_type": "code",
      "source": [
        "s1 = [1,1,1,1,2,2, 2,2,3,3,3,3, 4,4,4,4,5,5, 5,5,0,0,0,0, 0,0,0,0,0,0]\n",
        "s2 = [0,0,0,3,5,6, 1,1,1,1,5,5, 5,5,3,3,3,3, 1,1,2,2,2,2, 3,4,5,0,1,3]"
      ],
      "metadata": {
        "id": "FJc-V3ND8d3L"
      },
      "execution_count": 30,
      "outputs": []
    },
    {
      "cell_type": "code",
      "source": [
        "crossover(dominio, s1, s2)"
      ],
      "metadata": {
        "colab": {
          "base_uri": "https://localhost:8080/"
        },
        "id": "c5ydHKLC8hlE",
        "outputId": "eb5e3672-fe4f-491b-e698-e2e495c54f4f"
      },
      "execution_count": 31,
      "outputs": [
        {
          "output_type": "execute_result",
          "data": {
            "text/plain": [
              "[1,\n",
              " 1,\n",
              " 1,\n",
              " 1,\n",
              " 2,\n",
              " 2,\n",
              " 2,\n",
              " 1,\n",
              " 1,\n",
              " 1,\n",
              " 5,\n",
              " 5,\n",
              " 5,\n",
              " 5,\n",
              " 3,\n",
              " 3,\n",
              " 3,\n",
              " 3,\n",
              " 1,\n",
              " 1,\n",
              " 2,\n",
              " 2,\n",
              " 2,\n",
              " 2,\n",
              " 3,\n",
              " 4,\n",
              " 5,\n",
              " 0,\n",
              " 1,\n",
              " 3]"
            ]
          },
          "metadata": {},
          "execution_count": 31
        }
      ]
    },
    {
      "cell_type": "markdown",
      "source": [
        "# Algoritmo Genético Completo"
      ],
      "metadata": {
        "id": "0P_rftK69Q4Q"
      }
    },
    {
      "cell_type": "code",
      "source": [
        "import matplotlib.pyplot as plt\n",
        "%matplotlib inline\n",
        "\n",
        "\n",
        "def algoritmo_genetico(dominio, tamanho_populacao = 10, passo = 1,\n",
        "                       elitismo = 0.2, numero_geracoes = 100, probabilidade_mutacao = 0.05):\n",
        "    populacao = []\n",
        "    for i in range(tamanho_populacao):\n",
        "        #Cria aleatoriamente os indivíduos\n",
        "        individuo = gerar_cromossomo(curso[\"quantidade_turmas\"], len(dias_semana), disciplinas_dia, len(disciplinas))\n",
        "        populacao.append(individuo)\n",
        "    # print(populacao)\n",
        "    # print(len(populacao))\n",
        "    numero_elitismo = int(elitismo * tamanho_populacao)\n",
        "\n",
        "    #print('Tamanho da população: ', len(populacao))\n",
        "\n",
        "    melhor_fit = []#Guardar o melhor de cada interação\n",
        "\n",
        "    for i in range(numero_geracoes):\n",
        "        custos = [(funcao_avaliacao(individuo), individuo) for individuo in populacao]\n",
        "        # print(\"A\",custos)\n",
        "        custos.sort()\n",
        "        #print(\"B\",custos)\n",
        "        individuos_ordenados = [individuo for (custo, individuo) in custos]\n",
        "        #print(individuos_ordenados)\n",
        "        populacao = individuos_ordenados[0:numero_elitismo] # só pega o percentual dos elementos baseados no elisitmo\n",
        "        \n",
        "        while len(populacao) < tamanho_populacao:\n",
        "            i1 = random.randint(0, numero_elitismo)\n",
        "            i2 = random.randint(0, numero_elitismo)\n",
        "            #print(i1, i2, individuos_ordenados[i1], individuos_ordenados[i2])\n",
        "            novo_individuo = crossover(dominio, individuos_ordenados[i1], individuos_ordenados[i2])\n",
        "            #print(novo_individuo)\n",
        "            mutacao_novo_individuo = mutacao(dominio, passo, novo_individuo, probabilidade_mutacao)\n",
        "            #print(novo_individuo)\n",
        "            #print(mutacao_novo_individuo)\n",
        "            #print()\n",
        "            populacao.append(mutacao_novo_individuo)\n",
        "\n",
        "        #print('Tamanho da população: ', len(populacao))\n",
        "        melhor_fit.append(custos[0][0])\n",
        "    #print(custos)\n",
        "    \n",
        "    # print(melhor_fit)\n",
        "    #Plotar o gráfico\n",
        "    plt.plot(melhor_fit);\n",
        "    \n",
        "    return custos[0][1]"
      ],
      "metadata": {
        "id": "tCYVi6W787YS"
      },
      "execution_count": 37,
      "outputs": []
    },
    {
      "cell_type": "code",
      "source": [
        "solucao = algoritmo_genetico(dominio, numero_geracoes= 6000)"
      ],
      "metadata": {
        "colab": {
          "base_uri": "https://localhost:8080/",
          "height": 430
        },
        "id": "VpFI4CLnfK-c",
        "outputId": "02e5e80a-94a8-4cc3-9500-5a9868727d90"
      },
      "execution_count": 46,
      "outputs": [
        {
          "output_type": "display_data",
          "data": {
            "text/plain": [
              "<Figure size 640x480 with 1 Axes>"
            ],
            "image/png": "[encoded data removed]"
          },
          "metadata": {}
        }
      ]
    },
    {
      "cell_type": "code",
      "source": [
        "print(solucao)"
      ],
      "metadata": {
        "colab": {
          "base_uri": "https://localhost:8080/"
        },
        "id": "9SrTzFa-fSlc",
        "outputId": "5b50e9b2-dc4f-410e-a2db-79cc647f2cd1"
      },
      "execution_count": 47,
      "outputs": [
        {
          "output_type": "stream",
          "name": "stdout",
          "text": [
            "[5, 3, 5, 3, 0, 3, 0, 0, 0, 2, 0, 2, 0, 0, 2, 0, 2, 2, 0, 2, 0, 4, 4, 1, 0, 3, 3, 3, 0, 0, 0, 0, 0, 0, 0, 0, 0, 0, 0, 0, 0, 0, 0, 3, 3, 0, 3, 3, 0, 0, 5, 0, 5, 5, 4, 0, 4, 0, 0, 5, 4, 0, 4, 4, 4, 1, 3, 3, 0, 0, 4, 1, 3, 3, 0, 3, 3, 1, 2, 0, 2, 5, 5, 1, 0, 2, 2, 2, 0, 0, 0, 0, 0, 0, 3, 3, 0, 0, 0, 0, 0, 0, 0, 4, 4, 4, 0, 0, 0, 0, 0, 0, 4, 4, 0, 3, 0, 3, 3, 3, 0, 0, 0, 0, 0, 0, 2, 2, 2, 0, 2, 2, 3, 0, 3, 0, 0, 0, 0, 0, 0, 0, 0, 0, 2, 2, 0, 0, 0, 0]\n"
          ]
        }
      ]
    },
    {
      "cell_type": "code",
      "source": [
        "funcao_avaliacao(solucao)"
      ],
      "metadata": {
        "colab": {
          "base_uri": "https://localhost:8080/"
        },
        "id": "u3IdTqE2hBo2",
        "outputId": "9302de1b-643f-4890-e0c9-72a167050678"
      },
      "execution_count": 48,
      "outputs": [
        {
          "output_type": "execute_result",
          "data": {
            "text/plain": [
              "6062.0"
            ]
          },
          "metadata": {},
          "execution_count": 48
        }
      ]
    },
    {
      "cell_type": "code",
      "source": [
        "imprimir_qts(solucao)"
      ],
      "metadata": {
        "colab": {
          "base_uri": "https://localhost:8080/"
        },
        "id": "gjk12wPQhM4V",
        "outputId": "8a34f823-2cb9-473b-dbac-a3e5e5d09b5c"
      },
      "execution_count": 49,
      "outputs": [
        {
          "output_type": "stream",
          "name": "stdout",
          "text": [
            "\n",
            "1ª Turma:\n",
            "|Segunda| IA, OC, IA, OC, NA, OC|\n",
            "|Terça  | NA, NA, NA, MF, NA, MF|\n",
            "|Quarta | NA, NA, MF, NA, MF, MF|\n",
            "|Quinta | NA, MF, NA, CO, CO, SO|\n",
            "|Sexta  | NA, OC, OC, OC, NA, NA|\n",
            "\n",
            "2ª Turma:\n",
            "|Segunda| NA, NA, NA, NA, NA, NA|\n",
            "|Terça  | NA, NA, NA, NA, NA, NA|\n",
            "|Quarta | NA, OC, OC, NA, OC, OC|\n",
            "|Quinta | NA, NA, IA, NA, IA, IA|\n",
            "|Sexta  | CO, NA, CO, NA, NA, IA|\n",
            "\n",
            "3ª Turma:\n",
            "|Segunda| CO, NA, CO, CO, CO, SO|\n",
            "|Terça  | OC, OC, NA, NA, CO, SO|\n",
            "|Quarta | OC, OC, NA, OC, OC, SO|\n",
            "|Quinta | MF, NA, MF, IA, IA, SO|\n",
            "|Sexta  | NA, MF, MF, MF, NA, NA|\n",
            "\n",
            "4ª Turma:\n",
            "|Segunda| NA, NA, NA, NA, OC, OC|\n",
            "|Terça  | NA, NA, NA, NA, NA, NA|\n",
            "|Quarta | NA, CO, CO, CO, NA, NA|\n",
            "|Quinta | NA, NA, NA, NA, CO, CO|\n",
            "|Sexta  | NA, OC, NA, OC, OC, OC|\n",
            "\n",
            "5ª Turma:\n",
            "|Segunda| NA, NA, NA, NA, NA, NA|\n",
            "|Terça  | MF, MF, MF, NA, MF, MF|\n",
            "|Quarta | OC, NA, OC, NA, NA, NA|\n",
            "|Quinta | NA, NA, NA, NA, NA, NA|\n",
            "|Sexta  | MF, MF, NA, NA, NA, NA|\n",
            "\n",
            "Tempo Total de Espera Entre Aulas:  14\n"
          ]
        }
      ]
    },
    {
      "cell_type": "code",
      "source": [],
      "metadata": {
        "id": "AE7q8fxgLCvq"
      },
      "execution_count": 36,
      "outputs": []
    }
  ]
}