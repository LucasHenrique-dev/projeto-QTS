{
  "nbformat": 4,
  "nbformat_minor": 0,
  "metadata": {
    "colab": {
      "provenance": [],
      "mount_file_id": "1KU7gJXadhiN-ZSpfBcNxOhcf4LjSrln9",
      "authorship_tag": "ABX9TyPpIDFFqb7rDGxEgwcVhPMB",
      "include_colab_link": true
    },
    "kernelspec": {
      "name": "python3",
      "display_name": "Python 3"
    },
    "language_info": {
      "name": "python"
    }
  },
  "cells": [
    {
      "cell_type": "markdown",
      "metadata": {
        "id": "view-in-github",
        "colab_type": "text"
      },
      "source": [
        "<a href=\"https://colab.research.google.com/github/LucasHenrique-dev/projeto-QTS/blob/main/desenvolvimento/GeradrorQTS.ipynb\" target=\"_parent\"><img src=\"https://colab.research.google.com/assets/colab-badge.svg\" alt=\"Open In Colab\"/></a>"
      ]
    },
    {
      "cell_type": "markdown",
      "source": [
        "##Importar Bibliotecas"
      ],
      "metadata": {
        "id": "44EhQphxtKWu"
      }
    },
    {
      "cell_type": "code",
      "execution_count": 1,
      "metadata": {
        "id": "Zn3Azjpws3Cz"
      },
      "outputs": [],
      "source": [
        "import time\n",
        "import random\n",
        "import math\n",
        "import sys\n",
        "# libraries for the files in google drive\n",
        "from pydrive.auth import GoogleAuth\n",
        "from google.colab import drive\n",
        "from pydrive.drive import GoogleDrive\n",
        "from google.colab import auth\n",
        "from oauth2client.client import GoogleCredentials"
      ]
    },
    {
      "cell_type": "markdown",
      "source": [
        "## Importar Informações"
      ],
      "metadata": {
        "id": "zsnndz38D3ro"
      }
    },
    {
      "cell_type": "code",
      "source": [
        "auth.authenticate_user()\n",
        "gauth = GoogleAuth()\n",
        "gauth.credentials = GoogleCredentials.get_application_default()\n",
        "drive = GoogleDrive(gauth)\n",
        "\n",
        "file_id = '1jJflIN2sOFjynx_qS8jp27uDncMGrcpj' #<-- You add in here the id from you google drive file, you can find it\n",
        "\n",
        "\n",
        "download = drive.CreateFile({'id': file_id})\n",
        "\n",
        "\n",
        "# Download the file to a local disc\n",
        "download.GetContentFile('info_curso.txt')"
      ],
      "metadata": {
        "id": "FZqeuKpbWP3M"
      },
      "execution_count": 2,
      "outputs": []
    },
    {
      "cell_type": "markdown",
      "source": [
        "##Explorar Dados do Curso"
      ],
      "metadata": {
        "id": "nJdmfuQl-1HS"
      }
    },
    {
      "cell_type": "code",
      "source": [
        "curso = {}\n",
        "arquivo = open('/content/info_curso.txt')\n",
        "\n",
        "inicio_aulas, fim_aulas = arquivo.readline().strip().split(',')\n",
        "curso.setdefault(\"periodo_aula\", (inicio_aulas, fim_aulas))\n",
        "for linha in arquivo:\n",
        "  disciplina, hora_aula, hora_aula_semanal = linha.split(',')\n",
        "  curso.setdefault(disciplina, (int(hora_aula), int(hora_aula_semanal)))"
      ],
      "metadata": {
        "id": "FDoYu4CP-18F"
      },
      "execution_count": 3,
      "outputs": []
    },
    {
      "cell_type": "code",
      "source": [
        "curso"
      ],
      "metadata": {
        "colab": {
          "base_uri": "https://localhost:8080/"
        },
        "id": "PvjOHjo4Dz_I",
        "outputId": "ee691bf2-764d-4228-8d91-e3d168e82320"
      },
      "execution_count": 4,
      "outputs": [
        {
          "output_type": "execute_result",
          "data": {
            "text/plain": [
              "{'periodo_aula': ('7:00', '12:00'),\n",
              " 'SO': (1, 4),\n",
              " 'MF': (1, 4),\n",
              " 'OC': (1, 4),\n",
              " 'CO': (1, 4),\n",
              " 'IA': (1, 4)}"
            ]
          },
          "metadata": {},
          "execution_count": 4
        }
      ]
    },
    {
      "cell_type": "markdown",
      "source": [
        "## Funções Auxiliares"
      ],
      "metadata": {
        "id": "yJRnNtSC1s4g"
      }
    },
    {
      "cell_type": "code",
      "source": [
        "def converter_minutos(hora):\n",
        "  t = time.strptime(hora, '%H:%M')\n",
        "  minutos = t[3] * 60 + t[4]\n",
        "  return minutos"
      ],
      "metadata": {
        "id": "6pPQSTpA1xd-"
      },
      "execution_count": 5,
      "outputs": []
    },
    {
      "cell_type": "code",
      "source": [
        "# NECESSÁRIO APROMORAR A FUNÇÃO PARA ACEITAR AULAS COMEÇANDO ÀS 5 DA MANHÃ E INDO ATÉ ÀS 4 DA MANHÃ\n",
        "def calcular_disciplinas_dia(curso, segmentacao_horario):\n",
        "  inicio, fim = curso['periodo_aula']\n",
        "  inicio, fim = converter_minutos(inicio), converter_minutos(fim)\n",
        "  return ((fim - inicio)/segmentacao_horario) + 1"
      ],
      "metadata": {
        "id": "HOjxnRd02IZl"
      },
      "execution_count": 6,
      "outputs": []
    },
    {
      "cell_type": "code",
      "source": [
        "def calcular_horas_vagas(disciplinas):\n",
        "  return (''.join(disciplinas).replace(\"NA\", ' ')).strip().count(\" \")"
      ],
      "metadata": {
        "id": "XbvvQIwdm6hI"
      },
      "execution_count": 25,
      "outputs": []
    },
    {
      "cell_type": "code",
      "source": [
        "dias_semana = ['Segunda','Terça','Quarta','Quinta','Sexta']"
      ],
      "metadata": {
        "id": "Fw8b6kHf7cSV"
      },
      "execution_count": 7,
      "outputs": []
    },
    {
      "cell_type": "markdown",
      "source": [
        "## Objetivo\n",
        "\n",
        "O algoritmo visará montar um quadro de trabalho semanal contendo o menor **Tempo de Espera Entre Aulas** possível\n",
        "\n",
        "Tempo de Espera Entre Aulas: horário de aula vaga entre aulas"
      ],
      "metadata": {
        "id": "ZtJiiBm5y6Iz"
      }
    },
    {
      "cell_type": "markdown",
      "source": [
        "##Definir Cromossomo\n",
        "\n",
        "Definir a sequência genética de formação de um cromossomo\n",
        "\n",
        "Os genes determinam aspectos de um indivíduo e o cromossomo é o conjunto dessas características o qual forma o indivíduo (possível solução do problema)\n",
        "\n",
        "A ordem será os dias da semana contendo as disciplinas lecionadas no dia\n",
        "\n",
        "[Segunda:(..disciplinas), Terça:(..disciplinas), Quarta:(..disciplinas), Quinta:(..disciplinas), Sexta:(..disciplinas)]\n",
        "\n",
        "Ex.: [(SO,SO,SO,SO,MF,MF),(MF,MF,OC,OC,OC,OC),(CO,CO,CO,CO,IA,IA),(IA,IA,NA,NA,NA,NA),(NA,NA,NA,NA,NA,NA)]"
      ],
      "metadata": {
        "id": "L9vgHiG_KAc0"
      }
    },
    {
      "cell_type": "code",
      "source": [
        "disciplinas = {0:('NA', 'Horário Vago'),\n",
        "               1:('SO', 'Sistemas Operacionais'),\n",
        "               2:('MF', 'Métodos Formais'),\n",
        "               3:('OC', 'Organização de Computadores'),\n",
        "               4:('CO', 'Compiladores'),\n",
        "               5:('IA', 'Inteligência Artificial')}\n",
        "\n",
        "segmentacao_horario = 60                                                          # Divisão do horário no QTS (minutos)\n",
        "disciplinas_dia = int(calcular_disciplinas_dia(curso, segmentacao_horario))       # Retorna quantidade de sessões destinadas às disciplinas em um dia"
      ],
      "metadata": {
        "id": "9YHLBelcF-42"
      },
      "execution_count": 8,
      "outputs": []
    },
    {
      "cell_type": "markdown",
      "source": [
        "##Impressão de Quadro de Trabalho Semanal"
      ],
      "metadata": {
        "id": "55VE4w9OupHM"
      }
    },
    {
      "cell_type": "code",
      "source": [
        "def imprimir_qts(calendario):\n",
        "  dia_id = 0\n",
        "  espera_total = 0\n",
        "  for i in range((len(calendario) ) // disciplinas_dia):\n",
        "      dia = dias_semana[i]\n",
        "      comeco_semana = i*disciplinas_dia\n",
        "      \n",
        "      disciplinas_semana = calendario[comeco_semana:comeco_semana+disciplinas_dia]                        # coleta as disciplinas da semana\n",
        "      ordem_disciplinas = [disciplinas[disciplina][0] for disciplina in disciplinas_semana]               # traduz números em disciplinas\n",
        "\n",
        "      dia_id += 1                                                                                         # próximo dia da semana\n",
        "      print(f'|{dia:7}| {\", \".join(ordem_disciplinas)}|')\n",
        "      \n",
        "      espera_total += calcular_horas_vagas(ordem_disciplinas)\n",
        "\n",
        "  print('\\nTempo Total de Espera Entre Aulas: ', espera_total)"
      ],
      "metadata": {
        "id": "I9r16GTDuu61"
      },
      "execution_count": 30,
      "outputs": []
    },
    {
      "cell_type": "code",
      "source": [
        "imprimir_qts([1,1,1,1,2,2, 2,2,3,3,3,3, 4,4,4,4,5,5, 5,5,0,0,0,0, 0,0,0,0,0,0])"
      ],
      "metadata": {
        "colab": {
          "base_uri": "https://localhost:8080/"
        },
        "id": "o8snYnpCu6GK",
        "outputId": "e2cb7551-2624-4f38-90cd-c7ad89ca9547"
      },
      "execution_count": 31,
      "outputs": [
        {
          "output_type": "stream",
          "name": "stdout",
          "text": [
            "|Segunda| SO, SO, SO, SO, MF, MF|\n",
            "|Terça  | MF, MF, OC, OC, OC, OC|\n",
            "|Quarta | CO, CO, CO, CO, IA, IA|\n",
            "|Quinta | IA, IA, NA, NA, NA, NA|\n",
            "|Sexta  | NA, NA, NA, NA, NA, NA|\n",
            "\n",
            "Tempo Total de Espera Entre Aulas:  0\n"
          ]
        }
      ]
    },
    {
      "cell_type": "code",
      "source": [],
      "metadata": {
        "id": "bdFqEYUee0qy"
      },
      "execution_count": 10,
      "outputs": []
    }
  ]
}