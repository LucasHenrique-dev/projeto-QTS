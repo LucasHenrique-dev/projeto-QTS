{
  "nbformat": 4,
  "nbformat_minor": 0,
  "metadata": {
    "colab": {
      "provenance": [],
      "mount_file_id": "1KU7gJXadhiN-ZSpfBcNxOhcf4LjSrln9",
      "authorship_tag": "ABX9TyMyXyEl3QjWnGVu4n43QXhL",
      "include_colab_link": true
    },
    "kernelspec": {
      "name": "python3",
      "display_name": "Python 3"
    },
    "language_info": {
      "name": "python"
    }
  },
  "cells": [
    {
      "cell_type": "markdown",
      "metadata": {
        "id": "view-in-github",
        "colab_type": "text"
      },
      "source": [
        "<a href=\"https://colab.research.google.com/github/LucasHenrique-dev/projeto-QTS/blob/main/desenvolvimento/GeradrorQTS.ipynb\" target=\"_parent\"><img src=\"https://colab.research.google.com/assets/colab-badge.svg\" alt=\"Open In Colab\"/></a>"
      ]
    },
    {
      "cell_type": "markdown",
      "source": [
        "##Importar Bibliotecas"
      ],
      "metadata": {
        "id": "44EhQphxtKWu"
      }
    },
    {
      "cell_type": "code",
      "execution_count": 1,
      "metadata": {
        "id": "Zn3Azjpws3Cz"
      },
      "outputs": [],
      "source": [
        "import time\n",
        "import random\n",
        "import math\n",
        "import sys\n",
        "import json\n",
        "# libraries for the files in google drive\n",
        "from pydrive.auth import GoogleAuth\n",
        "from google.colab import drive\n",
        "from pydrive.drive import GoogleDrive\n",
        "from google.colab import auth\n",
        "from oauth2client.client import GoogleCredentials"
      ]
    },
    {
      "cell_type": "markdown",
      "source": [
        "## Importar Informações"
      ],
      "metadata": {
        "id": "zsnndz38D3ro"
      }
    },
    {
      "cell_type": "code",
      "source": [
        "auth.authenticate_user()\n",
        "gauth = GoogleAuth()\n",
        "gauth.credentials = GoogleCredentials.get_application_default()\n",
        "drive = GoogleDrive(gauth)\n",
        "\n",
        "file_id = '1Zv5i7SI4MMgMzSQjeBIS9q2AMAkbA0bX' #<-- You add in here the id from you google drive file, you can find it\n",
        "\n",
        "\n",
        "download = drive.CreateFile({'id': file_id})\n",
        "\n",
        "\n",
        "# Download the file to a local disc\n",
        "download.GetContentFile('info_curso.json')"
      ],
      "metadata": {
        "id": "FZqeuKpbWP3M"
      },
      "execution_count": 2,
      "outputs": []
    },
    {
      "cell_type": "markdown",
      "source": [
        "##Explorar Dados do Curso"
      ],
      "metadata": {
        "id": "nJdmfuQl-1HS"
      }
    },
    {
      "cell_type": "code",
      "source": [
        "arquivo = open('/content/info_curso.json')\n",
        "curso = json.load(arquivo)\n",
        "\n",
        "print(json.dumps(curso, indent=4))"
      ],
      "metadata": {
        "colab": {
          "base_uri": "https://localhost:8080/"
        },
        "id": "HR2Yxd4YAWPj",
        "outputId": "7c398c4b-4f11-4135-afdc-a17c62e0ec52"
      },
      "execution_count": 3,
      "outputs": [
        {
          "output_type": "stream",
          "name": "stdout",
          "text": [
            "{\n",
            "    \"horario_inicio\": \"7:00\",\n",
            "    \"horario_fim\": \"12:00\",\n",
            "    \"quantidade_turmas\": 5,\n",
            "    \"disciplinas\": {\n",
            "        \"SO\": {\n",
            "            \"nome\": \"Sistemas Operacionais\",\n",
            "            \"hora_aula\": 1,\n",
            "            \"carga_horaria_semanal\": 4\n",
            "        },\n",
            "        \"MF\": {\n",
            "            \"nome\": \"M\\u00e9todos Formais\",\n",
            "            \"hora_aula\": 1,\n",
            "            \"carga_horaria_semanal\": 4\n",
            "        },\n",
            "        \"OC\": {\n",
            "            \"nome\": \"Organiza\\u00e7\\u00e3o de Computadores\",\n",
            "            \"hora_aula\": 1,\n",
            "            \"carga_horaria_semanal\": 4\n",
            "        },\n",
            "        \"CO\": {\n",
            "            \"nome\": \"Compiladores\",\n",
            "            \"hora_aula\": 1,\n",
            "            \"carga_horaria_semanal\": 4\n",
            "        },\n",
            "        \"IA\": {\n",
            "            \"nome\": \"Intelig\\u00eancia Artificial\",\n",
            "            \"hora_aula\": 1,\n",
            "            \"carga_horaria_semanal\": 4\n",
            "        }\n",
            "    }\n",
            "}\n"
          ]
        }
      ]
    },
    {
      "cell_type": "code",
      "source": [
        "disciplinas = {}\n",
        "\n",
        "disciplinas[0] = ('NA', 'Horário Vago')\n",
        "for index, disciplina in enumerate(curso[\"disciplinas\"].items()):\n",
        "  disciplinas[index+1] = (disciplina[0], disciplina[1][\"nome\"])\n",
        "\n",
        "disciplinas"
      ],
      "metadata": {
        "colab": {
          "base_uri": "https://localhost:8080/"
        },
        "id": "jH4q2R88IrPP",
        "outputId": "f54b6a90-8c32-4658-bbfb-edb7ebdf0e5b"
      },
      "execution_count": 30,
      "outputs": [
        {
          "output_type": "execute_result",
          "data": {
            "text/plain": [
              "{0: ('NA', 'Horário Vago'),\n",
              " 1: ('SO', 'Sistemas Operacionais'),\n",
              " 2: ('MF', 'Métodos Formais'),\n",
              " 3: ('OC', 'Organização de Computadores'),\n",
              " 4: ('CO', 'Compiladores'),\n",
              " 5: ('IA', 'Inteligência Artificial')}"
            ]
          },
          "metadata": {},
          "execution_count": 30
        }
      ]
    },
    {
      "cell_type": "markdown",
      "source": [
        "## Funções Auxiliares"
      ],
      "metadata": {
        "id": "yJRnNtSC1s4g"
      }
    },
    {
      "cell_type": "code",
      "source": [
        "def converter_minutos(hora):\n",
        "  t = time.strptime(hora, '%H:%M')\n",
        "  minutos = t[3] * 60 + t[4]\n",
        "  return minutos"
      ],
      "metadata": {
        "id": "6pPQSTpA1xd-"
      },
      "execution_count": 4,
      "outputs": []
    },
    {
      "cell_type": "code",
      "source": [
        "# NECESSÁRIO APROMORAR A FUNÇÃO PARA ACEITAR AULAS COMEÇANDO ÀS 5 DA MANHÃ E INDO ATÉ ÀS 4 DA MANHÃ\n",
        "def calcular_disciplinas_dia(curso, segmentacao_horario):\n",
        "  inicio, fim = curso['horario_inicio'], curso['horario_fim']\n",
        "  inicio, fim = converter_minutos(inicio), converter_minutos(fim)\n",
        "  return ((fim - inicio)/segmentacao_horario) + 1"
      ],
      "metadata": {
        "id": "HOjxnRd02IZl"
      },
      "execution_count": 33,
      "outputs": []
    },
    {
      "cell_type": "code",
      "source": [
        "def calcular_horas_vagas(disciplinas):\n",
        "  return (''.join(disciplinas).replace(\"NA\", ' ')).strip().count(\" \")"
      ],
      "metadata": {
        "id": "XbvvQIwdm6hI"
      },
      "execution_count": 6,
      "outputs": []
    },
    {
      "cell_type": "code",
      "source": [
        "dias_semana = ['Segunda','Terça','Quarta','Quinta','Sexta']"
      ],
      "metadata": {
        "id": "Fw8b6kHf7cSV"
      },
      "execution_count": 7,
      "outputs": []
    },
    {
      "cell_type": "markdown",
      "source": [
        "## Objetivo\n",
        "\n",
        "O algoritmo visará montar um quadro de trabalho semanal contendo o menor **Tempo de Espera Entre Aulas** possível\n",
        "\n",
        "Tempo de Espera Entre Aulas: horário de aula vaga entre aulas"
      ],
      "metadata": {
        "id": "ZtJiiBm5y6Iz"
      }
    },
    {
      "cell_type": "markdown",
      "source": [
        "##Definir Cromossomo\n",
        "\n",
        "Definir a sequência genética de formação de um cromossomo\n",
        "\n",
        "Os genes determinam aspectos de um indivíduo e o cromossomo é o conjunto dessas características o qual forma o indivíduo (possível solução do problema)\n",
        "\n",
        "A ordem será os dias da semana contendo as disciplinas lecionadas no dia\n",
        "\n",
        "[Segunda:(..disciplinas), Terça:(..disciplinas), Quarta:(..disciplinas), Quinta:(..disciplinas), Sexta:(..disciplinas)]\n",
        "\n",
        "Ex.: [(SO,SO,SO,SO,MF,MF),(MF,MF,OC,OC,OC,OC),(CO,CO,CO,CO,IA,IA),(IA,IA,NA,NA,NA,NA),(NA,NA,NA,NA,NA,NA)]"
      ],
      "metadata": {
        "id": "L9vgHiG_KAc0"
      }
    },
    {
      "cell_type": "code",
      "source": [
        "segmentacao_horario = 60                                                          # Divisão do horário no QTS (minutos)\n",
        "disciplinas_dia = int(calcular_disciplinas_dia(curso, segmentacao_horario))       # Retorna quantidade de sessões destinadas às disciplinas em um dia"
      ],
      "metadata": {
        "id": "9YHLBelcF-42"
      },
      "execution_count": 34,
      "outputs": []
    },
    {
      "cell_type": "markdown",
      "source": [
        "##Impressão de Quadro de Trabalho Semanal"
      ],
      "metadata": {
        "id": "55VE4w9OupHM"
      }
    },
    {
      "cell_type": "code",
      "source": [
        "def imprimir_qts(calendario):\n",
        "  dia_id = 0\n",
        "  espera_total = 0\n",
        "  for i in range((len(calendario) ) // disciplinas_dia):\n",
        "      dia = dias_semana[i]\n",
        "      comeco_semana = i*disciplinas_dia\n",
        "      \n",
        "      disciplinas_semana = calendario[comeco_semana:comeco_semana+disciplinas_dia]                        # coleta as disciplinas da semana\n",
        "      ordem_disciplinas = [disciplinas[disciplina][0] for disciplina in disciplinas_semana]               # traduz números em disciplinas\n",
        "\n",
        "      dia_id += 1                                                                                         # próximo dia da semana\n",
        "      print(f'|{dia:7}| {\", \".join(ordem_disciplinas)}|')\n",
        "      \n",
        "      espera_total += calcular_horas_vagas(ordem_disciplinas)\n",
        "\n",
        "  print('\\nTempo Total de Espera Entre Aulas: ', espera_total)"
      ],
      "metadata": {
        "id": "I9r16GTDuu61"
      },
      "execution_count": 35,
      "outputs": []
    },
    {
      "cell_type": "code",
      "source": [
        "imprimir_qts([1,1,1,1,2,2, 2,2,3,3,3,3, 4,4,4,4,5,5, 5,5,0,0,0,0, 0,0,0,0,0,0])"
      ],
      "metadata": {
        "colab": {
          "base_uri": "https://localhost:8080/"
        },
        "id": "o8snYnpCu6GK",
        "outputId": "c6a59d9a-8c84-478c-d5b6-6cf0f4525af8"
      },
      "execution_count": 36,
      "outputs": [
        {
          "output_type": "stream",
          "name": "stdout",
          "text": [
            "|Segunda| SO, SO, SO, SO, MF, MF|\n",
            "|Terça  | MF, MF, OC, OC, OC, OC|\n",
            "|Quarta | CO, CO, CO, CO, IA, IA|\n",
            "|Quinta | IA, IA, NA, NA, NA, NA|\n",
            "|Sexta  | NA, NA, NA, NA, NA, NA|\n",
            "\n",
            "Tempo Total de Espera Entre Aulas:  0\n"
          ]
        }
      ]
    },
    {
      "cell_type": "markdown",
      "source": [
        "# Função de Avaliação (Fitness Function)\n",
        "Definir algoritmo que atribua uma pontuação ao indivíduo gerado (possível solução) baseado no objetivo estabelecido"
      ],
      "metadata": {
        "id": "vcpW2xs3woJf"
      }
    },
    {
      "cell_type": "code",
      "source": [
        "def funcao_avaliacao(calendario):\n",
        "  horas_vagas = 0\n",
        "  primeira_aula = 0\n",
        "  ultima_aula = 0\n",
        "\n",
        "  for i in range(0, len(calendario), disciplinas_dia):\n",
        "    aulas = calendario[i:i+disciplinas_dia]\n",
        "    aulas_nao_vagas = [pos for pos, aula in enumerate(aulas, 0) if aula != 0]\n",
        "\n",
        "    if len(aulas_nao_vagas) > 0:\n",
        "      primeira_aula = aulas_nao_vagas[0]      #coleta o index da primeira aula não vaga\n",
        "      ultima_aula = aulas_nao_vagas[-1]       #coleta o index da última aula não vaga\n",
        "    else:\n",
        "      primeira_aula = disciplinas_dia         #define a primeira aula como a última do dia\n",
        "    \n",
        "    # print(\"Inicio: \", primeira_aula, \"\\nFim: \", ultima_aula, \"\\nSemana: \", aulas[primeira_aula:ultima_aula+1])\n",
        "    horas_vagas += aulas[primeira_aula:ultima_aula+1].count(0)\n",
        "  \n",
        "  return horas_vagas"
      ],
      "metadata": {
        "id": "bdFqEYUee0qy"
      },
      "execution_count": null,
      "outputs": []
    },
    {
      "cell_type": "code",
      "source": [
        "funcao_avaliacao([1,1,0,0,2,0, 2,2,0,3,0,3, 0,4,4,4,5,0, 5,5,0,0,0,0, 0,0,0,0,0,0])"
      ],
      "metadata": {
        "id": "8-PjSbHLBbt7",
        "colab": {
          "base_uri": "https://localhost:8080/"
        },
        "outputId": "3f765761-6dc2-4393-9734-8d814e7b3499"
      },
      "execution_count": null,
      "outputs": [
        {
          "output_type": "execute_result",
          "data": {
            "text/plain": [
              "4"
            ]
          },
          "metadata": {},
          "execution_count": 141
        }
      ]
    },
    {
      "cell_type": "markdown",
      "source": [
        "##Criar o Domínio de Variação dos Genes"
      ],
      "metadata": {
        "id": "eL1f_FP-xANt"
      }
    },
    {
      "cell_type": "code",
      "source": [
        "dominio = [(0, len(disciplinas)-1)] * (len(dias_semana) * len(disciplinas))\n",
        "dominio, len(dominio)"
      ],
      "metadata": {
        "colab": {
          "base_uri": "https://localhost:8080/"
        },
        "id": "AW07CZuFxA6j",
        "outputId": "c29304a9-51d6-4f4d-c438-6b616b084124"
      },
      "execution_count": null,
      "outputs": [
        {
          "output_type": "execute_result",
          "data": {
            "text/plain": [
              "([(0, 5),\n",
              "  (0, 5),\n",
              "  (0, 5),\n",
              "  (0, 5),\n",
              "  (0, 5),\n",
              "  (0, 5),\n",
              "  (0, 5),\n",
              "  (0, 5),\n",
              "  (0, 5),\n",
              "  (0, 5),\n",
              "  (0, 5),\n",
              "  (0, 5),\n",
              "  (0, 5),\n",
              "  (0, 5),\n",
              "  (0, 5),\n",
              "  (0, 5),\n",
              "  (0, 5),\n",
              "  (0, 5),\n",
              "  (0, 5),\n",
              "  (0, 5),\n",
              "  (0, 5),\n",
              "  (0, 5),\n",
              "  (0, 5),\n",
              "  (0, 5),\n",
              "  (0, 5),\n",
              "  (0, 5),\n",
              "  (0, 5),\n",
              "  (0, 5),\n",
              "  (0, 5),\n",
              "  (0, 5)],\n",
              " 30)"
            ]
          },
          "metadata": {},
          "execution_count": 14
        }
      ]
    },
    {
      "cell_type": "markdown",
      "source": [
        "# Mutação"
      ],
      "metadata": {
        "id": "2Npp9cugy-in"
      }
    },
    {
      "cell_type": "code",
      "source": [
        "def mutacao(dominio, passo, calendario, probabilidade):\n",
        "  gene = random.randint(0, len(dominio) - 1)      #Escolha do gene que sofrerá a mutação\n",
        "  mutante = calendario\n",
        "  #print(\"Gene: \", gene)\n",
        "  #Joga um número aleatório para verificar se haverá mutação.\n",
        "  if random.random() < probabilidade:\n",
        "    if calendario[gene] != dominio[gene][0]:    #Verifica borda inferior\n",
        "      mutante = calendario[0:gene] + [calendario[gene] - passo] + calendario[gene + 1:]\n",
        "    elif calendario[gene] != dominio[gene][1]:  #Verifica borda superior\n",
        "      mutante = calendario[0:gene] + [calendario[gene] + passo] + calendario[gene + 1:]\n",
        "  return mutante"
      ],
      "metadata": {
        "id": "5RAZcpBWy_gb"
      },
      "execution_count": null,
      "outputs": []
    },
    {
      "cell_type": "code",
      "source": [
        "mutacao(dominio, 2, [1,1,1,1,2,2, 2,2,3,3,3,3, 4,4,4,4,5,5, 5,5,0,0,0,0, 0,0,0,0,0,0], 0.9)"
      ],
      "metadata": {
        "colab": {
          "base_uri": "https://localhost:8080/"
        },
        "id": "x6XLd7Cw0fHZ",
        "outputId": "92d10453-b4ec-4126-f8f9-bda5ab0c154c"
      },
      "execution_count": null,
      "outputs": [
        {
          "output_type": "execute_result",
          "data": {
            "text/plain": [
              "[1,\n",
              " 1,\n",
              " 1,\n",
              " 1,\n",
              " 2,\n",
              " 2,\n",
              " 2,\n",
              " 2,\n",
              " 3,\n",
              " 3,\n",
              " 3,\n",
              " 3,\n",
              " 4,\n",
              " 4,\n",
              " 4,\n",
              " 4,\n",
              " 5,\n",
              " 5,\n",
              " 5,\n",
              " 5,\n",
              " 0,\n",
              " 0,\n",
              " 0,\n",
              " 0,\n",
              " 0,\n",
              " 0,\n",
              " 0,\n",
              " 0,\n",
              " 0,\n",
              " 2]"
            ]
          },
          "metadata": {},
          "execution_count": 26
        }
      ]
    },
    {
      "cell_type": "markdown",
      "source": [
        "# Crossover"
      ],
      "metadata": {
        "id": "Q-T8bim57cf6"
      }
    },
    {
      "cell_type": "code",
      "source": [
        "def crossover(dominio, individuo1, individuo2):\n",
        "  gene = random.randint(1, len(dominio) - 2)\n",
        "  #print(gene)\n",
        "  return individuo1[0:gene] + individuo2[gene:]"
      ],
      "metadata": {
        "id": "qRNlIEZU50Jd"
      },
      "execution_count": null,
      "outputs": []
    },
    {
      "cell_type": "code",
      "source": [
        "s1 = [1,1,1,1,2,2, 2,2,3,3,3,3, 4,4,4,4,5,5, 5,5,0,0,0,0, 0,0,0,0,0,0]\n",
        "s2 = [0,0,0,3,5,6, 1,1,1,1,5,5, 5,5,3,3,3,3, 1,1,2,2,2,2, 3,4,5,0,1,3]"
      ],
      "metadata": {
        "id": "FJc-V3ND8d3L"
      },
      "execution_count": null,
      "outputs": []
    },
    {
      "cell_type": "code",
      "source": [
        "crossover(dominio, s1, s2)"
      ],
      "metadata": {
        "colab": {
          "base_uri": "https://localhost:8080/"
        },
        "id": "c5ydHKLC8hlE",
        "outputId": "f260d630-3548-400d-e981-7672c01a6eaf"
      },
      "execution_count": null,
      "outputs": [
        {
          "output_type": "execute_result",
          "data": {
            "text/plain": [
              "[1,\n",
              " 1,\n",
              " 1,\n",
              " 1,\n",
              " 5,\n",
              " 6,\n",
              " 1,\n",
              " 1,\n",
              " 1,\n",
              " 1,\n",
              " 5,\n",
              " 5,\n",
              " 5,\n",
              " 5,\n",
              " 3,\n",
              " 3,\n",
              " 3,\n",
              " 3,\n",
              " 1,\n",
              " 1,\n",
              " 2,\n",
              " 2,\n",
              " 2,\n",
              " 2,\n",
              " 3,\n",
              " 4,\n",
              " 5,\n",
              " 0,\n",
              " 1,\n",
              " 3]"
            ]
          },
          "metadata": {},
          "execution_count": 29
        }
      ]
    },
    {
      "cell_type": "markdown",
      "source": [
        "# Algoritmo Genético Completo"
      ],
      "metadata": {
        "id": "0P_rftK69Q4Q"
      }
    },
    {
      "cell_type": "code",
      "source": [],
      "metadata": {
        "id": "tCYVi6W787YS"
      },
      "execution_count": null,
      "outputs": []
    }
  ]
}