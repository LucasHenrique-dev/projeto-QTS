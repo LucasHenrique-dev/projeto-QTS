{
  "nbformat": 4,
  "nbformat_minor": 0,
  "metadata": {
    "colab": {
      "provenance": [],
      "include_colab_link": true
    },
    "kernelspec": {
      "name": "python3",
      "display_name": "Python 3"
    },
    "language_info": {
      "name": "python"
    }
  },
  "cells": [
    {
      "cell_type": "markdown",
      "metadata": {
        "id": "view-in-github",
        "colab_type": "text"
      },
      "source": [
        "<a href=\"https://colab.research.google.com/github/LucasHenrique-dev/projeto-QTS/blob/main/desenvolvimento/GeradrorQTS.ipynb\" target=\"_parent\"><img src=\"https://colab.research.google.com/assets/colab-badge.svg\" alt=\"Open In Colab\"/></a>"
      ]
    },
    {
      "cell_type": "markdown",
      "source": [
        "##Importar Bibliotecas"
      ],
      "metadata": {
        "id": "44EhQphxtKWu"
      }
    },
    {
      "cell_type": "code",
      "execution_count": 83,
      "metadata": {
        "id": "Zn3Azjpws3Cz"
      },
      "outputs": [],
      "source": [
        "import time\n",
        "import random\n",
        "import math\n",
        "import sys\n",
        "import json\n",
        "# libraries for the files in google drive\n",
        "from pydrive.auth import GoogleAuth\n",
        "from google.colab import drive\n",
        "from pydrive.drive import GoogleDrive\n",
        "from google.colab import auth\n",
        "from oauth2client.client import GoogleCredentials"
      ]
    },
    {
      "cell_type": "markdown",
      "source": [
        "## Importar Informações"
      ],
      "metadata": {
        "id": "zsnndz38D3ro"
      }
    },
    {
      "cell_type": "code",
      "source": [
        "auth.authenticate_user()\n",
        "gauth = GoogleAuth()\n",
        "gauth.credentials = GoogleCredentials.get_application_default()\n",
        "drive = GoogleDrive(gauth)\n",
        "\n",
        "file_id = '1Zv5i7SI4MMgMzSQjeBIS9q2AMAkbA0bX' #<-- You add in here the id from you google drive file, you can find it\n",
        "\n",
        "\n",
        "download = drive.CreateFile({'id': file_id})\n",
        "\n",
        "\n",
        "# Download the file to a local disc\n",
        "download.GetContentFile('info_curso.json')"
      ],
      "metadata": {
        "id": "FZqeuKpbWP3M"
      },
      "execution_count": 84,
      "outputs": []
    },
    {
      "cell_type": "markdown",
      "source": [
        "##Explorar Dados do Curso"
      ],
      "metadata": {
        "id": "nJdmfuQl-1HS"
      }
    },
    {
      "cell_type": "code",
      "source": [
        "arquivo = open('/content/info_curso.json')\n",
        "curso = json.load(arquivo)\n",
        "\n",
        "print(json.dumps(curso, indent=4))"
      ],
      "metadata": {
        "colab": {
          "base_uri": "https://localhost:8080/"
        },
        "id": "HR2Yxd4YAWPj",
        "outputId": "dce99b7f-c685-4724-8788-0b761f699ea7"
      },
      "execution_count": 85,
      "outputs": [
        {
          "output_type": "stream",
          "name": "stdout",
          "text": [
            "{\n",
            "    \"horario_inicio\": \"7:00\",\n",
            "    \"horario_fim\": \"12:00\",\n",
            "    \"quantidade_turmas\": 5,\n",
            "    \"maximo_aulas_dia\": 2,\n",
            "    \"disciplinas\": {\n",
            "        \"SO\": {\n",
            "            \"nome\": \"Sistemas Operacionais\",\n",
            "            \"hora_aula\": 1,\n",
            "            \"carga_horaria_semanal\": 4\n",
            "        },\n",
            "        \"MF\": {\n",
            "            \"nome\": \"M\\u00e9todos Formais\",\n",
            "            \"hora_aula\": 1,\n",
            "            \"carga_horaria_semanal\": 4\n",
            "        },\n",
            "        \"OC\": {\n",
            "            \"nome\": \"Organiza\\u00e7\\u00e3o de Computadores\",\n",
            "            \"hora_aula\": 1,\n",
            "            \"carga_horaria_semanal\": 4\n",
            "        },\n",
            "        \"CO\": {\n",
            "            \"nome\": \"Compiladores\",\n",
            "            \"hora_aula\": 1,\n",
            "            \"carga_horaria_semanal\": 4\n",
            "        },\n",
            "        \"IA\": {\n",
            "            \"nome\": \"Intelig\\u00eancia Artificial\",\n",
            "            \"hora_aula\": 1,\n",
            "            \"carga_horaria_semanal\": 4\n",
            "        }\n",
            "    }\n",
            "}\n"
          ]
        }
      ]
    },
    {
      "cell_type": "code",
      "source": [
        "disciplinas = {0: ('NA', 'Horário Vago')}\n",
        "\n",
        "for index, disciplina in enumerate(curso[\"disciplinas\"].items()):\n",
        "  disciplinas[index+1] = (disciplina[0], disciplina[1][\"nome\"])\n",
        "\n",
        "disciplinas"
      ],
      "metadata": {
        "colab": {
          "base_uri": "https://localhost:8080/"
        },
        "id": "jH4q2R88IrPP",
        "outputId": "e93508fb-2bbc-4112-c174-d6e6fc68df57"
      },
      "execution_count": 86,
      "outputs": [
        {
          "output_type": "execute_result",
          "data": {
            "text/plain": [
              "{0: ('NA', 'Horário Vago'),\n",
              " 1: ('SO', 'Sistemas Operacionais'),\n",
              " 2: ('MF', 'Métodos Formais'),\n",
              " 3: ('OC', 'Organização de Computadores'),\n",
              " 4: ('CO', 'Compiladores'),\n",
              " 5: ('IA', 'Inteligência Artificial')}"
            ]
          },
          "metadata": {},
          "execution_count": 86
        }
      ]
    },
    {
      "cell_type": "markdown",
      "source": [
        "## Funções e Veriáveis Auxiliares"
      ],
      "metadata": {
        "id": "yJRnNtSC1s4g"
      }
    },
    {
      "cell_type": "code",
      "source": [
        "def converter_minutos(hora):\n",
        "  t = time.strptime(hora, '%H:%M')\n",
        "  minutos = t[3] * 60 + t[4]\n",
        "  return minutos"
      ],
      "metadata": {
        "id": "6pPQSTpA1xd-"
      },
      "execution_count": 87,
      "outputs": []
    },
    {
      "cell_type": "code",
      "source": [
        "def calcular_disciplinas_dia(curso, segmentacao_horario):\n",
        "  inicio, fim = curso['horario_inicio'], curso['horario_fim']\n",
        "  inicio, fim = converter_minutos(inicio), converter_minutos(fim)\n",
        "  return ((fim - inicio)/segmentacao_horario) + 1"
      ],
      "metadata": {
        "id": "HOjxnRd02IZl"
      },
      "execution_count": 88,
      "outputs": []
    },
    {
      "cell_type": "code",
      "source": [
        "dias_semana = ['Segunda','Terça','Quarta','Quinta','Sexta']"
      ],
      "metadata": {
        "id": "Fw8b6kHf7cSV"
      },
      "execution_count": 89,
      "outputs": []
    },
    {
      "cell_type": "markdown",
      "source": [
        "## Objetivos e Restrições do Sistema\n",
        "\n",
        "O algoritmo visa montar um quadro de trabalho semanal (QTS) que otimize certos aspectos\n",
        "\n",
        "- Objetivos:\n",
        "  - Menor Tempo de Espera Entre Aulas: horário de aula vaga entre aulas da mesma disciplina\n",
        "\n",
        "Além disso, deverá respeitar certas restrições\n",
        "\n",
        "- Restrições:\n",
        "  - Hora aula semanal: cada disciplina possui uma carga horária que deve ser cumprida ao longo da semana\n",
        "  - Aulas conjuntas: disciplinas devem ser lecionadas em forma de grupos. Ex.: 2 aulas seguidas da disciplina A, 3 aulas seguidas da disciplina B...\n"
      ],
      "metadata": {
        "id": "ZtJiiBm5y6Iz"
      }
    },
    {
      "cell_type": "markdown",
      "source": [
        "## Funções de Avaliação"
      ],
      "metadata": {
        "id": "l8WIcxG1n01G"
      }
    },
    {
      "cell_type": "markdown",
      "source": [
        "### Avaliar Objetivos"
      ],
      "metadata": {
        "id": "P-FYF8HLsdRm"
      }
    },
    {
      "cell_type": "markdown",
      "source": [
        "#### OBJETIVO 1: TEMPO DE OCIOSIDADE ENTRE AULAS DE MESMA DISCIPLINA"
      ],
      "metadata": {
        "id": "-ZP8QAZtdmGT"
      }
    },
    {
      "cell_type": "code",
      "source": [
        "def calcular_horas_vagas(aulas):\n",
        "  disciplinas = set(aulas);\n",
        "  aula_vaga = 0\n",
        "\n",
        "  for disciplina in disciplinas:\n",
        "    if disciplina == 0:                                                         #Ignora aulas vagas\n",
        "      continue\n",
        "\n",
        "    aula_atual = 0\n",
        "    proxima_aula = 1\n",
        "    while aulas[proxima_aula:].count(disciplina) > 1:                           #Calcula horas vagas de uma disciplina\n",
        "      # print(\"Aula Atual: \", aula_atual, \"     Proxima Aula: \", proxima_aula)\n",
        "      aula_atual = aulas.index(disciplina, proxima_aula)\n",
        "      proxima_aula = aulas.index(disciplina, aula_atual+1)\n",
        "\n",
        "      aula_vaga += proxima_aula - (aula_atual + 1)\n",
        "\n",
        "  return aula_vaga"
      ],
      "metadata": {
        "id": "QuJwSSNL_unu"
      },
      "execution_count": 90,
      "outputs": []
    },
    {
      "cell_type": "code",
      "source": [
        "calcular_horas_vagas([0, 0, 2, 2, 0])"
      ],
      "metadata": {
        "colab": {
          "base_uri": "https://localhost:8080/"
        },
        "id": "01G41nwgA_gr",
        "outputId": "d09453e9-b1e8-405a-d900-373268c77410"
      },
      "execution_count": 91,
      "outputs": [
        {
          "output_type": "execute_result",
          "data": {
            "text/plain": [
              "0"
            ]
          },
          "metadata": {},
          "execution_count": 91
        }
      ]
    },
    {
      "cell_type": "markdown",
      "source": [
        "### Avaliar Restrições"
      ],
      "metadata": {
        "id": "ZO8pOeZHspHd"
      }
    },
    {
      "cell_type": "markdown",
      "source": [
        "#### RESTRIÇÃO 2: AULAS CONJUNTAS"
      ],
      "metadata": {
        "id": "lPk1KUGDdx-J"
      }
    },
    {
      "cell_type": "code",
      "source": [
        "def calcular_aulas_esparsas(aulas, agrupamento):\n",
        "  tamanho_grupo_aulas = aulas_esparsas = count = 0\n",
        "  indices = [0]\n",
        "\n",
        "  while count <= len(aulas) - agrupamento:\n",
        "    if aulas[count] == 0:                                             #Não agrupa aulas vagas\n",
        "      count += 1\n",
        "      indices += [count]\n",
        "      continue\n",
        "\n",
        "    tamanho_grupo_aulas = len(set(aulas[count:count+agrupamento]))\n",
        "   \n",
        "    if 0 in aulas[count:count+agrupamento]:                           #Ignora aulas vagas\n",
        "      # print(\"Grupo Aula Vaga:\", aulas[count:count+agrupamento])\n",
        "      aulas_esparsas += tamanho_grupo_aulas - 1\n",
        "      count += 1\n",
        "    elif tamanho_grupo_aulas == 1:                                    #Aulas agrupadas\n",
        "      # print(\"Grupo:\", aulas[count:count+agrupamento])\n",
        "      count += agrupamento\n",
        "    else:                                                             #Aulas não agrupadas\n",
        "      # print(\"Não Grupo:\", aulas[count:count+agrupamento])\n",
        "      aulas_esparsas += tamanho_grupo_aulas\n",
        "      count += 1\n",
        "    \n",
        "    indices += [count]\n",
        "\n",
        "  tamanho_grupo_aulas = len(set(aulas[count:]))                       #Aulas desagrupadas (grupo menor do que deveria)\n",
        "\n",
        "  if 0 in aulas[count:]:                                              #Ignora aulas vagas\n",
        "    tamanho_grupo_aulas -= 1\n",
        "\n",
        "  if len(set(aulas[count - agrupamento:count])) == 1:                 #Desagrupados (aula agrupada anterior)\n",
        "    if len(aulas[indices[-2]:indices[-1]]) == agrupamento:\n",
        "      # print(\"Desagrupados:\", aulas[count:])\n",
        "      aulas_esparsas += tamanho_grupo_aulas\n",
        "  elif aulas[count-1] == 0:                                           #Desagrupados (aula vaga anterior)\n",
        "    # print(\"Desagrupados:\", aulas[count:])\n",
        "    aulas_esparsas += tamanho_grupo_aulas\n",
        "\n",
        "  return aulas_esparsas"
      ],
      "metadata": {
        "id": "qQ_3r1DlTp5A"
      },
      "execution_count": 92,
      "outputs": []
    },
    {
      "cell_type": "code",
      "source": [
        "calcular_aulas_esparsas([1,1,1,0,1,1], 3)                             #Desagrupados (aula vaga anterior)"
      ],
      "metadata": {
        "colab": {
          "base_uri": "https://localhost:8080/"
        },
        "id": "V7BrZtorefRA",
        "outputId": "18943900-a212-4609-dc2d-b8bef30c9a25"
      },
      "execution_count": 93,
      "outputs": [
        {
          "output_type": "execute_result",
          "data": {
            "text/plain": [
              "1"
            ]
          },
          "metadata": {},
          "execution_count": 93
        }
      ]
    },
    {
      "cell_type": "code",
      "source": [
        "calcular_aulas_esparsas([1,1,2,2,3,3,4,3,3,3], 2)                     #Desagrupados (aula agrupada anterior)"
      ],
      "metadata": {
        "colab": {
          "base_uri": "https://localhost:8080/"
        },
        "id": "Kr-ZbtTCvw1U",
        "outputId": "2e8d667d-9f7c-484a-aaa5-e82373f1836c"
      },
      "execution_count": 94,
      "outputs": [
        {
          "output_type": "execute_result",
          "data": {
            "text/plain": [
              "3"
            ]
          },
          "metadata": {},
          "execution_count": 94
        }
      ]
    },
    {
      "cell_type": "markdown",
      "source": [
        "##Definir Cromossomo\n",
        "\n",
        "Definir a sequência genética de formação de um cromossomo\n",
        "\n",
        "Os genes determinam aspectos de um indivíduo e o cromossomo é o conjunto dessas características o qual forma o indivíduo (possível solução do problema)\n",
        "\n",
        "O cromossomo está estruturado da seguinte forma:\n",
        "- turma -> dias da semana -> disciplinas\n",
        "- Não há divisão física entre os dados, eles são sequenciais\n",
        "- As informações indicadas no primeiro tópico se repetem N vezes onde N indica o número de turmas\n",
        "\n",
        "[Turma1:(Segunda:(..disciplinas), Terça:(..disciplinas), Quarta:(..disciplinas), Quinta:(..disciplinas), Sexta:(..disciplinas)), Turma2:(Segunda:(..disciplinas), Terça:(..disciplinas), Quarta:(..disciplinas), Quinta:(..disciplinas), Sexta:(..disciplinas))..]\n",
        "\n",
        "Ex.: [(SO,SO,SO,SO,MF,MF), (MF,MF,OC,OC,OC,OC), (CO,CO,CO,CO,IA,IA), (IA,IA,NA,NA,NA,NA), (NA,NA,NA,NA,NA,NA),</br>\n",
        "(SO,SO,SO,SO,MF,MF), (MF,MF,OC,OC,OC,OC), (CO,CO,CO,CO,IA,IA), (IA,IA,NA,NA,NA,NA), (NA,NA,NA,NA,NA,NA)]"
      ],
      "metadata": {
        "id": "L9vgHiG_KAc0"
      }
    },
    {
      "cell_type": "code",
      "source": [
        "segmentacao_horario = 60                                                        # Divisão do horário no QTS (minutos)\n",
        "disciplinas_dia = int(calcular_disciplinas_dia(curso, segmentacao_horario))     # Retorna quantidade de sessões destinadas às disciplinas em um dia"
      ],
      "metadata": {
        "id": "9YHLBelcF-42"
      },
      "execution_count": 95,
      "outputs": []
    },
    {
      "cell_type": "code",
      "source": [
        "disciplinas_dia"
      ],
      "metadata": {
        "colab": {
          "base_uri": "https://localhost:8080/"
        },
        "id": "BgyHR4Z9-23X",
        "outputId": "7e961196-211e-410e-94d1-8a30cc22513c"
      },
      "execution_count": 96,
      "outputs": [
        {
          "output_type": "execute_result",
          "data": {
            "text/plain": [
              "6"
            ]
          },
          "metadata": {},
          "execution_count": 96
        }
      ]
    },
    {
      "cell_type": "markdown",
      "source": [
        "###Funções de Geração do Cromossomo"
      ],
      "metadata": {
        "id": "GzCjKiDRpCPV"
      }
    },
    {
      "cell_type": "code",
      "source": [
        "def gerar_aulas_conjuntas(tamanho_cromossomo, dominio):\n",
        "  cromossomo, tamanho_grupo = [], curso[\"maximo_aulas_dia\"]\n",
        "  quantidade_semanas = tamanho_cromossomo // disciplinas_dia                  \n",
        "  quantidade_grupos_aulas = disciplinas_dia // tamanho_grupo\n",
        "  quantidade_aulas_vagas = disciplinas_dia % tamanho_grupo\n",
        "\n",
        "  for semana in range(quantidade_semanas):                                      \n",
        "    for grupo_aula in range(quantidade_grupos_aulas):                           \n",
        "      gene = random.randint(dominio[0], dominio[1])\n",
        "\n",
        "      cromossomo += [gene] * tamanho_grupo\n",
        "    cromossomo += [0] * quantidade_aulas_vagas\n",
        "\n",
        "  return cromossomo"
      ],
      "metadata": {
        "id": "dzd_r5W_hZH4"
      },
      "execution_count": 97,
      "outputs": []
    },
    {
      "cell_type": "code",
      "source": [
        "semanas = 1\n",
        "for i in range(10):\n",
        "  print(gerar_aulas_conjuntas(disciplinas_dia*semanas, (0, 5)))"
      ],
      "metadata": {
        "colab": {
          "base_uri": "https://localhost:8080/"
        },
        "id": "eGnN9IGmQn7s",
        "outputId": "449fac6d-ac3d-4d07-9a97-7281e607bc4c"
      },
      "execution_count": 98,
      "outputs": [
        {
          "output_type": "stream",
          "name": "stdout",
          "text": [
            "[4, 4, 3, 3, 4, 4]\n",
            "[4, 4, 4, 4, 4, 4]\n",
            "[0, 0, 3, 3, 5, 5]\n",
            "[0, 0, 5, 5, 1, 1]\n",
            "[4, 4, 0, 0, 5, 5]\n",
            "[3, 3, 1, 1, 5, 5]\n",
            "[3, 3, 3, 3, 0, 0]\n",
            "[0, 0, 0, 0, 4, 4]\n",
            "[0, 0, 3, 3, 1, 1]\n",
            "[0, 0, 2, 2, 3, 3]\n"
          ]
        }
      ]
    },
    {
      "cell_type": "markdown",
      "source": [
        "###Gerar Cromossomo"
      ],
      "metadata": {
        "id": "uIFBXvrgpMZf"
      }
    },
    {
      "cell_type": "code",
      "source": [
        "def gerar_cromossomo_sem_restricoes(turmas, qtd_dias_semana, disciplinas_dia, dominio):\n",
        "  tamanho_cromossomo = turmas*qtd_dias_semana*disciplinas_dia\n",
        "  cromossomo = []\n",
        "\n",
        "  for i in range(tamanho_cromossomo):\n",
        "    cromossomo += [random.randint(dominio[0], dominio[1])]\n",
        "\n",
        "  return cromossomo"
      ],
      "metadata": {
        "id": "NRiuUeZ4-dCY"
      },
      "execution_count": 99,
      "outputs": []
    },
    {
      "cell_type": "code",
      "source": [
        "def gerar_cromossomo_com_restricoes(turmas, qtd_dias_semana, disciplinas_dia, dominio):\n",
        "  tamanho_cromossomo = turmas*qtd_dias_semana*disciplinas_dia\n",
        "  cromossomo = []\n",
        "\n",
        "  cromossomo += gerar_aulas_conjuntas(tamanho_cromossomo, dominio)              #Restrição 2\n",
        "\n",
        "  return cromossomo"
      ],
      "metadata": {
        "id": "7riexydNNn2f"
      },
      "execution_count": 100,
      "outputs": []
    },
    {
      "cell_type": "code",
      "source": [
        "cromossomo = gerar_cromossomo_sem_restricoes(curso['quantidade_turmas'],len(dias_semana),disciplinas_dia,(0, len(disciplinas)))\n",
        "print(cromossomo, \"\\nTamanho:\", len(cromossomo))"
      ],
      "metadata": {
        "colab": {
          "base_uri": "https://localhost:8080/"
        },
        "id": "WAq6lQVW_iWh",
        "outputId": "4d0c6185-02ac-4b7f-c197-4b7aacfe67b7"
      },
      "execution_count": 101,
      "outputs": [
        {
          "output_type": "stream",
          "name": "stdout",
          "text": [
            "[0, 3, 5, 1, 0, 0, 2, 3, 4, 5, 6, 5, 3, 1, 6, 1, 1, 5, 1, 6, 0, 6, 5, 5, 6, 5, 3, 6, 6, 6, 1, 0, 3, 2, 3, 1, 4, 5, 5, 0, 6, 4, 4, 4, 1, 2, 3, 4, 5, 3, 6, 4, 4, 4, 3, 2, 2, 0, 1, 6, 1, 0, 3, 6, 6, 3, 5, 1, 6, 6, 4, 6, 5, 3, 0, 3, 5, 6, 0, 2, 2, 3, 6, 6, 3, 6, 1, 0, 1, 6, 3, 3, 1, 4, 3, 4, 4, 4, 5, 0, 4, 4, 3, 4, 1, 3, 3, 2, 4, 0, 4, 4, 0, 6, 2, 6, 1, 1, 4, 6, 5, 4, 3, 6, 2, 4, 6, 1, 0, 1, 5, 2, 6, 0, 3, 2, 6, 1, 1, 4, 3, 5, 3, 3, 3, 2, 5, 3, 1, 3] \n",
            "Tamanho: 150\n"
          ]
        }
      ]
    },
    {
      "cell_type": "code",
      "source": [
        "cromossomo = gerar_cromossomo_com_restricoes(curso['quantidade_turmas'],len(dias_semana),disciplinas_dia,(0, len(disciplinas)))\n",
        "print(cromossomo, \"\\nTamanho:\", len(cromossomo))"
      ],
      "metadata": {
        "colab": {
          "base_uri": "https://localhost:8080/"
        },
        "id": "D-4YL_cjPbBn",
        "outputId": "74d13526-80dc-4773-c6a7-15f5ddf99b0e"
      },
      "execution_count": 102,
      "outputs": [
        {
          "output_type": "stream",
          "name": "stdout",
          "text": [
            "[2, 2, 0, 0, 4, 4, 1, 1, 3, 3, 1, 1, 1, 1, 5, 5, 6, 6, 1, 1, 4, 4, 6, 6, 6, 6, 5, 5, 6, 6, 0, 0, 4, 4, 5, 5, 6, 6, 0, 0, 4, 4, 4, 4, 4, 4, 4, 4, 4, 4, 1, 1, 6, 6, 5, 5, 5, 5, 3, 3, 6, 6, 1, 1, 6, 6, 2, 2, 3, 3, 4, 4, 4, 4, 6, 6, 5, 5, 6, 6, 6, 6, 3, 3, 4, 4, 2, 2, 2, 2, 4, 4, 6, 6, 5, 5, 2, 2, 0, 0, 5, 5, 2, 2, 5, 5, 4, 4, 5, 5, 3, 3, 1, 1, 4, 4, 0, 0, 5, 5, 4, 4, 5, 5, 6, 6, 1, 1, 5, 5, 3, 3, 1, 1, 3, 3, 1, 1, 2, 2, 6, 6, 4, 4, 5, 5, 4, 4, 6, 6] \n",
            "Tamanho: 150\n"
          ]
        }
      ]
    },
    {
      "cell_type": "markdown",
      "source": [
        "# Função de Avaliação (Fitness Function)\n",
        "Algoritmo que atribui pontuação ao indivíduo gerado (possível solução) baseada no objetivo estabelecido e critérios do sistema\n",
        "\n",
        "A implementação da função de fitness penaliza os QTS que infrinjem restrições\n",
        "\n",
        "Critérios:\n",
        "- Objetivo\n",
        "  - Tempo de ociosadade entre aulas de mesma disciplina\n",
        "- Restrições\n",
        "  - Hora aula semanal de cada disciplina\n",
        "  - Aulas conjuntas"
      ],
      "metadata": {
        "id": "vcpW2xs3woJf"
      }
    },
    {
      "cell_type": "markdown",
      "source": [
        "### Objetivos"
      ],
      "metadata": {
        "id": "FziK7DgAN6m9"
      }
    },
    {
      "cell_type": "code",
      "source": [
        "def avaliar_objetivos(aulas_dia):\n",
        "  pontuacao = 0\n",
        "\n",
        "  pontuacao += calcular_horas_vagas(aulas_dia)                                  #Objetivo 1\n",
        "  \n",
        "  return pontuacao"
      ],
      "metadata": {
        "id": "rsqULPQIN6m-"
      },
      "execution_count": 103,
      "outputs": []
    },
    {
      "cell_type": "markdown",
      "source": [
        "#### Testes de Objetivos"
      ],
      "metadata": {
        "id": "tz6VwIdXN6m_"
      }
    },
    {
      "cell_type": "code",
      "source": [
        "# TESTE DE OBJETIVOS COM CROMOSSOMOS SEM RESTRIÇÕES\n",
        "pontuacao_objetivo, pontos = [], 0\n",
        "for i in range(1000):\n",
        "  cromossomo = gerar_cromossomo_sem_restricoes(curso['quantidade_turmas'],len(dias_semana),disciplinas_dia,(0, len(disciplinas)))\n",
        "  for i in range(0, len(cromossomo), disciplinas_dia):\n",
        "    pontos += avaliar_objetivos(cromossomo[i:i+disciplinas_dia])\n",
        "  pontuacao_objetivo.append((pontos, cromossomo))\n",
        "  pontos = 0\n",
        "\n",
        "pontuacao_objetivo = sorted(pontuacao_objetivo, key=lambda x: x[0])\n",
        "print(pontuacao_objetivo[-1])"
      ],
      "metadata": {
        "colab": {
          "base_uri": "https://localhost:8080/"
        },
        "id": "zdu250enN6m_",
        "outputId": "5339eab9-7158-4221-e671-2d694991be25"
      },
      "execution_count": 104,
      "outputs": [
        {
          "output_type": "stream",
          "name": "stdout",
          "text": [
            "(42, [3, 6, 1, 4, 0, 6, 6, 2, 2, 0, 1, 5, 4, 1, 3, 4, 4, 3, 5, 2, 4, 1, 5, 2, 5, 3, 6, 6, 0, 6, 0, 3, 6, 3, 3, 6, 6, 4, 5, 5, 1, 4, 6, 3, 4, 0, 2, 0, 6, 6, 0, 2, 6, 3, 6, 0, 5, 3, 2, 2, 5, 1, 1, 5, 0, 1, 6, 4, 1, 0, 0, 2, 0, 2, 6, 2, 5, 2, 4, 3, 6, 6, 3, 2, 1, 6, 0, 4, 2, 6, 2, 0, 4, 4, 4, 2, 3, 6, 3, 5, 5, 0, 4, 0, 0, 1, 4, 0, 0, 1, 3, 2, 3, 1, 3, 5, 5, 6, 1, 5, 4, 1, 0, 5, 2, 4, 0, 5, 1, 5, 5, 3, 0, 2, 5, 5, 6, 2, 2, 3, 2, 3, 2, 1, 0, 2, 4, 5, 2, 4])\n"
          ]
        }
      ]
    },
    {
      "cell_type": "code",
      "source": [
        "# TESTE DE OBJETIVOS COM CROMOSSOMOS COM RESTRIÇÕES\n",
        "pontuacao_objetivo, pontos = [], 0\n",
        "for i in range(1000):\n",
        "  cromossomo = gerar_cromossomo_com_restricoes(curso['quantidade_turmas'],len(dias_semana),disciplinas_dia,(0, len(disciplinas)))\n",
        "  for i in range(0, len(cromossomo), disciplinas_dia):\n",
        "    pontos += avaliar_objetivos(cromossomo[i:i+disciplinas_dia])\n",
        "  pontuacao_objetivo.append((pontos, cromossomo))\n",
        "  pontos = 0\n",
        "\n",
        "pontuacao_objetivo = sorted(pontuacao_objetivo, key=lambda x: x[0])\n",
        "print(pontuacao_objetivo[-1])"
      ],
      "metadata": {
        "colab": {
          "base_uri": "https://localhost:8080/"
        },
        "id": "usRHqg3FN6nB",
        "outputId": "dad5c452-aa0c-47ed-9f64-93e92dc53756"
      },
      "execution_count": 105,
      "outputs": [
        {
          "output_type": "stream",
          "name": "stdout",
          "text": [
            "(14, [3, 3, 0, 0, 6, 6, 6, 6, 3, 3, 3, 3, 1, 1, 6, 6, 1, 1, 6, 6, 3, 3, 2, 2, 3, 3, 4, 4, 6, 6, 6, 6, 0, 0, 6, 6, 3, 3, 2, 2, 4, 4, 6, 6, 6, 6, 5, 5, 4, 4, 4, 4, 4, 4, 1, 1, 5, 5, 6, 6, 1, 1, 3, 3, 4, 4, 2, 2, 4, 4, 5, 5, 2, 2, 2, 2, 4, 4, 2, 2, 4, 4, 2, 2, 1, 1, 2, 2, 1, 1, 3, 3, 0, 0, 3, 3, 5, 5, 3, 3, 5, 5, 6, 6, 2, 2, 1, 1, 5, 5, 3, 3, 6, 6, 4, 4, 2, 2, 0, 0, 2, 2, 5, 5, 3, 3, 4, 4, 5, 5, 1, 1, 4, 4, 1, 1, 4, 4, 2, 2, 0, 0, 5, 5, 1, 1, 0, 0, 2, 2])\n"
          ]
        }
      ]
    },
    {
      "cell_type": "markdown",
      "source": [
        "### Restrições\n"
      ],
      "metadata": {
        "id": "bZxKvU5ruMus"
      }
    },
    {
      "cell_type": "code",
      "source": [
        "# Penalidade(x) = (P * desvio)^2\n",
        "def aplicar_penalidades(aulas_dia):\n",
        "  constante_penalidade = 4\n",
        "  desvio = 0\n",
        "  \n",
        "  desvio += calcular_aulas_esparsas(aulas_dia, curso['maximo_aulas_dia'])       #Restrição 2\n",
        "  \n",
        "  return math.pow((constante_penalidade * desvio), 2)"
      ],
      "metadata": {
        "id": "ubLoTHvMjkyy"
      },
      "execution_count": 106,
      "outputs": []
    },
    {
      "cell_type": "markdown",
      "source": [
        "#### Testes de Restrições"
      ],
      "metadata": {
        "id": "G0Lm0iRzZccb"
      }
    },
    {
      "cell_type": "code",
      "source": [
        "# TESTE DE RESTRIÇÕES COM CROMOSSOMOS SEM RESTRIÇÕES\n",
        "pontuacao_objetivo, pontos = [], 0\n",
        "for i in range(1000):\n",
        "  cromossomo = gerar_cromossomo_sem_restricoes(curso['quantidade_turmas'],len(dias_semana),disciplinas_dia,(0, len(disciplinas)))\n",
        "  for i in range(0, len(cromossomo), disciplinas_dia):\n",
        "    pontos += aplicar_penalidades(cromossomo[i:i+disciplinas_dia])\n",
        "  pontuacao_objetivo.append((pontos, cromossomo))\n",
        "  pontos = 0\n",
        "\n",
        "pontuacao_objetivo = sorted(pontuacao_objetivo, key=lambda x: x[0])\n",
        "print(pontuacao_objetivo[-1])"
      ],
      "metadata": {
        "colab": {
          "base_uri": "https://localhost:8080/"
        },
        "id": "X2gW0xKJAm-G",
        "outputId": "6921a3a1-87f1-44f7-c8c0-3391c1fa33f2"
      },
      "execution_count": 107,
      "outputs": [
        {
          "output_type": "stream",
          "name": "stdout",
          "text": [
            "(25072.0, [5, 3, 2, 5, 4, 3, 4, 0, 5, 6, 3, 0, 1, 5, 4, 2, 1, 5, 0, 5, 4, 5, 3, 4, 1, 3, 3, 5, 2, 3, 4, 2, 4, 6, 4, 2, 0, 5, 5, 0, 1, 2, 4, 2, 6, 2, 3, 4, 1, 3, 5, 1, 2, 4, 4, 1, 6, 2, 3, 3, 4, 5, 4, 1, 1, 3, 5, 3, 4, 1, 2, 3, 5, 4, 1, 3, 5, 3, 1, 6, 6, 4, 1, 0, 1, 6, 6, 3, 2, 2, 5, 0, 1, 3, 2, 6, 4, 1, 6, 1, 5, 1, 3, 5, 1, 5, 6, 5, 1, 4, 5, 0, 0, 2, 3, 2, 0, 4, 5, 4, 5, 4, 4, 1, 6, 4, 2, 0, 3, 1, 1, 5, 2, 0, 4, 1, 3, 6, 2, 5, 6, 4, 6, 2, 3, 4, 0, 3, 1, 6])\n"
          ]
        }
      ]
    },
    {
      "cell_type": "code",
      "source": [
        "# TESTE DE RESTRIÇÕES COM CROMOSSOMOS COM RESTRIÇÕES\n",
        "pontuacao_objetivo, pontos = [], 0\n",
        "for i in range(10000):\n",
        "  cromossomo = gerar_cromossomo_com_restricoes(curso['quantidade_turmas'],len(dias_semana),disciplinas_dia,(0, len(disciplinas)))\n",
        "  for i in range(0, len(cromossomo), disciplinas_dia):\n",
        "    pontos += aplicar_penalidades(cromossomo[i:i+disciplinas_dia])\n",
        "  pontuacao_objetivo.append((pontos, cromossomo))\n",
        "  pontos = 0\n",
        "\n",
        "pontuacao_objetivo = sorted(pontuacao_objetivo, key=lambda x: x[0])\n",
        "print(pontuacao_objetivo[-1])"
      ],
      "metadata": {
        "colab": {
          "base_uri": "https://localhost:8080/"
        },
        "id": "OzOuHi0fbLpM",
        "outputId": "45cf5065-6aaf-41d9-cdd0-7d419f0441fb"
      },
      "execution_count": 108,
      "outputs": [
        {
          "output_type": "stream",
          "name": "stdout",
          "text": [
            "(0.0, [4, 4, 4, 4, 5, 5, 3, 3, 4, 4, 6, 6, 4, 4, 3, 3, 3, 3, 3, 3, 5, 5, 0, 0, 0, 0, 0, 0, 6, 6, 0, 0, 0, 0, 4, 4, 0, 0, 4, 4, 5, 5, 5, 5, 3, 3, 0, 0, 5, 5, 3, 3, 6, 6, 6, 6, 6, 6, 1, 1, 2, 2, 6, 6, 1, 1, 3, 3, 6, 6, 3, 3, 5, 5, 5, 5, 6, 6, 0, 0, 5, 5, 1, 1, 5, 5, 6, 6, 4, 4, 1, 1, 0, 0, 6, 6, 6, 6, 4, 4, 1, 1, 5, 5, 2, 2, 4, 4, 4, 4, 1, 1, 5, 5, 5, 5, 4, 4, 4, 4, 4, 4, 5, 5, 5, 5, 6, 6, 5, 5, 1, 1, 0, 0, 0, 0, 0, 0, 5, 5, 5, 5, 6, 6, 3, 3, 1, 1, 4, 4])\n"
          ]
        }
      ]
    },
    {
      "cell_type": "markdown",
      "source": [
        "###Fitness Function"
      ],
      "metadata": {
        "id": "CtJIrvtKphvt"
      }
    },
    {
      "cell_type": "code",
      "source": [
        "def funcao_avaliacao(calendario):\n",
        "  pontuacao = 0\n",
        "\n",
        "  for i in range(0, len(calendario), disciplinas_dia):\n",
        "    aulas_dia = calendario[i:i+disciplinas_dia]\n",
        "\n",
        "    pontuacao += avaliar_objetivos(aulas_dia)                                   #Pontuar pela otimização dos objetivos\n",
        "    pontuacao += aplicar_penalidades(aulas_dia)                                 #Penalizar descumprimento das restrições\n",
        "  \n",
        "  return pontuacao"
      ],
      "metadata": {
        "id": "R8YhhUhmq-r3"
      },
      "execution_count": 109,
      "outputs": []
    },
    {
      "cell_type": "code",
      "source": [
        "funcao_avaliacao([1,1,0,0,2,0, 0,2,0,3,0,3, 0,4,4,4,5,0, 5,5,0,0,0,0, 0,0,0,0,0,0,\n",
        "                  1,1,0,3,2,0, 2,2,0,3,0,3, 0,4,4,4,5,0, 5,5,0,0,0,0, 0,0,0,0,0,0,\n",
        "                  1,1,5,1,2,0, 2,2,0,3,0,3, 1,0,0,0,0,1, 5,5,0,0,0,0, 0,0,0,0,0,0])"
      ],
      "metadata": {
        "id": "8-PjSbHLBbt7",
        "colab": {
          "base_uri": "https://localhost:8080/"
        },
        "outputId": "f505c320-5f67-4cd1-fa43-46ca6f33dfc0"
      },
      "execution_count": 110,
      "outputs": [
        {
          "output_type": "execute_result",
          "data": {
            "text/plain": [
              "1140.0"
            ]
          },
          "metadata": {},
          "execution_count": 110
        }
      ]
    },
    {
      "cell_type": "markdown",
      "source": [
        "# Impressão de Quadro de Trabalho Semanal"
      ],
      "metadata": {
        "id": "rVxczKmoOri6"
      }
    },
    {
      "cell_type": "code",
      "source": [
        "def imprimir_qts(calendario):\n",
        "  dia_id = 0\n",
        "  espera_total = 0\n",
        "  qtd_dias_semana = len(dias_semana)\n",
        "\n",
        "  for i in range(curso[\"quantidade_turmas\"]):\n",
        "    print(f\"\\n{i+1}ª Turma:\")\n",
        "    inicio_turma = i*(disciplinas_dia*qtd_dias_semana)\n",
        "    for j in range(qtd_dias_semana):\n",
        "        dia = dias_semana[j]\n",
        "        comeco_semana = inicio_turma + j*disciplinas_dia\n",
        "        \n",
        "        disciplinas_semana = calendario[comeco_semana:comeco_semana+disciplinas_dia]                        # coleta as disciplinas da semana\n",
        "        ordem_disciplinas = [disciplinas[disciplina][0] for disciplina in disciplinas_semana]               # traduz números em disciplinas\n",
        "\n",
        "        dia_id += 1                                                                                         # próximo dia da semana\n",
        "        print(f'|{dia:7}| {\", \".join(ordem_disciplinas)}|')\n",
        "        \n",
        "        espera_total += avaliar_objetivos(disciplinas_semana)\n",
        "\n",
        "  print(f'\\nTempo Total de Espera Entre Aulas: {espera_total} {\"Horas\" if espera_total != 1 else \"Hora\"}')"
      ],
      "metadata": {
        "id": "G7_jsoPGOri7"
      },
      "execution_count": 111,
      "outputs": []
    },
    {
      "cell_type": "code",
      "source": [
        "imprimir_qts([1,1,1,1,2,2, 2,2,3,3,3,3, 4,4,4,4,5,5, 5,5,0,0,0,0, 0,0,0,0,0,0,\n",
        "              1,1,1,1,2,2, 2,2,3,3,3,3, 4,4,4,4,5,5, 5,5,0,0,0,0, 0,0,0,0,0,0,\n",
        "              1,1,1,1,2,2, 2,2,3,3,3,3, 4,4,4,4,5,5, 5,5,0,0,0,0, 0,0,0,0,0,0,\n",
        "              1,1,1,1,2,2, 2,2,3,3,3,3, 4,4,4,4,5,5, 5,5,0,0,0,0, 0,0,0,0,0,0,\n",
        "              1,1,1,1,2,2, 2,2,3,3,3,3, 4,4,4,4,5,5, 5,5,0,0,0,0, 0,0,0,0,0,0])"
      ],
      "metadata": {
        "colab": {
          "base_uri": "https://localhost:8080/"
        },
        "outputId": "12810e51-c7f2-4732-cfac-dc1437e714a7",
        "id": "TDggotXTOri7"
      },
      "execution_count": 112,
      "outputs": [
        {
          "output_type": "stream",
          "name": "stdout",
          "text": [
            "\n",
            "1ª Turma:\n",
            "|Segunda| SO, SO, SO, SO, MF, MF|\n",
            "|Terça  | MF, MF, OC, OC, OC, OC|\n",
            "|Quarta | CO, CO, CO, CO, IA, IA|\n",
            "|Quinta | IA, IA, NA, NA, NA, NA|\n",
            "|Sexta  | NA, NA, NA, NA, NA, NA|\n",
            "\n",
            "2ª Turma:\n",
            "|Segunda| SO, SO, SO, SO, MF, MF|\n",
            "|Terça  | MF, MF, OC, OC, OC, OC|\n",
            "|Quarta | CO, CO, CO, CO, IA, IA|\n",
            "|Quinta | IA, IA, NA, NA, NA, NA|\n",
            "|Sexta  | NA, NA, NA, NA, NA, NA|\n",
            "\n",
            "3ª Turma:\n",
            "|Segunda| SO, SO, SO, SO, MF, MF|\n",
            "|Terça  | MF, MF, OC, OC, OC, OC|\n",
            "|Quarta | CO, CO, CO, CO, IA, IA|\n",
            "|Quinta | IA, IA, NA, NA, NA, NA|\n",
            "|Sexta  | NA, NA, NA, NA, NA, NA|\n",
            "\n",
            "4ª Turma:\n",
            "|Segunda| SO, SO, SO, SO, MF, MF|\n",
            "|Terça  | MF, MF, OC, OC, OC, OC|\n",
            "|Quarta | CO, CO, CO, CO, IA, IA|\n",
            "|Quinta | IA, IA, NA, NA, NA, NA|\n",
            "|Sexta  | NA, NA, NA, NA, NA, NA|\n",
            "\n",
            "5ª Turma:\n",
            "|Segunda| SO, SO, SO, SO, MF, MF|\n",
            "|Terça  | MF, MF, OC, OC, OC, OC|\n",
            "|Quarta | CO, CO, CO, CO, IA, IA|\n",
            "|Quinta | IA, IA, NA, NA, NA, NA|\n",
            "|Sexta  | NA, NA, NA, NA, NA, NA|\n",
            "\n",
            "Tempo Total de Espera Entre Aulas: 0 Horas\n"
          ]
        }
      ]
    },
    {
      "cell_type": "markdown",
      "source": [
        "#Criar o Domínio de Variação dos Genes"
      ],
      "metadata": {
        "id": "eL1f_FP-xANt"
      }
    },
    {
      "cell_type": "code",
      "source": [
        "dominio = [(0, len(disciplinas)-1)] * (curso[\"quantidade_turmas\"] * len(dias_semana) * len(disciplinas))\n",
        "print(f'Domínio: {dominio}\\nElementos: {len(dominio)}')"
      ],
      "metadata": {
        "colab": {
          "base_uri": "https://localhost:8080/"
        },
        "id": "DNYj2C9ZOhLZ",
        "outputId": "cf8a3b02-8ca8-4369-9179-c6662e7928c0"
      },
      "execution_count": 113,
      "outputs": [
        {
          "output_type": "stream",
          "name": "stdout",
          "text": [
            "Domínio: [(0, 5), (0, 5), (0, 5), (0, 5), (0, 5), (0, 5), (0, 5), (0, 5), (0, 5), (0, 5), (0, 5), (0, 5), (0, 5), (0, 5), (0, 5), (0, 5), (0, 5), (0, 5), (0, 5), (0, 5), (0, 5), (0, 5), (0, 5), (0, 5), (0, 5), (0, 5), (0, 5), (0, 5), (0, 5), (0, 5), (0, 5), (0, 5), (0, 5), (0, 5), (0, 5), (0, 5), (0, 5), (0, 5), (0, 5), (0, 5), (0, 5), (0, 5), (0, 5), (0, 5), (0, 5), (0, 5), (0, 5), (0, 5), (0, 5), (0, 5), (0, 5), (0, 5), (0, 5), (0, 5), (0, 5), (0, 5), (0, 5), (0, 5), (0, 5), (0, 5), (0, 5), (0, 5), (0, 5), (0, 5), (0, 5), (0, 5), (0, 5), (0, 5), (0, 5), (0, 5), (0, 5), (0, 5), (0, 5), (0, 5), (0, 5), (0, 5), (0, 5), (0, 5), (0, 5), (0, 5), (0, 5), (0, 5), (0, 5), (0, 5), (0, 5), (0, 5), (0, 5), (0, 5), (0, 5), (0, 5), (0, 5), (0, 5), (0, 5), (0, 5), (0, 5), (0, 5), (0, 5), (0, 5), (0, 5), (0, 5), (0, 5), (0, 5), (0, 5), (0, 5), (0, 5), (0, 5), (0, 5), (0, 5), (0, 5), (0, 5), (0, 5), (0, 5), (0, 5), (0, 5), (0, 5), (0, 5), (0, 5), (0, 5), (0, 5), (0, 5), (0, 5), (0, 5), (0, 5), (0, 5), (0, 5), (0, 5), (0, 5), (0, 5), (0, 5), (0, 5), (0, 5), (0, 5), (0, 5), (0, 5), (0, 5), (0, 5), (0, 5), (0, 5), (0, 5), (0, 5), (0, 5), (0, 5), (0, 5), (0, 5), (0, 5), (0, 5), (0, 5), (0, 5), (0, 5), (0, 5)]\n",
            "Elementos: 150\n"
          ]
        }
      ]
    },
    {
      "cell_type": "markdown",
      "source": [
        "# Mutação"
      ],
      "metadata": {
        "id": "2Npp9cugy-in"
      }
    },
    {
      "cell_type": "code",
      "source": [
        "def mutacao(dominio, passo, calendario, probabilidade):\n",
        "  gene = random.randint(0, len(dominio) - 1)    #Escolha do gene que sofrerá a mutação\n",
        "  mutante = calendario\n",
        "  #print(\"Gene: \", gene)\n",
        "  #Joga um número aleatório para verificar se haverá mutação.\n",
        "  if random.random() < probabilidade:\n",
        "    if calendario[gene] != dominio[gene][0]:    #Verifica borda inferior\n",
        "      mutante = calendario[0:gene] + [calendario[gene] - passo] + calendario[gene + 1:]\n",
        "    elif calendario[gene] != dominio[gene][1]:  #Verifica borda superior\n",
        "      mutante = calendario[0:gene] + [calendario[gene] + passo] + calendario[gene + 1:]\n",
        "  return mutante"
      ],
      "metadata": {
        "id": "5RAZcpBWy_gb"
      },
      "execution_count": 114,
      "outputs": []
    },
    {
      "cell_type": "code",
      "source": [
        "print(mutacao(dominio[0:30], 2, [1,1,1,1,2,2, 2,2,3,3,3,3, 4,4,4,4,5,5, 5,5,0,0,0,0, 0,0,0,0,0,0], 0.9))"
      ],
      "metadata": {
        "id": "x6XLd7Cw0fHZ",
        "colab": {
          "base_uri": "https://localhost:8080/"
        },
        "outputId": "f76783ca-bb0f-46e7-f8f9-bd944a401e76"
      },
      "execution_count": 115,
      "outputs": [
        {
          "output_type": "stream",
          "name": "stdout",
          "text": [
            "[1, 1, 1, 1, 2, 2, 2, 2, 3, 3, 3, 3, 4, 4, 2, 4, 5, 5, 5, 5, 0, 0, 0, 0, 0, 0, 0, 0, 0, 0]\n"
          ]
        }
      ]
    },
    {
      "cell_type": "markdown",
      "source": [
        "# Crossover"
      ],
      "metadata": {
        "id": "Q-T8bim57cf6"
      }
    },
    {
      "cell_type": "code",
      "source": [
        "def crossover(dominio, individuo1, individuo2):\n",
        "  gene = random.randint(1, len(dominio) - 2)\n",
        "  #print(gene)\n",
        "  return individuo1[0:gene] + individuo2[gene:]"
      ],
      "metadata": {
        "id": "qRNlIEZU50Jd"
      },
      "execution_count": 116,
      "outputs": []
    },
    {
      "cell_type": "code",
      "source": [
        "s1 = [1,1,1,1,2,2, 2,2,3,3,3,3, 4,4,4,4,5,5, 5,5,0,0,0,0, 0,0,0,0,0,0]\n",
        "s2 = [0,0,0,3,5,6, 1,1,1,1,5,5, 5,5,3,3,3,3, 1,1,2,2,2,2, 3,4,5,0,1,3]"
      ],
      "metadata": {
        "id": "FJc-V3ND8d3L"
      },
      "execution_count": 117,
      "outputs": []
    },
    {
      "cell_type": "code",
      "source": [
        "print(crossover(dominio, s1, s2))"
      ],
      "metadata": {
        "id": "c5ydHKLC8hlE",
        "colab": {
          "base_uri": "https://localhost:8080/"
        },
        "outputId": "4b6c734b-024f-4eda-e29d-4a8f6970a3dc"
      },
      "execution_count": 118,
      "outputs": [
        {
          "output_type": "stream",
          "name": "stdout",
          "text": [
            "[1, 1, 1, 1, 2, 2, 2, 2, 3, 3, 3, 3, 4, 4, 4, 4, 5, 5, 5, 5, 0, 0, 0, 0, 0, 0, 0, 0, 0, 0]\n"
          ]
        }
      ]
    },
    {
      "cell_type": "markdown",
      "source": [
        "# Algoritmo Genético Completo"
      ],
      "metadata": {
        "id": "0P_rftK69Q4Q"
      }
    },
    {
      "cell_type": "code",
      "source": [
        "import matplotlib.pyplot as plt\n",
        "%matplotlib inline\n",
        "\n",
        "\n",
        "def algoritmo_genetico(dominio, tamanho_populacao = 10, passo = 1,\n",
        "                       elitismo = 0.2, numero_geracoes = 100, probabilidade_mutacao = 0.05):\n",
        "    populacao = []\n",
        "    for i in range(tamanho_populacao):\n",
        "        #Cria aleatoriamente os indivíduos\n",
        "        individuo = gerar_cromossomo_sem_restricoes(curso[\"quantidade_turmas\"], len(dias_semana), disciplinas_dia, dominio[0])\n",
        "        populacao.append(individuo)\n",
        "    # print(populacao)\n",
        "    # print(len(populacao))\n",
        "    numero_elitismo = int(elitismo * tamanho_populacao)\n",
        "\n",
        "    #print('Tamanho da população: ', len(populacao))\n",
        "\n",
        "    melhor_fit = []#Guardar o melhor de cada interação\n",
        "\n",
        "    for i in range(numero_geracoes):\n",
        "        custos = [(funcao_avaliacao(individuo), individuo) for individuo in populacao]\n",
        "        # print(\"A\",custos)\n",
        "        custos.sort()\n",
        "        #print(\"B\",custos)\n",
        "        individuos_ordenados = [individuo for (custo, individuo) in custos]\n",
        "        #print(individuos_ordenados)\n",
        "        populacao = individuos_ordenados[0:numero_elitismo] # só pega o percentual dos elementos baseados no elisitmo\n",
        "        \n",
        "        while len(populacao) < tamanho_populacao:\n",
        "            i1 = random.randint(0, numero_elitismo)\n",
        "            i2 = random.randint(0, numero_elitismo)\n",
        "            #print(i1, i2, individuos_ordenados[i1], individuos_ordenados[i2])\n",
        "            novo_individuo = crossover(dominio, individuos_ordenados[i1], individuos_ordenados[i2])\n",
        "            #print(novo_individuo)\n",
        "            mutacao_novo_individuo = mutacao(dominio, passo, novo_individuo, probabilidade_mutacao)\n",
        "            #print(novo_individuo)\n",
        "            #print(mutacao_novo_individuo)\n",
        "            #print()\n",
        "            populacao.append(mutacao_novo_individuo)\n",
        "\n",
        "        #print('Tamanho da população: ', len(populacao))\n",
        "        melhor_fit.append(custos[0][0])\n",
        "    #print(custos)\n",
        "    \n",
        "    # print(melhor_fit)\n",
        "    #Plotar o gráfico\n",
        "    plt.plot(melhor_fit);\n",
        "    \n",
        "    return custos[0][1]"
      ],
      "metadata": {
        "id": "tCYVi6W787YS"
      },
      "execution_count": 119,
      "outputs": []
    },
    {
      "cell_type": "code",
      "source": [
        "solucao = algoritmo_genetico(dominio, tamanho_populacao = 10, numero_geracoes= 100)"
      ],
      "metadata": {
        "id": "VpFI4CLnfK-c",
        "colab": {
          "base_uri": "https://localhost:8080/",
          "height": 430
        },
        "outputId": "dc5d0300-65be-4fdf-d2c6-6517721610c0"
      },
      "execution_count": 120,
      "outputs": [
        {
          "output_type": "display_data",
          "data": {
            "text/plain": [
              "<Figure size 640x480 with 1 Axes>"
            ],
            "image/png": "[encoded data removed]"
          },
          "metadata": {}
        }
      ]
    },
    {
      "cell_type": "code",
      "source": [
        "print(solucao)"
      ],
      "metadata": {
        "id": "9SrTzFa-fSlc",
        "colab": {
          "base_uri": "https://localhost:8080/"
        },
        "outputId": "f4cc22ae-5f03-4021-d798-25246ff7d9df"
      },
      "execution_count": 121,
      "outputs": [
        {
          "output_type": "stream",
          "name": "stdout",
          "text": [
            "[3, 3, 0, 2, 1, 2, 2, 2, 0, 0, 3, 3, 0, 4, 4, 1, 4, 4, 4, 4, 1, 0, 3, 1, 3, 3, 3, 3, 4, 0, 1, 3, 0, 5, 2, 1, 1, 3, 3, 0, 4, 0, 0, 1, 1, 0, 0, 5, 2, 5, 2, 0, 1, 1, 5, 4, 0, 5, 0, 3, 4, 0, 0, 2, 2, 0, 4, 1, 0, 1, 4, 0, 4, 3, 3, 1, 4, 1, 2, 4, 2, 2, 2, 1, 0, 4, 0, 1, 1, 4, 5, 0, 3, 5, 5, 0, 4, 4, 0, 1, 4, 4, 5, 2, 2, 5, 5, 1, 0, 5, 1, 1, 5, 5, 0, 4, 2, 0, 1, 1, 5, 3, 4, 0, 5, 5, 2, 1, 0, 0, 0, 2, 5, 5, 2, 3, 0, 0, 0, 1, 1, 5, 0, 5, 2, 3, 0, 2, 3, 5]\n"
          ]
        }
      ]
    },
    {
      "cell_type": "code",
      "source": [
        "funcao_avaliacao(solucao)"
      ],
      "metadata": {
        "id": "u3IdTqE2hBo2",
        "colab": {
          "base_uri": "https://localhost:8080/"
        },
        "outputId": "a0b4592b-d9b2-439e-99d2-38c3c793178a"
      },
      "execution_count": 122,
      "outputs": [
        {
          "output_type": "execute_result",
          "data": {
            "text/plain": [
              "6128.0"
            ]
          },
          "metadata": {},
          "execution_count": 122
        }
      ]
    },
    {
      "cell_type": "code",
      "source": [
        "imprimir_qts(solucao)"
      ],
      "metadata": {
        "id": "gjk12wPQhM4V",
        "colab": {
          "base_uri": "https://localhost:8080/"
        },
        "outputId": "81553cd1-506c-4351-83a5-57fadb1d1d6a"
      },
      "execution_count": 123,
      "outputs": [
        {
          "output_type": "stream",
          "name": "stdout",
          "text": [
            "\n",
            "1ª Turma:\n",
            "|Segunda| OC, OC, NA, MF, SO, MF|\n",
            "|Terça  | MF, MF, NA, NA, OC, OC|\n",
            "|Quarta | NA, CO, CO, SO, CO, CO|\n",
            "|Quinta | CO, CO, SO, NA, OC, SO|\n",
            "|Sexta  | OC, OC, OC, OC, CO, NA|\n",
            "\n",
            "2ª Turma:\n",
            "|Segunda| SO, OC, NA, IA, MF, SO|\n",
            "|Terça  | SO, OC, OC, NA, CO, NA|\n",
            "|Quarta | NA, SO, SO, NA, NA, IA|\n",
            "|Quinta | MF, IA, MF, NA, SO, SO|\n",
            "|Sexta  | IA, CO, NA, IA, NA, OC|\n",
            "\n",
            "3ª Turma:\n",
            "|Segunda| CO, NA, NA, MF, MF, NA|\n",
            "|Terça  | CO, SO, NA, SO, CO, NA|\n",
            "|Quarta | CO, OC, OC, SO, CO, SO|\n",
            "|Quinta | MF, CO, MF, MF, MF, SO|\n",
            "|Sexta  | NA, CO, NA, SO, SO, CO|\n",
            "\n",
            "4ª Turma:\n",
            "|Segunda| IA, NA, OC, IA, IA, NA|\n",
            "|Terça  | CO, CO, NA, SO, CO, CO|\n",
            "|Quarta | IA, MF, MF, IA, IA, SO|\n",
            "|Quinta | NA, IA, SO, SO, IA, IA|\n",
            "|Sexta  | NA, CO, MF, NA, SO, SO|\n",
            "\n",
            "5ª Turma:\n",
            "|Segunda| IA, OC, CO, NA, IA, IA|\n",
            "|Terça  | MF, SO, NA, NA, NA, MF|\n",
            "|Quarta | IA, IA, MF, OC, NA, NA|\n",
            "|Quinta | NA, SO, SO, IA, NA, IA|\n",
            "|Sexta  | MF, OC, NA, MF, OC, IA|\n",
            "\n",
            "Tempo Total de Espera Entre Aulas: 16 Horas\n"
          ]
        }
      ]
    },
    {
      "cell_type": "code",
      "source": [],
      "metadata": {
        "id": "3kELiIQhivG9"
      },
      "execution_count": 123,
      "outputs": []
    }
  ]
}