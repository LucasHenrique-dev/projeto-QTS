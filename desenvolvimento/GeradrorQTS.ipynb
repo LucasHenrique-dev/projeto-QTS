{
  "nbformat": 4,
  "nbformat_minor": 0,
  "metadata": {
    "colab": {
      "provenance": [],
      "include_colab_link": true
    },
    "kernelspec": {
      "name": "python3",
      "display_name": "Python 3"
    },
    "language_info": {
      "name": "python"
    }
  },
  "cells": [
    {
      "cell_type": "markdown",
      "metadata": {
        "id": "view-in-github",
        "colab_type": "text"
      },
      "source": [
        "<a href=\"https://colab.research.google.com/github/LucasHenrique-dev/projeto-QTS/blob/main/desenvolvimento/GeradrorQTS.ipynb\" target=\"_parent\"><img src=\"https://colab.research.google.com/assets/colab-badge.svg\" alt=\"Open In Colab\"/></a>"
      ]
    },
    {
      "cell_type": "markdown",
      "source": [
        "##Importar Bibliotecas"
      ],
      "metadata": {
        "id": "44EhQphxtKWu"
      }
    },
    {
      "cell_type": "code",
      "execution_count": 58,
      "metadata": {
        "id": "Zn3Azjpws3Cz"
      },
      "outputs": [],
      "source": [
        "import time\n",
        "import random\n",
        "import math\n",
        "import sys\n",
        "import json\n",
        "import matplotlib.pyplot as plt\n",
        "# libraries for the files in google drive\n",
        "from pydrive.auth import GoogleAuth\n",
        "from google.colab import drive\n",
        "from pydrive.drive import GoogleDrive\n",
        "from google.colab import auth\n",
        "from oauth2client.client import GoogleCredentials"
      ]
    },
    {
      "cell_type": "markdown",
      "source": [
        "## Importar Informações"
      ],
      "metadata": {
        "id": "zsnndz38D3ro"
      }
    },
    {
      "cell_type": "code",
      "source": [
        "auth.authenticate_user()\n",
        "gauth = GoogleAuth()\n",
        "gauth.credentials = GoogleCredentials.get_application_default()\n",
        "drive = GoogleDrive(gauth)\n",
        "\n",
        "file_id = '1Zv5i7SI4MMgMzSQjeBIS9q2AMAkbA0bX' #<-- You add in here the id from you google drive file, you can find it\n",
        "\n",
        "\n",
        "download = drive.CreateFile({'id': file_id})\n",
        "\n",
        "\n",
        "# Download the file to a local disc\n",
        "download.GetContentFile('info_curso.json')"
      ],
      "metadata": {
        "id": "FZqeuKpbWP3M"
      },
      "execution_count": 2,
      "outputs": []
    },
    {
      "cell_type": "markdown",
      "source": [
        "##Explorar Dados do Curso"
      ],
      "metadata": {
        "id": "nJdmfuQl-1HS"
      }
    },
    {
      "cell_type": "code",
      "source": [
        "arquivo = open('/content/info_curso.json')\n",
        "curso = json.load(arquivo)\n",
        "\n",
        "print(json.dumps(curso, indent=4))"
      ],
      "metadata": {
        "colab": {
          "base_uri": "https://localhost:8080/"
        },
        "id": "HR2Yxd4YAWPj",
        "outputId": "d13dd565-0660-4e06-913d-12876537e4a8"
      },
      "execution_count": 3,
      "outputs": [
        {
          "output_type": "stream",
          "name": "stdout",
          "text": [
            "{\n",
            "    \"horario_inicio\": \"7:00\",\n",
            "    \"horario_fim\": \"12:00\",\n",
            "    \"quantidade_turmas\": 5,\n",
            "    \"maximo_aulas_dia\": 2,\n",
            "    \"disciplinas\": {\n",
            "        \"SO\": {\n",
            "            \"nome\": \"Sistemas Operacionais\",\n",
            "            \"hora_aula\": 1,\n",
            "            \"carga_horaria_semanal\": 4\n",
            "        },\n",
            "        \"MF\": {\n",
            "            \"nome\": \"M\\u00e9todos Formais\",\n",
            "            \"hora_aula\": 1,\n",
            "            \"carga_horaria_semanal\": 4\n",
            "        },\n",
            "        \"OC\": {\n",
            "            \"nome\": \"Organiza\\u00e7\\u00e3o de Computadores\",\n",
            "            \"hora_aula\": 1,\n",
            "            \"carga_horaria_semanal\": 4\n",
            "        },\n",
            "        \"CO\": {\n",
            "            \"nome\": \"Compiladores\",\n",
            "            \"hora_aula\": 1,\n",
            "            \"carga_horaria_semanal\": 4\n",
            "        },\n",
            "        \"IA\": {\n",
            "            \"nome\": \"Intelig\\u00eancia Artificial\",\n",
            "            \"hora_aula\": 1,\n",
            "            \"carga_horaria_semanal\": 4\n",
            "        }\n",
            "    }\n",
            "}\n"
          ]
        }
      ]
    },
    {
      "cell_type": "code",
      "source": [
        "disciplinas = {0: ('NA', 'Horário Vago')}\n",
        "\n",
        "for index, disciplina in enumerate(curso[\"disciplinas\"].items()):\n",
        "  disciplinas[index+1] = (disciplina[0], disciplina[1][\"nome\"])\n",
        "\n",
        "disciplinas"
      ],
      "metadata": {
        "colab": {
          "base_uri": "https://localhost:8080/"
        },
        "id": "jH4q2R88IrPP",
        "outputId": "e37fd2a7-b0c2-42d2-91b8-614d795c025d"
      },
      "execution_count": 4,
      "outputs": [
        {
          "output_type": "execute_result",
          "data": {
            "text/plain": [
              "{0: ('NA', 'Horário Vago'),\n",
              " 1: ('SO', 'Sistemas Operacionais'),\n",
              " 2: ('MF', 'Métodos Formais'),\n",
              " 3: ('OC', 'Organização de Computadores'),\n",
              " 4: ('CO', 'Compiladores'),\n",
              " 5: ('IA', 'Inteligência Artificial')}"
            ]
          },
          "metadata": {},
          "execution_count": 4
        }
      ]
    },
    {
      "cell_type": "markdown",
      "source": [
        "## Funções e Veriáveis Auxiliares"
      ],
      "metadata": {
        "id": "yJRnNtSC1s4g"
      }
    },
    {
      "cell_type": "code",
      "source": [
        "def converter_minutos(hora):\n",
        "  t = time.strptime(hora, '%H:%M')\n",
        "  minutos = t[3] * 60 + t[4]\n",
        "  return minutos"
      ],
      "metadata": {
        "id": "6pPQSTpA1xd-"
      },
      "execution_count": 5,
      "outputs": []
    },
    {
      "cell_type": "code",
      "source": [
        "def calcular_disciplinas_dia(curso, segmentacao_horario):\n",
        "  inicio, fim = curso['horario_inicio'], curso['horario_fim']\n",
        "  inicio, fim = converter_minutos(inicio), converter_minutos(fim)\n",
        "  return ((fim - inicio)/segmentacao_horario) + 1"
      ],
      "metadata": {
        "id": "HOjxnRd02IZl"
      },
      "execution_count": 6,
      "outputs": []
    },
    {
      "cell_type": "code",
      "source": [
        "dias_semana = ['Segunda','Terça','Quarta','Quinta','Sexta']"
      ],
      "metadata": {
        "id": "Fw8b6kHf7cSV"
      },
      "execution_count": 7,
      "outputs": []
    },
    {
      "cell_type": "markdown",
      "source": [
        "## Objetivos e Restrições do Sistema\n",
        "\n",
        "O algoritmo visa montar um quadro de trabalho semanal (QTS) que otimize certos aspectos\n",
        "\n",
        "- Objetivos:\n",
        "  - Menor Tempo de Espera Entre Aulas: horário de aula vaga entre aulas da mesma disciplina\n",
        "\n",
        "Além disso, deverá respeitar certas restrições\n",
        "\n",
        "- Restrições:\n",
        "  - Hora aula semanal: cada disciplina possui uma carga horária que deve ser cumprida ao longo da semana\n",
        "  - Aulas conjuntas: disciplinas devem ser lecionadas em forma de grupos. Ex.: 2 aulas seguidas da disciplina A, 3 aulas seguidas da disciplina B, etc\n"
      ],
      "metadata": {
        "id": "ZtJiiBm5y6Iz"
      }
    },
    {
      "cell_type": "markdown",
      "source": [
        "## Funções de Avaliação"
      ],
      "metadata": {
        "id": "l8WIcxG1n01G"
      }
    },
    {
      "cell_type": "markdown",
      "source": [
        "### Avaliar Objetivos"
      ],
      "metadata": {
        "id": "P-FYF8HLsdRm"
      }
    },
    {
      "cell_type": "markdown",
      "source": [
        "#### OBJETIVO 1: TEMPO DE OCIOSIDADE ENTRE AULAS DE MESMA DISCIPLINA"
      ],
      "metadata": {
        "id": "-ZP8QAZtdmGT"
      }
    },
    {
      "cell_type": "code",
      "source": [
        "def calcular_horas_vagas(aulas):\n",
        "  disciplinas = set(aulas);\n",
        "  aula_vaga = 0\n",
        "\n",
        "  for disciplina in disciplinas:\n",
        "    if disciplina == 0:                                                         #Ignora aulas vagas\n",
        "      continue\n",
        "\n",
        "    aula_atual = proxima_aula = 0\n",
        "    while aulas[proxima_aula:].count(disciplina) > 1:                           #Calcula horas vagas de uma disciplina\n",
        "      # print(\"Aula Atual: \", aula_atual, \"     Proxima Aula: \", proxima_aula)\n",
        "      aula_atual = aulas.index(disciplina, proxima_aula)\n",
        "      proxima_aula = aulas.index(disciplina, aula_atual+1)\n",
        "\n",
        "      aula_vaga += proxima_aula - (aula_atual + 1)\n",
        "\n",
        "  return aula_vaga"
      ],
      "metadata": {
        "id": "QuJwSSNL_unu"
      },
      "execution_count": 42,
      "outputs": []
    },
    {
      "cell_type": "code",
      "source": [
        "calcular_horas_vagas([2, 0, 2, 2, 0])"
      ],
      "metadata": {
        "colab": {
          "base_uri": "https://localhost:8080/"
        },
        "id": "01G41nwgA_gr",
        "outputId": "40898c74-1e03-449b-96bb-4872b11a930d"
      },
      "execution_count": 51,
      "outputs": [
        {
          "output_type": "execute_result",
          "data": {
            "text/plain": [
              "2"
            ]
          },
          "metadata": {},
          "execution_count": 51
        }
      ]
    },
    {
      "cell_type": "markdown",
      "source": [
        "### Avaliar Restrições"
      ],
      "metadata": {
        "id": "ZO8pOeZHspHd"
      }
    },
    {
      "cell_type": "markdown",
      "source": [
        "#### RESTRIÇÃO 2: AULAS CONJUNTAS"
      ],
      "metadata": {
        "id": "lPk1KUGDdx-J"
      }
    },
    {
      "cell_type": "code",
      "source": [
        "def calcular_aulas_esparsas(aulas, agrupamento):\n",
        "  tamanho_grupo_aulas = aulas_esparsas = count = 0\n",
        "  indices = [0]\n",
        "\n",
        "  while count <= len(aulas) - agrupamento:\n",
        "    if aulas[count] == 0:                                             #Não agrupa aulas vagas\n",
        "      count += 1\n",
        "      indices += [count]\n",
        "      continue\n",
        "\n",
        "    tamanho_grupo_aulas = len(set(aulas[count:count+agrupamento]))\n",
        "   \n",
        "    if 0 in aulas[count:count+agrupamento]:                           #Ignora aulas vagas\n",
        "      # print(\"Grupo Aula Vaga:\", aulas[count:count+agrupamento])\n",
        "      aulas_esparsas += tamanho_grupo_aulas - 1\n",
        "      count += 1\n",
        "    elif tamanho_grupo_aulas == 1:                                    #Aulas agrupadas\n",
        "      # print(\"Grupo:\", aulas[count:count+agrupamento])\n",
        "      count += agrupamento\n",
        "    else:                                                             #Aulas não agrupadas\n",
        "      # print(\"Não Grupo:\", aulas[count:count+agrupamento])\n",
        "      aulas_esparsas += tamanho_grupo_aulas\n",
        "      count += 1\n",
        "    \n",
        "    indices += [count]\n",
        "\n",
        "  tamanho_grupo_aulas = len(set(aulas[count:]))                       #Aulas desagrupadas (grupo menor do que deveria)\n",
        "\n",
        "  if 0 in aulas[count:]:                                              #Ignora aulas vagas\n",
        "    tamanho_grupo_aulas -= 1\n",
        "\n",
        "  if len(set(aulas[count - agrupamento:count])) == 1:                 #Desagrupados (aula agrupada anterior)\n",
        "    if len(aulas[indices[-2]:indices[-1]]) == agrupamento:\n",
        "      # print(\"Desagrupados:\", aulas[count:])\n",
        "      aulas_esparsas += tamanho_grupo_aulas\n",
        "  elif aulas[count-1] == 0:                                           #Desagrupados (aula vaga anterior)\n",
        "    # print(\"Desagrupados:\", aulas[count:])\n",
        "    aulas_esparsas += tamanho_grupo_aulas\n",
        "\n",
        "  return aulas_esparsas"
      ],
      "metadata": {
        "id": "qQ_3r1DlTp5A"
      },
      "execution_count": 10,
      "outputs": []
    },
    {
      "cell_type": "code",
      "source": [
        "calcular_aulas_esparsas([1,1,1,0,1,1], 3)                             #Desagrupados (aula vaga anterior)"
      ],
      "metadata": {
        "colab": {
          "base_uri": "https://localhost:8080/"
        },
        "id": "V7BrZtorefRA",
        "outputId": "1098aa29-444e-43a1-ec71-deac62bd5ad4"
      },
      "execution_count": 11,
      "outputs": [
        {
          "output_type": "execute_result",
          "data": {
            "text/plain": [
              "1"
            ]
          },
          "metadata": {},
          "execution_count": 11
        }
      ]
    },
    {
      "cell_type": "code",
      "source": [
        "calcular_aulas_esparsas([1,1,2,2,3,3,4,3,3,3], 2)                     #Desagrupados (aula agrupada anterior)"
      ],
      "metadata": {
        "colab": {
          "base_uri": "https://localhost:8080/"
        },
        "id": "Kr-ZbtTCvw1U",
        "outputId": "20e2a1d5-19fe-4ef8-f55c-f5a304084325"
      },
      "execution_count": 12,
      "outputs": [
        {
          "output_type": "execute_result",
          "data": {
            "text/plain": [
              "3"
            ]
          },
          "metadata": {},
          "execution_count": 12
        }
      ]
    },
    {
      "cell_type": "markdown",
      "source": [
        "##Definir Cromossomo\n",
        "\n",
        "Definir a sequência genética de formação de um cromossomo\n",
        "\n",
        "Os genes determinam aspectos de um indivíduo e o cromossomo é o conjunto dessas características o qual forma o indivíduo (possível solução do problema)\n",
        "\n",
        "O cromossomo está estruturado da seguinte forma:\n",
        "- turma -> dias da semana -> disciplinas\n",
        "- Não há divisão física entre os dados, eles são sequenciais\n",
        "- As informações indicadas no primeiro tópico se repetem N vezes onde N indica o número de turmas\n",
        "\n",
        "[Turma1:(Segunda:(..disciplinas), Terça:(..disciplinas), Quarta:(..disciplinas), Quinta:(..disciplinas), Sexta:(..disciplinas)), Turma2:(Segunda:(..disciplinas), Terça:(..disciplinas), Quarta:(..disciplinas), Quinta:(..disciplinas), Sexta:(..disciplinas))..]\n",
        "\n",
        "Ex.: [(SO,SO,SO,SO,MF,MF), (MF,MF,OC,OC,OC,OC), (CO,CO,CO,CO,IA,IA), (IA,IA,NA,NA,NA,NA), (NA,NA,NA,NA,NA,NA),</br>\n",
        "(SO,SO,SO,SO,MF,MF), (MF,MF,OC,OC,OC,OC), (CO,CO,CO,CO,IA,IA), (IA,IA,NA,NA,NA,NA), (NA,NA,NA,NA,NA,NA)]"
      ],
      "metadata": {
        "id": "L9vgHiG_KAc0"
      }
    },
    {
      "cell_type": "code",
      "source": [
        "segmentacao_horario = 60                                                        # Divisão do horário no QTS (minutos)\n",
        "disciplinas_dia = int(calcular_disciplinas_dia(curso, segmentacao_horario))     # Retorna quantidade de sessões destinadas às disciplinas em um dia"
      ],
      "metadata": {
        "id": "9YHLBelcF-42"
      },
      "execution_count": 13,
      "outputs": []
    },
    {
      "cell_type": "code",
      "source": [
        "disciplinas_dia"
      ],
      "metadata": {
        "colab": {
          "base_uri": "https://localhost:8080/"
        },
        "id": "BgyHR4Z9-23X",
        "outputId": "acf20d3b-f262-4a81-b213-d707b431e884"
      },
      "execution_count": 14,
      "outputs": [
        {
          "output_type": "execute_result",
          "data": {
            "text/plain": [
              "6"
            ]
          },
          "metadata": {},
          "execution_count": 14
        }
      ]
    },
    {
      "cell_type": "markdown",
      "source": [
        "###Funções de Geração do Cromossomo"
      ],
      "metadata": {
        "id": "GzCjKiDRpCPV"
      }
    },
    {
      "cell_type": "code",
      "source": [
        "def gerar_aulas_conjuntas(tamanho_cromossomo, dominio):\n",
        "  cromossomo, tamanho_grupo = [], curso[\"maximo_aulas_dia\"]\n",
        "  quantidade_semanas = tamanho_cromossomo // disciplinas_dia                  \n",
        "  quantidade_grupos_aulas = disciplinas_dia // tamanho_grupo\n",
        "  quantidade_aulas_vagas = disciplinas_dia % tamanho_grupo\n",
        "\n",
        "  for semana in range(quantidade_semanas):                                      \n",
        "    for grupo_aula in range(quantidade_grupos_aulas):                           \n",
        "      gene = random.randint(dominio[0], dominio[1])\n",
        "\n",
        "      cromossomo += [gene] * tamanho_grupo\n",
        "    cromossomo += [0] * quantidade_aulas_vagas\n",
        "\n",
        "  return cromossomo"
      ],
      "metadata": {
        "id": "dzd_r5W_hZH4"
      },
      "execution_count": 15,
      "outputs": []
    },
    {
      "cell_type": "code",
      "source": [
        "semanas = 1\n",
        "for i in range(10):\n",
        "  print(gerar_aulas_conjuntas(disciplinas_dia*semanas, (0, 5)))"
      ],
      "metadata": {
        "colab": {
          "base_uri": "https://localhost:8080/"
        },
        "id": "eGnN9IGmQn7s",
        "outputId": "18c714e1-4281-4156-a873-4fa083085cfa"
      },
      "execution_count": 53,
      "outputs": [
        {
          "output_type": "stream",
          "name": "stdout",
          "text": [
            "[2, 2, 1, 1, 0, 0]\n",
            "[3, 3, 0, 0, 3, 3]\n",
            "[0, 0, 2, 2, 3, 3]\n",
            "[5, 5, 1, 1, 2, 2]\n",
            "[3, 3, 5, 5, 0, 0]\n",
            "[0, 0, 4, 4, 2, 2]\n",
            "[1, 1, 0, 0, 5, 5]\n",
            "[1, 1, 1, 1, 3, 3]\n",
            "[5, 5, 4, 4, 0, 0]\n",
            "[0, 0, 1, 1, 0, 0]\n"
          ]
        }
      ]
    },
    {
      "cell_type": "markdown",
      "source": [
        "###Gerar Cromossomo"
      ],
      "metadata": {
        "id": "uIFBXvrgpMZf"
      }
    },
    {
      "cell_type": "code",
      "source": [
        "def gerar_cromossomo_sem_restricoes(turmas, qtd_dias_semana, disciplinas_dia, dominio):\n",
        "  tamanho_cromossomo = turmas*qtd_dias_semana*disciplinas_dia\n",
        "  cromossomo = []\n",
        "\n",
        "  for i in range(tamanho_cromossomo):\n",
        "    cromossomo += [random.randint(dominio[0], dominio[1])]\n",
        "\n",
        "  return cromossomo"
      ],
      "metadata": {
        "id": "NRiuUeZ4-dCY"
      },
      "execution_count": 17,
      "outputs": []
    },
    {
      "cell_type": "code",
      "source": [
        "def gerar_cromossomo_com_restricoes(turmas, qtd_dias_semana, disciplinas_dia, dominio):\n",
        "  tamanho_cromossomo = turmas*qtd_dias_semana*disciplinas_dia\n",
        "  cromossomo = []\n",
        "\n",
        "  cromossomo += gerar_aulas_conjuntas(tamanho_cromossomo, dominio)              #Restrição 2\n",
        "\n",
        "  return cromossomo"
      ],
      "metadata": {
        "id": "7riexydNNn2f"
      },
      "execution_count": 18,
      "outputs": []
    },
    {
      "cell_type": "code",
      "source": [
        "cromossomo = gerar_cromossomo_sem_restricoes(curso['quantidade_turmas'],len(dias_semana),disciplinas_dia,(0, len(disciplinas)))\n",
        "print(cromossomo, \"\\nTamanho:\", len(cromossomo))"
      ],
      "metadata": {
        "colab": {
          "base_uri": "https://localhost:8080/"
        },
        "id": "WAq6lQVW_iWh",
        "outputId": "ee03fbed-d150-4691-c339-6fecc24b5447"
      },
      "execution_count": 19,
      "outputs": [
        {
          "output_type": "stream",
          "name": "stdout",
          "text": [
            "[6, 0, 3, 1, 0, 1, 3, 4, 1, 2, 3, 3, 3, 6, 2, 1, 6, 6, 6, 3, 2, 6, 2, 4, 4, 3, 5, 2, 1, 4, 5, 5, 3, 2, 3, 4, 4, 4, 1, 6, 0, 5, 2, 1, 2, 4, 4, 1, 1, 1, 5, 1, 0, 0, 1, 1, 4, 3, 5, 0, 0, 0, 0, 6, 0, 6, 5, 3, 4, 1, 3, 5, 1, 6, 4, 5, 2, 4, 1, 4, 0, 4, 5, 4, 1, 5, 5, 4, 0, 4, 6, 1, 0, 4, 6, 6, 3, 6, 2, 1, 4, 6, 3, 5, 2, 1, 1, 2, 3, 1, 0, 0, 1, 4, 5, 6, 0, 0, 2, 6, 2, 2, 3, 5, 2, 2, 0, 1, 5, 6, 6, 0, 6, 4, 4, 4, 2, 1, 0, 4, 0, 5, 5, 6, 0, 1, 3, 5, 5, 5] \n",
            "Tamanho: 150\n"
          ]
        }
      ]
    },
    {
      "cell_type": "code",
      "source": [
        "cromossomo = gerar_cromossomo_com_restricoes(curso['quantidade_turmas'],len(dias_semana),disciplinas_dia,(0, len(disciplinas)))\n",
        "print(cromossomo, \"\\nTamanho:\", len(cromossomo))"
      ],
      "metadata": {
        "colab": {
          "base_uri": "https://localhost:8080/"
        },
        "id": "D-4YL_cjPbBn",
        "outputId": "48555996-c1de-4791-a513-6c786c7f9f7d"
      },
      "execution_count": 20,
      "outputs": [
        {
          "output_type": "stream",
          "name": "stdout",
          "text": [
            "[0, 0, 0, 0, 1, 1, 2, 2, 0, 0, 5, 5, 2, 2, 1, 1, 0, 0, 1, 1, 5, 5, 1, 1, 3, 3, 5, 5, 2, 2, 6, 6, 0, 0, 4, 4, 4, 4, 0, 0, 2, 2, 2, 2, 6, 6, 2, 2, 3, 3, 4, 4, 4, 4, 0, 0, 4, 4, 5, 5, 5, 5, 2, 2, 5, 5, 4, 4, 3, 3, 6, 6, 4, 4, 1, 1, 3, 3, 1, 1, 6, 6, 6, 6, 4, 4, 0, 0, 2, 2, 4, 4, 3, 3, 5, 5, 5, 5, 6, 6, 6, 6, 6, 6, 5, 5, 6, 6, 3, 3, 6, 6, 2, 2, 0, 0, 0, 0, 3, 3, 1, 1, 6, 6, 4, 4, 1, 1, 5, 5, 6, 6, 1, 1, 6, 6, 4, 4, 3, 3, 4, 4, 6, 6, 1, 1, 3, 3, 2, 2] \n",
            "Tamanho: 150\n"
          ]
        }
      ]
    },
    {
      "cell_type": "markdown",
      "source": [
        "# Função de Avaliação (Fitness Function)\n",
        "Algoritmo que atribui pontuação ao indivíduo gerado (possível solução) baseada no objetivo estabelecido e critérios do sistema\n",
        "\n",
        "A implementação da função de fitness penaliza os QTS que infrinjem restrições\n",
        "\n",
        "Critérios:\n",
        "- Objetivo\n",
        "  - Tempo de ociosadade entre aulas de mesma disciplina\n",
        "- Restrições\n",
        "  - Hora aula semanal de cada disciplina\n",
        "  - Aulas conjuntas"
      ],
      "metadata": {
        "id": "vcpW2xs3woJf"
      }
    },
    {
      "cell_type": "markdown",
      "source": [
        "### Objetivos"
      ],
      "metadata": {
        "id": "FziK7DgAN6m9"
      }
    },
    {
      "cell_type": "code",
      "source": [
        "def avaliar_objetivos(aulas_dia):\n",
        "  pontuacao = 0\n",
        "\n",
        "  pontuacao += calcular_horas_vagas(aulas_dia)                                  #Objetivo 1\n",
        "  \n",
        "  return pontuacao"
      ],
      "metadata": {
        "id": "rsqULPQIN6m-"
      },
      "execution_count": 21,
      "outputs": []
    },
    {
      "cell_type": "markdown",
      "source": [
        "#### Testes de Objetivos"
      ],
      "metadata": {
        "id": "tz6VwIdXN6m_"
      }
    },
    {
      "cell_type": "code",
      "source": [
        "# TESTE DE OBJETIVOS COM CROMOSSOMOS SEM RESTRIÇÕES\n",
        "pontuacao_objetivo, pontos = [], 0\n",
        "for i in range(1000):\n",
        "  cromossomo = gerar_cromossomo_sem_restricoes(curso['quantidade_turmas'],len(dias_semana),disciplinas_dia,(0, len(disciplinas)))\n",
        "  for i in range(0, len(cromossomo), disciplinas_dia):\n",
        "    pontos += avaliar_objetivos(cromossomo[i:i+disciplinas_dia])\n",
        "  pontuacao_objetivo.append((pontos, cromossomo))\n",
        "  pontos = 0\n",
        "\n",
        "pontuacao_objetivo = sorted(pontuacao_objetivo, key=lambda x: x[0])\n",
        "print(pontuacao_objetivo[-1])"
      ],
      "metadata": {
        "colab": {
          "base_uri": "https://localhost:8080/"
        },
        "id": "zdu250enN6m_",
        "outputId": "c475dae8-2867-4913-9d84-586752bbf512"
      },
      "execution_count": 22,
      "outputs": [
        {
          "output_type": "stream",
          "name": "stdout",
          "text": [
            "(39, [1, 3, 5, 6, 6, 6, 3, 3, 5, 1, 3, 5, 6, 1, 5, 0, 4, 5, 2, 3, 6, 1, 3, 1, 6, 6, 1, 5, 5, 3, 2, 0, 1, 2, 3, 4, 0, 6, 2, 1, 6, 2, 0, 1, 6, 5, 3, 3, 0, 3, 5, 6, 5, 1, 4, 2, 6, 1, 1, 6, 0, 4, 1, 5, 0, 1, 3, 4, 1, 3, 2, 0, 5, 3, 3, 5, 0, 2, 1, 4, 1, 5, 3, 3, 5, 0, 6, 5, 6, 3, 3, 6, 0, 1, 4, 6, 3, 5, 6, 1, 4, 4, 2, 1, 0, 1, 0, 6, 4, 5, 3, 6, 4, 5, 5, 1, 4, 6, 4, 1, 6, 2, 5, 2, 4, 5, 3, 5, 3, 5, 3, 5, 6, 0, 6, 1, 6, 5, 6, 4, 5, 4, 3, 1, 1, 5, 0, 4, 0, 4])\n"
          ]
        }
      ]
    },
    {
      "cell_type": "code",
      "source": [
        "# TESTE DE OBJETIVOS COM CROMOSSOMOS COM RESTRIÇÕES\n",
        "pontuacao_objetivo, pontos = [], 0\n",
        "for i in range(1000):\n",
        "  cromossomo = gerar_cromossomo_com_restricoes(curso['quantidade_turmas'],len(dias_semana),disciplinas_dia,(0, len(disciplinas)))\n",
        "  for i in range(0, len(cromossomo), disciplinas_dia):\n",
        "    pontos += avaliar_objetivos(cromossomo[i:i+disciplinas_dia])\n",
        "  pontuacao_objetivo.append((pontos, cromossomo))\n",
        "  pontos = 0\n",
        "\n",
        "pontuacao_objetivo = sorted(pontuacao_objetivo, key=lambda x: x[0])\n",
        "print(pontuacao_objetivo[-1])"
      ],
      "metadata": {
        "colab": {
          "base_uri": "https://localhost:8080/"
        },
        "id": "usRHqg3FN6nB",
        "outputId": "535e8346-19d2-4291-8a44-d9fe252ebbf7"
      },
      "execution_count": 23,
      "outputs": [
        {
          "output_type": "stream",
          "name": "stdout",
          "text": [
            "(18, [6, 6, 3, 3, 6, 6, 3, 3, 6, 6, 3, 3, 3, 3, 1, 1, 3, 3, 4, 4, 6, 6, 0, 0, 5, 5, 4, 4, 4, 4, 5, 5, 3, 3, 5, 5, 4, 4, 5, 5, 1, 1, 5, 5, 0, 0, 5, 5, 1, 1, 4, 4, 1, 1, 2, 2, 1, 1, 5, 5, 4, 4, 3, 3, 3, 3, 3, 3, 2, 2, 0, 0, 5, 5, 1, 1, 5, 5, 5, 5, 3, 3, 6, 6, 0, 0, 2, 2, 4, 4, 5, 5, 4, 4, 1, 1, 5, 5, 2, 2, 3, 3, 2, 2, 3, 3, 3, 3, 0, 0, 2, 2, 0, 0, 3, 3, 5, 5, 3, 3, 6, 6, 4, 4, 1, 1, 3, 3, 1, 1, 5, 5, 1, 1, 3, 3, 1, 1, 2, 2, 5, 5, 6, 6, 4, 4, 6, 6, 3, 3])\n"
          ]
        }
      ]
    },
    {
      "cell_type": "markdown",
      "source": [
        "### Restrições\n"
      ],
      "metadata": {
        "id": "bZxKvU5ruMus"
      }
    },
    {
      "cell_type": "code",
      "source": [
        "# Penalidade(x) = (P * desvio)^2\n",
        "def aplicar_penalidades(aulas_dia):\n",
        "  constante_penalidade = 4\n",
        "  desvio = 0\n",
        "  \n",
        "  desvio += calcular_aulas_esparsas(aulas_dia, curso['maximo_aulas_dia'])       #Restrição 2\n",
        "  \n",
        "  return math.pow((constante_penalidade * desvio), 2)"
      ],
      "metadata": {
        "id": "ubLoTHvMjkyy"
      },
      "execution_count": 24,
      "outputs": []
    },
    {
      "cell_type": "markdown",
      "source": [
        "#### Testes de Restrições"
      ],
      "metadata": {
        "id": "G0Lm0iRzZccb"
      }
    },
    {
      "cell_type": "code",
      "source": [
        "# TESTE DE RESTRIÇÕES COM CROMOSSOMOS SEM RESTRIÇÕES\n",
        "pontuacao_objetivo, pontos = [], 0\n",
        "for i in range(1000):\n",
        "  cromossomo = gerar_cromossomo_sem_restricoes(curso['quantidade_turmas'],len(dias_semana),disciplinas_dia,(0, len(disciplinas)))\n",
        "  for i in range(0, len(cromossomo), disciplinas_dia):\n",
        "    pontos += aplicar_penalidades(cromossomo[i:i+disciplinas_dia])\n",
        "  pontuacao_objetivo.append((pontos, cromossomo))\n",
        "  pontos = 0\n",
        "\n",
        "pontuacao_objetivo = sorted(pontuacao_objetivo, key=lambda x: x[0])\n",
        "print(pontuacao_objetivo[-1])"
      ],
      "metadata": {
        "colab": {
          "base_uri": "https://localhost:8080/"
        },
        "id": "X2gW0xKJAm-G",
        "outputId": "37378737-d31e-41b9-83fd-ae580471a3e7"
      },
      "execution_count": 25,
      "outputs": [
        {
          "output_type": "stream",
          "name": "stdout",
          "text": [
            "(26128.0, [0, 4, 1, 6, 2, 5, 3, 4, 2, 3, 2, 3, 6, 0, 1, 6, 1, 6, 2, 6, 2, 1, 6, 1, 5, 1, 4, 3, 5, 1, 5, 1, 2, 3, 4, 4, 3, 5, 1, 5, 4, 1, 6, 1, 5, 4, 1, 2, 4, 1, 2, 5, 2, 0, 5, 2, 5, 1, 6, 6, 2, 1, 4, 5, 6, 4, 5, 1, 0, 2, 4, 0, 0, 2, 5, 2, 1, 2, 3, 3, 1, 0, 6, 6, 4, 5, 6, 5, 6, 4, 2, 4, 2, 4, 0, 6, 5, 0, 5, 0, 1, 4, 5, 6, 0, 5, 4, 5, 1, 3, 5, 3, 4, 6, 4, 3, 0, 3, 0, 1, 0, 5, 0, 3, 2, 6, 0, 3, 4, 2, 2, 3, 1, 5, 1, 5, 1, 2, 1, 3, 2, 2, 0, 3, 5, 3, 2, 6, 1, 0])\n"
          ]
        }
      ]
    },
    {
      "cell_type": "code",
      "source": [
        "# TESTE DE RESTRIÇÕES COM CROMOSSOMOS COM RESTRIÇÕES\n",
        "pontuacao_objetivo, pontos = [], 0\n",
        "for i in range(10000):\n",
        "  cromossomo = gerar_cromossomo_com_restricoes(curso['quantidade_turmas'],len(dias_semana),disciplinas_dia,(0, len(disciplinas)))\n",
        "  for i in range(0, len(cromossomo), disciplinas_dia):\n",
        "    pontos += aplicar_penalidades(cromossomo[i:i+disciplinas_dia])\n",
        "  pontuacao_objetivo.append((pontos, cromossomo))\n",
        "  pontos = 0\n",
        "\n",
        "pontuacao_objetivo = sorted(pontuacao_objetivo, key=lambda x: x[0])\n",
        "print(pontuacao_objetivo[-1])"
      ],
      "metadata": {
        "colab": {
          "base_uri": "https://localhost:8080/"
        },
        "id": "OzOuHi0fbLpM",
        "outputId": "bb3a4f27-d7a8-4001-b23c-ecd0a75bacb7"
      },
      "execution_count": 26,
      "outputs": [
        {
          "output_type": "stream",
          "name": "stdout",
          "text": [
            "(0.0, [3, 3, 2, 2, 5, 5, 2, 2, 4, 4, 0, 0, 3, 3, 5, 5, 5, 5, 2, 2, 5, 5, 6, 6, 2, 2, 0, 0, 3, 3, 0, 0, 4, 4, 2, 2, 2, 2, 3, 3, 1, 1, 0, 0, 2, 2, 6, 6, 5, 5, 3, 3, 5, 5, 1, 1, 1, 1, 5, 5, 2, 2, 2, 2, 1, 1, 5, 5, 2, 2, 6, 6, 2, 2, 4, 4, 0, 0, 5, 5, 3, 3, 1, 1, 4, 4, 1, 1, 3, 3, 2, 2, 1, 1, 1, 1, 5, 5, 6, 6, 0, 0, 2, 2, 1, 1, 2, 2, 2, 2, 2, 2, 2, 2, 3, 3, 5, 5, 0, 0, 2, 2, 0, 0, 1, 1, 1, 1, 3, 3, 5, 5, 6, 6, 5, 5, 5, 5, 3, 3, 6, 6, 4, 4, 6, 6, 0, 0, 5, 5])\n"
          ]
        }
      ]
    },
    {
      "cell_type": "markdown",
      "source": [
        "###Fitness Function"
      ],
      "metadata": {
        "id": "CtJIrvtKphvt"
      }
    },
    {
      "cell_type": "code",
      "source": [
        "def funcao_avaliacao_sem_penalidades(calendario):\n",
        "  pontuacao = 0\n",
        "\n",
        "  for i in range(0, len(calendario), disciplinas_dia):\n",
        "    aulas_dia = calendario[i:i+disciplinas_dia]\n",
        "\n",
        "    pontuacao += avaliar_objetivos(aulas_dia)                                   #Pontuar pela minimização dos objetivos\n",
        "  \n",
        "  return pontuacao"
      ],
      "metadata": {
        "id": "dfVJj1lGexDK"
      },
      "execution_count": 54,
      "outputs": []
    },
    {
      "cell_type": "code",
      "source": [
        "def funcao_avaliacao_com_penalidades(calendario):\n",
        "  pontuacao = 0\n",
        "\n",
        "  for i in range(0, len(calendario), disciplinas_dia):\n",
        "    aulas_dia = calendario[i:i+disciplinas_dia]\n",
        "\n",
        "    pontuacao += avaliar_objetivos(aulas_dia)                                   #Pontuar pela minimização dos objetivos\n",
        "    pontuacao += aplicar_penalidades(aulas_dia)                                 #Penalizar descumprimento das restrições\n",
        "  \n",
        "  return pontuacao"
      ],
      "metadata": {
        "id": "R8YhhUhmq-r3"
      },
      "execution_count": 55,
      "outputs": []
    },
    {
      "cell_type": "code",
      "source": [
        "funcao_avaliacao_sem_penalidades([1,1,0,0,2,0, 0,2,0,3,0,3, 0,4,4,4,5,0, 5,5,0,0,0,0, 0,0,0,0,0,0,\n",
        "                                  1,1,0,3,2,0, 2,2,0,3,0,3, 0,4,4,4,5,0, 5,5,0,0,0,0, 0,0,0,0,0,0,\n",
        "                                  1,1,5,1,2,0, 2,2,0,3,0,3, 1,0,0,0,0,1, 5,5,0,0,0,0, 0,0,0,0,0,0])"
      ],
      "metadata": {
        "id": "8-PjSbHLBbt7",
        "colab": {
          "base_uri": "https://localhost:8080/"
        },
        "outputId": "b487669f-b222-488e-c378-1d2d2953e214"
      },
      "execution_count": 56,
      "outputs": [
        {
          "output_type": "execute_result",
          "data": {
            "text/plain": [
              "8"
            ]
          },
          "metadata": {},
          "execution_count": 56
        }
      ]
    },
    {
      "cell_type": "code",
      "source": [
        "funcao_avaliacao_com_penalidades([1,1,0,0,2,0, 0,2,0,3,0,3, 0,4,4,4,5,0, 5,5,0,0,0,0, 0,0,0,0,0,0,\n",
        "                                  1,1,0,3,2,0, 2,2,0,3,0,3, 0,4,4,4,5,0, 5,5,0,0,0,0, 0,0,0,0,0,0,\n",
        "                                  1,1,5,1,2,0, 2,2,0,3,0,3, 1,0,0,0,0,1, 5,5,0,0,0,0, 0,0,0,0,0,0])"
      ],
      "metadata": {
        "colab": {
          "base_uri": "https://localhost:8080/"
        },
        "id": "Cx1cW87Je9wP",
        "outputId": "72cc599a-1f69-447e-b616-9776741cdf71"
      },
      "execution_count": 57,
      "outputs": [
        {
          "output_type": "execute_result",
          "data": {
            "text/plain": [
              "1144.0"
            ]
          },
          "metadata": {},
          "execution_count": 57
        }
      ]
    },
    {
      "cell_type": "markdown",
      "source": [
        "# Impressão de Quadro de Trabalho Semanal"
      ],
      "metadata": {
        "id": "rVxczKmoOri6"
      }
    },
    {
      "cell_type": "code",
      "source": [
        "def imprimir_qts(calendario):\n",
        "  dia_id = 0\n",
        "  espera_total = 0\n",
        "  qtd_dias_semana = len(dias_semana)\n",
        "\n",
        "  for i in range(curso[\"quantidade_turmas\"]):\n",
        "    print(f\"\\n{i+1}ª Turma:\")\n",
        "    inicio_turma = i*(disciplinas_dia*qtd_dias_semana)\n",
        "    for j in range(qtd_dias_semana):\n",
        "        dia = dias_semana[j]\n",
        "        comeco_semana = inicio_turma + j*disciplinas_dia\n",
        "        \n",
        "        disciplinas_semana = calendario[comeco_semana:comeco_semana+disciplinas_dia]                        # coleta as disciplinas da semana\n",
        "        ordem_disciplinas = [disciplinas[disciplina][0] for disciplina in disciplinas_semana]               # traduz números em disciplinas\n",
        "\n",
        "        dia_id += 1                                                                                         # próximo dia da semana\n",
        "        print(f'|{dia:7}| {\", \".join(ordem_disciplinas)}|')\n",
        "        \n",
        "        espera_total += avaliar_objetivos(disciplinas_semana)\n",
        "\n",
        "  print(f'\\nTempo Total de Espera Entre Aulas: {espera_total} {\"Horas\" if espera_total != 1 else \"Hora\"}')"
      ],
      "metadata": {
        "id": "G7_jsoPGOri7"
      },
      "execution_count": 29,
      "outputs": []
    },
    {
      "cell_type": "code",
      "source": [
        "imprimir_qts([1,1,1,1,2,2, 2,2,3,3,3,3, 4,4,4,4,5,5, 5,5,0,0,0,0, 0,0,0,0,0,0,\n",
        "              1,1,1,1,2,2, 2,2,3,3,3,3, 4,4,4,4,5,5, 5,5,0,0,0,0, 0,0,0,0,0,0,\n",
        "              1,1,1,1,2,2, 2,2,3,3,3,3, 4,4,4,4,5,5, 5,5,0,0,0,0, 0,0,0,0,0,0,\n",
        "              1,1,1,1,2,2, 2,2,3,3,3,3, 4,4,4,4,5,5, 5,5,0,0,0,0, 0,0,0,0,0,0,\n",
        "              1,1,1,1,2,2, 2,2,3,3,3,3, 4,4,4,4,5,5, 5,5,0,0,0,0, 0,0,0,0,0,0])"
      ],
      "metadata": {
        "colab": {
          "base_uri": "https://localhost:8080/"
        },
        "outputId": "0ef0c86e-1700-4b7a-f8b3-8df576c1a0bf",
        "id": "TDggotXTOri7"
      },
      "execution_count": 30,
      "outputs": [
        {
          "output_type": "stream",
          "name": "stdout",
          "text": [
            "\n",
            "1ª Turma:\n",
            "|Segunda| SO, SO, SO, SO, MF, MF|\n",
            "|Terça  | MF, MF, OC, OC, OC, OC|\n",
            "|Quarta | CO, CO, CO, CO, IA, IA|\n",
            "|Quinta | IA, IA, NA, NA, NA, NA|\n",
            "|Sexta  | NA, NA, NA, NA, NA, NA|\n",
            "\n",
            "2ª Turma:\n",
            "|Segunda| SO, SO, SO, SO, MF, MF|\n",
            "|Terça  | MF, MF, OC, OC, OC, OC|\n",
            "|Quarta | CO, CO, CO, CO, IA, IA|\n",
            "|Quinta | IA, IA, NA, NA, NA, NA|\n",
            "|Sexta  | NA, NA, NA, NA, NA, NA|\n",
            "\n",
            "3ª Turma:\n",
            "|Segunda| SO, SO, SO, SO, MF, MF|\n",
            "|Terça  | MF, MF, OC, OC, OC, OC|\n",
            "|Quarta | CO, CO, CO, CO, IA, IA|\n",
            "|Quinta | IA, IA, NA, NA, NA, NA|\n",
            "|Sexta  | NA, NA, NA, NA, NA, NA|\n",
            "\n",
            "4ª Turma:\n",
            "|Segunda| SO, SO, SO, SO, MF, MF|\n",
            "|Terça  | MF, MF, OC, OC, OC, OC|\n",
            "|Quarta | CO, CO, CO, CO, IA, IA|\n",
            "|Quinta | IA, IA, NA, NA, NA, NA|\n",
            "|Sexta  | NA, NA, NA, NA, NA, NA|\n",
            "\n",
            "5ª Turma:\n",
            "|Segunda| SO, SO, SO, SO, MF, MF|\n",
            "|Terça  | MF, MF, OC, OC, OC, OC|\n",
            "|Quarta | CO, CO, CO, CO, IA, IA|\n",
            "|Quinta | IA, IA, NA, NA, NA, NA|\n",
            "|Sexta  | NA, NA, NA, NA, NA, NA|\n",
            "\n",
            "Tempo Total de Espera Entre Aulas: 0 Horas\n"
          ]
        }
      ]
    },
    {
      "cell_type": "markdown",
      "source": [
        "#Criar o Domínio de Variação dos Genes"
      ],
      "metadata": {
        "id": "eL1f_FP-xANt"
      }
    },
    {
      "cell_type": "code",
      "source": [
        "dominio = [(0, len(disciplinas)-1)] * (curso[\"quantidade_turmas\"] * len(dias_semana) * len(disciplinas))\n",
        "print(f'Domínio: {dominio}\\nElementos: {len(dominio)}')"
      ],
      "metadata": {
        "colab": {
          "base_uri": "https://localhost:8080/"
        },
        "id": "DNYj2C9ZOhLZ",
        "outputId": "2cac9033-a074-4de3-db49-0f5777c96fe1"
      },
      "execution_count": 31,
      "outputs": [
        {
          "output_type": "stream",
          "name": "stdout",
          "text": [
            "Domínio: [(0, 5), (0, 5), (0, 5), (0, 5), (0, 5), (0, 5), (0, 5), (0, 5), (0, 5), (0, 5), (0, 5), (0, 5), (0, 5), (0, 5), (0, 5), (0, 5), (0, 5), (0, 5), (0, 5), (0, 5), (0, 5), (0, 5), (0, 5), (0, 5), (0, 5), (0, 5), (0, 5), (0, 5), (0, 5), (0, 5), (0, 5), (0, 5), (0, 5), (0, 5), (0, 5), (0, 5), (0, 5), (0, 5), (0, 5), (0, 5), (0, 5), (0, 5), (0, 5), (0, 5), (0, 5), (0, 5), (0, 5), (0, 5), (0, 5), (0, 5), (0, 5), (0, 5), (0, 5), (0, 5), (0, 5), (0, 5), (0, 5), (0, 5), (0, 5), (0, 5), (0, 5), (0, 5), (0, 5), (0, 5), (0, 5), (0, 5), (0, 5), (0, 5), (0, 5), (0, 5), (0, 5), (0, 5), (0, 5), (0, 5), (0, 5), (0, 5), (0, 5), (0, 5), (0, 5), (0, 5), (0, 5), (0, 5), (0, 5), (0, 5), (0, 5), (0, 5), (0, 5), (0, 5), (0, 5), (0, 5), (0, 5), (0, 5), (0, 5), (0, 5), (0, 5), (0, 5), (0, 5), (0, 5), (0, 5), (0, 5), (0, 5), (0, 5), (0, 5), (0, 5), (0, 5), (0, 5), (0, 5), (0, 5), (0, 5), (0, 5), (0, 5), (0, 5), (0, 5), (0, 5), (0, 5), (0, 5), (0, 5), (0, 5), (0, 5), (0, 5), (0, 5), (0, 5), (0, 5), (0, 5), (0, 5), (0, 5), (0, 5), (0, 5), (0, 5), (0, 5), (0, 5), (0, 5), (0, 5), (0, 5), (0, 5), (0, 5), (0, 5), (0, 5), (0, 5), (0, 5), (0, 5), (0, 5), (0, 5), (0, 5), (0, 5), (0, 5), (0, 5), (0, 5), (0, 5), (0, 5)]\n",
            "Elementos: 150\n"
          ]
        }
      ]
    },
    {
      "cell_type": "markdown",
      "source": [
        "# Mutação"
      ],
      "metadata": {
        "id": "2Npp9cugy-in"
      }
    },
    {
      "cell_type": "code",
      "source": [
        "def mutacao(dominio, passo, calendario, probabilidade):\n",
        "  gene = random.randint(0, len(dominio) - 1)    #Escolha do gene que sofrerá a mutação\n",
        "  mutante = calendario\n",
        "  #print(\"Gene: \", gene)\n",
        "  #Joga um número aleatório para verificar se haverá mutação.\n",
        "  if random.random() < probabilidade:\n",
        "    if calendario[gene] != dominio[gene][0]:    #Verifica borda inferior\n",
        "      mutante = calendario[0:gene] + [calendario[gene] - passo] + calendario[gene + 1:]\n",
        "    elif calendario[gene] != dominio[gene][1]:  #Verifica borda superior\n",
        "      mutante = calendario[0:gene] + [calendario[gene] + passo] + calendario[gene + 1:]\n",
        "  return mutante"
      ],
      "metadata": {
        "id": "5RAZcpBWy_gb"
      },
      "execution_count": 32,
      "outputs": []
    },
    {
      "cell_type": "code",
      "source": [
        "print(mutacao(dominio[0:30], 2, [1,1,1,1,2,2, 2,2,3,3,3,3, 4,4,4,4,5,5, 5,5,0,0,0,0, 0,0,0,0,0,0], 0.9))"
      ],
      "metadata": {
        "id": "x6XLd7Cw0fHZ",
        "colab": {
          "base_uri": "https://localhost:8080/"
        },
        "outputId": "6f73fb45-deb3-45dc-a8e3-f27edb693fe4"
      },
      "execution_count": 33,
      "outputs": [
        {
          "output_type": "stream",
          "name": "stdout",
          "text": [
            "[1, 1, 1, 1, 2, 2, 2, 2, 3, 3, 3, 3, 4, 4, 4, 4, 5, 5, 3, 5, 0, 0, 0, 0, 0, 0, 0, 0, 0, 0]\n"
          ]
        }
      ]
    },
    {
      "cell_type": "markdown",
      "source": [
        "# Crossover"
      ],
      "metadata": {
        "id": "Q-T8bim57cf6"
      }
    },
    {
      "cell_type": "code",
      "source": [
        "def crossover(dominio, individuo1, individuo2):\n",
        "  gene = random.randint(1, len(dominio) - 2)\n",
        "  #print(gene)\n",
        "  return individuo1[0:gene] + individuo2[gene:]"
      ],
      "metadata": {
        "id": "qRNlIEZU50Jd"
      },
      "execution_count": 34,
      "outputs": []
    },
    {
      "cell_type": "code",
      "source": [
        "s1 = [1,1,1,1,2,2, 2,2,3,3,3,3, 4,4,4,4,5,5, 5,5,0,0,0,0, 0,0,0,0,0,0]\n",
        "s2 = [0,0,0,3,5,6, 1,1,1,1,5,5, 5,5,3,3,3,3, 1,1,2,2,2,2, 3,4,5,0,1,3]"
      ],
      "metadata": {
        "id": "FJc-V3ND8d3L"
      },
      "execution_count": 35,
      "outputs": []
    },
    {
      "cell_type": "code",
      "source": [
        "print(crossover(dominio, s1, s2))"
      ],
      "metadata": {
        "id": "c5ydHKLC8hlE",
        "colab": {
          "base_uri": "https://localhost:8080/"
        },
        "outputId": "89f67b88-dce1-434e-9d6e-6c760cfe3481"
      },
      "execution_count": 36,
      "outputs": [
        {
          "output_type": "stream",
          "name": "stdout",
          "text": [
            "[1, 1, 1, 1, 2, 6, 1, 1, 1, 1, 5, 5, 5, 5, 3, 3, 3, 3, 1, 1, 2, 2, 2, 2, 3, 4, 5, 0, 1, 3]\n"
          ]
        }
      ]
    },
    {
      "cell_type": "markdown",
      "source": [
        "# Algoritmo Genético Completo"
      ],
      "metadata": {
        "id": "0P_rftK69Q4Q"
      }
    },
    {
      "cell_type": "markdown",
      "source": [
        "## Abordagem com Penalizações"
      ],
      "metadata": {
        "id": "0moqInItgR5T"
      }
    },
    {
      "cell_type": "code",
      "source": [
        "%matplotlib inline\n",
        "\n",
        "\n",
        "def algoritmo_genetico_com_penalidades(dominio, tamanho_populacao = 10, passo = 1,\n",
        "                       elitismo = 0.2, numero_geracoes = 100, probabilidade_mutacao = 0.05):\n",
        "    populacao = []\n",
        "    for i in range(tamanho_populacao):\n",
        "        #Cria aleatoriamente os indivíduos\n",
        "        individuo = gerar_cromossomo_sem_restricoes(curso[\"quantidade_turmas\"], len(dias_semana), disciplinas_dia, dominio[0])\n",
        "        populacao.append(individuo)\n",
        "    # print(populacao)\n",
        "    # print(len(populacao))\n",
        "    numero_elitismo = int(elitismo * tamanho_populacao)\n",
        "\n",
        "    #print('Tamanho da população: ', len(populacao))\n",
        "\n",
        "    melhor_fit = []#Guardar o melhor de cada interação\n",
        "\n",
        "    for i in range(numero_geracoes):\n",
        "        custos = [(funcao_avaliacao_com_penalidades(individuo), individuo) for individuo in populacao]\n",
        "        # print(\"A\",custos)\n",
        "        custos.sort()\n",
        "        #print(\"B\",custos)\n",
        "        individuos_ordenados = [individuo for (custo, individuo) in custos]\n",
        "        #print(individuos_ordenados)\n",
        "        populacao = individuos_ordenados[0:numero_elitismo] # só pega o percentual dos elementos baseados no elisitmo\n",
        "        \n",
        "        while len(populacao) < tamanho_populacao:\n",
        "            i1 = random.randint(0, numero_elitismo)\n",
        "            i2 = random.randint(0, numero_elitismo)\n",
        "            #print(i1, i2, individuos_ordenados[i1], individuos_ordenados[i2])\n",
        "            novo_individuo = crossover(dominio, individuos_ordenados[i1], individuos_ordenados[i2])\n",
        "            #print(novo_individuo)\n",
        "            mutacao_novo_individuo = mutacao(dominio, passo, novo_individuo, probabilidade_mutacao)\n",
        "            #print(novo_individuo)\n",
        "            #print(mutacao_novo_individuo)\n",
        "            #print()\n",
        "            populacao.append(mutacao_novo_individuo)\n",
        "\n",
        "        #print('Tamanho da população: ', len(populacao))\n",
        "        melhor_fit.append(custos[0][0])\n",
        "    #print(custos)\n",
        "    \n",
        "    # print(melhor_fit)\n",
        "    #Plotar o gráfico\n",
        "    plt.plot(melhor_fit);\n",
        "    \n",
        "    return custos[0][1]"
      ],
      "metadata": {
        "id": "tCYVi6W787YS"
      },
      "execution_count": 59,
      "outputs": []
    },
    {
      "cell_type": "code",
      "source": [
        "solucao = algoritmo_genetico_com_penalidades(dominio, tamanho_populacao = 10, numero_geracoes= 100)"
      ],
      "metadata": {
        "colab": {
          "base_uri": "https://localhost:8080/",
          "height": 430
        },
        "outputId": "f4193b3b-1216-420b-a94a-eb7c44ba435e",
        "id": "qVH_r0l-hTvn"
      },
      "execution_count": 60,
      "outputs": [
        {
          "output_type": "display_data",
          "data": {
            "text/plain": [
              "<Figure size 640x480 with 1 Axes>"
            ],
            "image/png": "[encoded data removed]"
          },
          "metadata": {}
        }
      ]
    },
    {
      "cell_type": "code",
      "source": [
        "print(solucao)"
      ],
      "metadata": {
        "colab": {
          "base_uri": "https://localhost:8080/"
        },
        "outputId": "61adccce-ae10-45ac-a342-bf03c19cc05c",
        "id": "_Z9rxVOUhjUU"
      },
      "execution_count": 61,
      "outputs": [
        {
          "output_type": "stream",
          "name": "stdout",
          "text": [
            "[0, 3, 3, 1, 2, 4, 0, 0, 2, 4, 4, 3, 2, 2, 0, 3, 5, 5, 5, 1, 1, 2, 0, 4, 0, 0, 0, 1, 2, 2, 2, 0, 0, 2, 1, 1, 4, 2, 2, 0, 3, 3, 0, 3, 5, 5, 0, 5, 5, 2, 1, 1, 2, 0, 0, 1, 1, 4, 4, 4, 3, 0, 1, 1, 4, 5, 0, 3, 0, 0, 0, 0, 0, 4, 3, 5, 5, 4, 3, 4, 4, 0, 5, 5, 5, 5, 3, 4, 4, 2, 5, 5, 4, 3, 5, 5, 5, 0, 5, 2, 2, 0, 4, 4, 5, 5, 3, 5, 4, 5, 2, 3, 3, 5, 0, 2, 5, 3, 5, 5, 4, 4, 2, 0, 5, 1, 3, 3, 4, 4, 5, 1, 0, 2, 2, 0, 5, 5, 5, 1, 0, 5, 1, 0, 5, 1, 3, 3, 5, 3]\n"
          ]
        }
      ]
    },
    {
      "cell_type": "code",
      "source": [
        "funcao_avaliacao_com_penalidades(solucao)"
      ],
      "metadata": {
        "colab": {
          "base_uri": "https://localhost:8080/"
        },
        "outputId": "d2c385c2-56dd-4a88-fdc2-db0ebf1c55f3",
        "id": "5ZTWfPpPhreP"
      },
      "execution_count": 62,
      "outputs": [
        {
          "output_type": "execute_result",
          "data": {
            "text/plain": [
              "5528.0"
            ]
          },
          "metadata": {},
          "execution_count": 62
        }
      ]
    },
    {
      "cell_type": "code",
      "source": [
        "imprimir_qts(solucao)"
      ],
      "metadata": {
        "colab": {
          "base_uri": "https://localhost:8080/"
        },
        "outputId": "e3ac25ef-0fb5-494e-f5a3-e0ea8c938e50",
        "id": "ZeNqVc8Zhv_Q"
      },
      "execution_count": 63,
      "outputs": [
        {
          "output_type": "stream",
          "name": "stdout",
          "text": [
            "\n",
            "1ª Turma:\n",
            "|Segunda| NA, OC, OC, SO, MF, CO|\n",
            "|Terça  | NA, NA, MF, CO, CO, OC|\n",
            "|Quarta | MF, MF, NA, OC, IA, IA|\n",
            "|Quinta | IA, SO, SO, MF, NA, CO|\n",
            "|Sexta  | NA, NA, NA, SO, MF, MF|\n",
            "\n",
            "2ª Turma:\n",
            "|Segunda| MF, NA, NA, MF, SO, SO|\n",
            "|Terça  | CO, MF, MF, NA, OC, OC|\n",
            "|Quarta | NA, OC, IA, IA, NA, IA|\n",
            "|Quinta | IA, MF, SO, SO, MF, NA|\n",
            "|Sexta  | NA, SO, SO, CO, CO, CO|\n",
            "\n",
            "3ª Turma:\n",
            "|Segunda| OC, NA, SO, SO, CO, IA|\n",
            "|Terça  | NA, OC, NA, NA, NA, NA|\n",
            "|Quarta | NA, CO, OC, IA, IA, CO|\n",
            "|Quinta | OC, CO, CO, NA, IA, IA|\n",
            "|Sexta  | IA, IA, OC, CO, CO, MF|\n",
            "\n",
            "4ª Turma:\n",
            "|Segunda| IA, IA, CO, OC, IA, IA|\n",
            "|Terça  | IA, NA, IA, MF, MF, NA|\n",
            "|Quarta | CO, CO, IA, IA, OC, IA|\n",
            "|Quinta | CO, IA, MF, OC, OC, IA|\n",
            "|Sexta  | NA, MF, IA, OC, IA, IA|\n",
            "\n",
            "5ª Turma:\n",
            "|Segunda| CO, CO, MF, NA, IA, SO|\n",
            "|Terça  | OC, OC, CO, CO, IA, SO|\n",
            "|Quarta | NA, MF, MF, NA, IA, IA|\n",
            "|Quinta | IA, SO, NA, IA, SO, NA|\n",
            "|Sexta  | IA, SO, OC, OC, IA, OC|\n",
            "\n",
            "Tempo Total de Espera Entre Aulas: 24 Horas\n"
          ]
        }
      ]
    },
    {
      "cell_type": "markdown",
      "source": [
        "## Abordagem com Negação de Casos Indesejáveis"
      ],
      "metadata": {
        "id": "V8DVY-qsgbMy"
      }
    },
    {
      "cell_type": "code",
      "source": [
        "%matplotlib inline\n",
        "\n",
        "\n",
        "def algoritmo_genetico_sem_penalidades(dominio, tamanho_populacao = 10, passo = 1,\n",
        "                       elitismo = 0.2, numero_geracoes = 100, probabilidade_mutacao = 0.05):\n",
        "    populacao = []\n",
        "    for i in range(tamanho_populacao):\n",
        "        #Cria aleatoriamente os indivíduos\n",
        "        individuo = gerar_cromossomo_sem_restricoes(curso[\"quantidade_turmas\"], len(dias_semana), disciplinas_dia, dominio[0])\n",
        "        populacao.append(individuo)\n",
        "    # print(populacao)\n",
        "    # print(len(populacao))\n",
        "    numero_elitismo = int(elitismo * tamanho_populacao)\n",
        "\n",
        "    #print('Tamanho da população: ', len(populacao))\n",
        "\n",
        "    melhor_fit = []#Guardar o melhor de cada interação\n",
        "\n",
        "    for i in range(numero_geracoes):\n",
        "        custos = [(funcao_avaliacao_sem_penalidades(individuo), individuo) for individuo in populacao]\n",
        "        # print(\"A\",custos)\n",
        "        custos.sort()\n",
        "        #print(\"B\",custos)\n",
        "        individuos_ordenados = [individuo for (custo, individuo) in custos]\n",
        "        #print(individuos_ordenados)\n",
        "        populacao = individuos_ordenados[0:numero_elitismo] # só pega o percentual dos elementos baseados no elisitmo\n",
        "        \n",
        "        while len(populacao) < tamanho_populacao:\n",
        "            i1 = random.randint(0, numero_elitismo)\n",
        "            i2 = random.randint(0, numero_elitismo)\n",
        "            #print(i1, i2, individuos_ordenados[i1], individuos_ordenados[i2])\n",
        "            novo_individuo = crossover(dominio, individuos_ordenados[i1], individuos_ordenados[i2])\n",
        "            #print(novo_individuo)\n",
        "            mutacao_novo_individuo = mutacao(dominio, passo, novo_individuo, probabilidade_mutacao)\n",
        "            #print(novo_individuo)\n",
        "            #print(mutacao_novo_individuo)\n",
        "            #print()\n",
        "            populacao.append(mutacao_novo_individuo)\n",
        "\n",
        "        #print('Tamanho da população: ', len(populacao))\n",
        "        melhor_fit.append(custos[0][0])\n",
        "    #print(custos)\n",
        "    \n",
        "    # print(melhor_fit)\n",
        "    #Plotar o gráfico\n",
        "    plt.plot(melhor_fit);\n",
        "    \n",
        "    return custos[0][1]"
      ],
      "metadata": {
        "id": "utgTUp0NgLl-"
      },
      "execution_count": 64,
      "outputs": []
    },
    {
      "cell_type": "code",
      "source": [
        "solucao = algoritmo_genetico_sem_penalidades(dominio, tamanho_populacao = 10, numero_geracoes= 100)"
      ],
      "metadata": {
        "id": "VpFI4CLnfK-c",
        "colab": {
          "base_uri": "https://localhost:8080/",
          "height": 430
        },
        "outputId": "814f89fc-9866-429d-de6e-33393e5a5037"
      },
      "execution_count": 65,
      "outputs": [
        {
          "output_type": "display_data",
          "data": {
            "text/plain": [
              "<Figure size 640x480 with 1 Axes>"
            ],
            "image/png": "[encoded data removed]"
          },
          "metadata": {}
        }
      ]
    },
    {
      "cell_type": "code",
      "source": [
        "print(solucao)"
      ],
      "metadata": {
        "id": "9SrTzFa-fSlc",
        "colab": {
          "base_uri": "https://localhost:8080/"
        },
        "outputId": "8db24e97-7cf1-4108-fb03-fda5bd27ece3"
      },
      "execution_count": 66,
      "outputs": [
        {
          "output_type": "stream",
          "name": "stdout",
          "text": [
            "[0, 0, 2, 3, 0, 4, 0, 4, 1, 5, 0, 2, 4, 2, 1, 5, 0, 0, 0, 0, 4, 4, 3, 1, 5, 3, 5, 4, 2, 3, 5, 2, 0, 0, 5, 0, 5, 3, 3, 0, 2, 4, 3, 5, 3, 1, 0, 4, 3, 0, 3, 2, 5, 0, 0, 3, 0, 2, 4, 1, 2, 0, 0, 3, 5, 2, 3, 3, 3, 1, 0, 0, 5, 0, 5, 2, 0, 3, 3, 3, 0, 0, 3, 0, 1, 1, 3, 5, 5, 2, 3, 0, 5, 2, 0, 1, 1, 5, 0, 4, 4, 0, 0, 1, 0, 1, 3, 3, 3, 0, 5, 5, 0, 2, 3, 2, 5, 1, 0, 4, 4, 4, 2, 3, 3, 3, 3, 2, 3, 3, 1, 1, 1, 2, 2, 4, 5, 3, 1, 4, 2, 2, 2, 3, 1, 1, 2, 0, 1, 0]\n"
          ]
        }
      ]
    },
    {
      "cell_type": "code",
      "source": [
        "funcao_avaliacao_sem_penalidades(solucao)"
      ],
      "metadata": {
        "id": "u3IdTqE2hBo2",
        "colab": {
          "base_uri": "https://localhost:8080/"
        },
        "outputId": "f8fd2c70-c930-4a03-f7e0-e8d28b5aa827"
      },
      "execution_count": 67,
      "outputs": [
        {
          "output_type": "execute_result",
          "data": {
            "text/plain": [
              "20"
            ]
          },
          "metadata": {},
          "execution_count": 67
        }
      ]
    },
    {
      "cell_type": "code",
      "source": [
        "imprimir_qts(solucao)"
      ],
      "metadata": {
        "id": "gjk12wPQhM4V",
        "colab": {
          "base_uri": "https://localhost:8080/"
        },
        "outputId": "67f75f12-e4cb-4176-8710-a6634dc57bb0"
      },
      "execution_count": 68,
      "outputs": [
        {
          "output_type": "stream",
          "name": "stdout",
          "text": [
            "\n",
            "1ª Turma:\n",
            "|Segunda| NA, NA, MF, OC, NA, CO|\n",
            "|Terça  | NA, CO, SO, IA, NA, MF|\n",
            "|Quarta | CO, MF, SO, IA, NA, NA|\n",
            "|Quinta | NA, NA, CO, CO, OC, SO|\n",
            "|Sexta  | IA, OC, IA, CO, MF, OC|\n",
            "\n",
            "2ª Turma:\n",
            "|Segunda| IA, MF, NA, NA, IA, NA|\n",
            "|Terça  | IA, OC, OC, NA, MF, CO|\n",
            "|Quarta | OC, IA, OC, SO, NA, CO|\n",
            "|Quinta | OC, NA, OC, MF, IA, NA|\n",
            "|Sexta  | NA, OC, NA, MF, CO, SO|\n",
            "\n",
            "3ª Turma:\n",
            "|Segunda| MF, NA, NA, OC, IA, MF|\n",
            "|Terça  | OC, OC, OC, SO, NA, NA|\n",
            "|Quarta | IA, NA, IA, MF, NA, OC|\n",
            "|Quinta | OC, OC, NA, NA, OC, NA|\n",
            "|Sexta  | SO, SO, OC, IA, IA, MF|\n",
            "\n",
            "4ª Turma:\n",
            "|Segunda| OC, NA, IA, MF, NA, SO|\n",
            "|Terça  | SO, IA, NA, CO, CO, NA|\n",
            "|Quarta | NA, SO, NA, SO, OC, OC|\n",
            "|Quinta | OC, NA, IA, IA, NA, MF|\n",
            "|Sexta  | OC, MF, IA, SO, NA, CO|\n",
            "\n",
            "5ª Turma:\n",
            "|Segunda| CO, CO, MF, OC, OC, OC|\n",
            "|Terça  | OC, MF, OC, OC, SO, SO|\n",
            "|Quarta | SO, MF, MF, CO, IA, OC|\n",
            "|Quinta | SO, CO, MF, MF, MF, OC|\n",
            "|Sexta  | SO, SO, MF, NA, SO, NA|\n",
            "\n",
            "Tempo Total de Espera Entre Aulas: 20 Horas\n"
          ]
        }
      ]
    }
  ]
}