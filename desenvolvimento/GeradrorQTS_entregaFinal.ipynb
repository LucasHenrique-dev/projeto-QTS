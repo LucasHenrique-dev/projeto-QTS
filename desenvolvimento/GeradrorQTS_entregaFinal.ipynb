{
  "nbformat": 4,
  "nbformat_minor": 0,
  "metadata": {
    "colab": {
      "provenance": [],
      "include_colab_link": true
    },
    "kernelspec": {
      "name": "python3",
      "display_name": "Python 3"
    },
    "language_info": {
      "name": "python"
    }
  },
  "cells": [
    {
      "cell_type": "markdown",
      "metadata": {
        "id": "view-in-github",
        "colab_type": "text"
      },
      "source": [
        "<a href=\"https://colab.research.google.com/github/LucasHenrique-dev/projeto-QTS/blob/main/desenvolvimento/GeradrorQTS_entregaFinal.ipynb\" target=\"_parent\"><img src=\"https://colab.research.google.com/assets/colab-badge.svg\" alt=\"Open In Colab\"/></a>"
      ]
    },
    {
      "cell_type": "markdown",
      "source": [
        "##Importar Bibliotecas"
      ],
      "metadata": {
        "id": "44EhQphxtKWu"
      }
    },
    {
      "cell_type": "code",
      "execution_count": 1,
      "metadata": {
        "id": "Zn3Azjpws3Cz"
      },
      "outputs": [],
      "source": [
        "import time\n",
        "import random\n",
        "import math\n",
        "import sys\n",
        "import json\n",
        "import matplotlib.pyplot as plt\n",
        "# libraries for the files in google drive\n",
        "from pydrive.auth import GoogleAuth\n",
        "from google.colab import drive\n",
        "from pydrive.drive import GoogleDrive\n",
        "from google.colab import auth\n",
        "from oauth2client.client import GoogleCredentials"
      ]
    },
    {
      "cell_type": "markdown",
      "source": [
        "## Importar Informações"
      ],
      "metadata": {
        "id": "zsnndz38D3ro"
      }
    },
    {
      "cell_type": "code",
      "source": [
        "auth.authenticate_user()\n",
        "gauth = GoogleAuth()\n",
        "gauth.credentials = GoogleCredentials.get_application_default()\n",
        "drive = GoogleDrive(gauth)\n",
        "\n",
        "file_id1 = '1b4NAPPCBU3z-ECLojeFbrw2-sWRKLCtU' #<-- You add in here the id from you google drive file, you can find it\n",
        "file_id2 = '1V786MTeKHG_Kl2tJ4UuonczVD3IbYszI' #<-- You add in here the id from you google drive file, you can find it\n",
        "\n",
        "\n",
        "download1 = drive.CreateFile({'id': file_id1})\n",
        "download2 = drive.CreateFile({'id': file_id2})\n",
        "\n",
        "\n",
        "# Download the file to a local disc\n",
        "download1.GetContentFile('estrutura_curso.json')\n",
        "download2.GetContentFile('estrutura_horario.json')"
      ],
      "metadata": {
        "id": "FZqeuKpbWP3M"
      },
      "execution_count": 2,
      "outputs": []
    },
    {
      "cell_type": "markdown",
      "source": [
        "##Explorar Dados do Curso"
      ],
      "metadata": {
        "id": "nJdmfuQl-1HS"
      }
    },
    {
      "cell_type": "code",
      "source": [
        "arquivo_horario = open('/content/estrutura_horario.json')\n",
        "estrutura_horario = json.load(arquivo_horario)\n",
        "\n",
        "print(json.dumps(estrutura_horario, indent=4, ensure_ascii=False))"
      ],
      "metadata": {
        "colab": {
          "base_uri": "https://localhost:8080/"
        },
        "id": "HR2Yxd4YAWPj",
        "outputId": "5d698788-d408-409f-ec3e-46e87527fa6a"
      },
      "execution_count": 3,
      "outputs": [
        {
          "output_type": "stream",
          "name": "stdout",
          "text": [
            "{\n",
            "    \"horario_inicio\": \"7:00\",\n",
            "    \"horario_fim\": \"18:00\",\n",
            "    \"almoco\": {\n",
            "        \"inicio\": \"12:00\",\n",
            "        \"fim\": \"13:00\"\n",
            "    },\n",
            "    \"duracao_hora_aula\": 1,\n",
            "    \"intervalo_minutos_entre_aulas\": 10,\n",
            "    \"dias_semana\": [\n",
            "        \"Segunda\",\n",
            "        \"Terça\",\n",
            "        \"Quarta\",\n",
            "        \"Quinta\",\n",
            "        \"Sexta\"\n",
            "    ]\n",
            "}\n"
          ]
        }
      ]
    },
    {
      "cell_type": "code",
      "source": [
        "arquivo_curso = open('/content/estrutura_curso.json')\n",
        "curso = json.load(arquivo_curso)\n",
        "\n",
        "print(json.dumps(curso, indent=4, ensure_ascii=False))"
      ],
      "metadata": {
        "colab": {
          "base_uri": "https://localhost:8080/"
        },
        "id": "hPKbQ9cQD5Bz",
        "outputId": "349fb357-f45f-4ad7-8c3c-f39ecd9e7885"
      },
      "execution_count": 4,
      "outputs": [
        {
          "output_type": "stream",
          "name": "stdout",
          "text": [
            "{\n",
            "    \"quantidade_turmas\": 5,\n",
            "    \"maximo_aulas_dia\": 2,\n",
            "    \"disciplinas\": {\n",
            "        \"SO\": {\n",
            "            \"nome\": \"Sistemas Operacionais\",\n",
            "            \"restrição_horario\": \"livre\"\n",
            "        },\n",
            "        \"MF\": {\n",
            "            \"nome\": \"Métodos Formais\",\n",
            "            \"restrição_horario\": \"livre\"\n",
            "        },\n",
            "        \"OC\": {\n",
            "            \"nome\": \"Organização de Computadores\",\n",
            "            \"restrição_horario\": \"livre\"\n",
            "        },\n",
            "        \"CO\": {\n",
            "            \"nome\": \"Compiladores\",\n",
            "            \"restrição_horario\": \"livre\"\n",
            "        },\n",
            "        \"IA\": {\n",
            "            \"nome\": \"Inteligência Artificial\",\n",
            "            \"restrição_horario\": \"07:00 - 12:00\"\n",
            "        }\n",
            "    }\n",
            "}\n"
          ]
        }
      ]
    },
    {
      "cell_type": "code",
      "source": [
        "disciplinas = {0: ('NA', 'Horário Vago')}\n",
        "\n",
        "for index, disciplina in enumerate(curso[\"disciplinas\"].items()):\n",
        "  disciplinas[index+1] = (disciplina[0], disciplina[1][\"nome\"])\n",
        "\n",
        "disciplinas"
      ],
      "metadata": {
        "colab": {
          "base_uri": "https://localhost:8080/"
        },
        "id": "jH4q2R88IrPP",
        "outputId": "8d78b638-c54d-422b-dbae-531d8ce4ff9b"
      },
      "execution_count": 5,
      "outputs": [
        {
          "output_type": "execute_result",
          "data": {
            "text/plain": [
              "{0: ('NA', 'Horário Vago'),\n",
              " 1: ('SO', 'Sistemas Operacionais'),\n",
              " 2: ('MF', 'Métodos Formais'),\n",
              " 3: ('OC', 'Organização de Computadores'),\n",
              " 4: ('CO', 'Compiladores'),\n",
              " 5: ('IA', 'Inteligência Artificial')}"
            ]
          },
          "metadata": {},
          "execution_count": 5
        }
      ]
    },
    {
      "cell_type": "markdown",
      "source": [
        "## Funções e Variáveis Auxiliares"
      ],
      "metadata": {
        "id": "yJRnNtSC1s4g"
      }
    },
    {
      "cell_type": "code",
      "source": [
        "def converter_minutos(hora):\n",
        "  t = time.strptime(hora, '%H:%M')\n",
        "  minutos = t[3] * 60 + t[4]\n",
        "  return minutos"
      ],
      "metadata": {
        "id": "6pPQSTpA1xd-"
      },
      "execution_count": 6,
      "outputs": []
    },
    {
      "cell_type": "code",
      "source": [
        "def calcular_disciplinas_dia(estrutura_horario, segmentacao_horario):\n",
        "  inicio_aula, fim_aula = estrutura_horario['horario_inicio'], estrutura_horario['horario_fim']\n",
        "  inicio_almoco, fim_almoco = estrutura_horario['almoco']['inicio'], estrutura_horario['almoco']['fim']\n",
        "  duracao_dia = converter_minutos(fim_aula) - converter_minutos(inicio_aula)\n",
        "  intervalo_almoco = converter_minutos(fim_almoco) - converter_minutos(inicio_almoco)\n",
        "  return ((duracao_dia - intervalo_almoco) // segmentacao_horario) + 1"
      ],
      "metadata": {
        "id": "HOjxnRd02IZl"
      },
      "execution_count": 7,
      "outputs": []
    },
    {
      "cell_type": "code",
      "source": [
        "dias_semana = estrutura_horario[\"dias_semana\"]\n",
        "dias_semana"
      ],
      "metadata": {
        "id": "Fw8b6kHf7cSV",
        "colab": {
          "base_uri": "https://localhost:8080/"
        },
        "outputId": "b057798b-7772-43bc-86fd-d0c87cbced57"
      },
      "execution_count": 8,
      "outputs": [
        {
          "output_type": "execute_result",
          "data": {
            "text/plain": [
              "['Segunda', 'Terça', 'Quarta', 'Quinta', 'Sexta']"
            ]
          },
          "metadata": {},
          "execution_count": 8
        }
      ]
    },
    {
      "cell_type": "markdown",
      "source": [
        "## Objetivos e Restrições do Sistema\n",
        "\n",
        "O algoritmo visa montar um quadro de trabalho semanal (QTS) que otimize certos aspectos\n",
        "\n",
        "- Objetivos:\n",
        "  - Menor Tempo de Espera Entre Aulas: horário de aula vaga entre aulas da mesma disciplina\n",
        "\n",
        "Além disso, deverá respeitar certas restrições\n",
        "\n",
        "- Restrições:\n",
        "  - Restrição Temporal: determinada aula precisa ser lecionada em um intervalo de tempo específico\n",
        "  - Aulas Conjuntas: disciplinas devem ser lecionadas em forma de grupos. Ex.: 2 aulas seguidas da disciplina A, 3 aulas seguidas da disciplina B, etc\n",
        "  - Intervalos: existe um intervalo pre definido para almoço, além disso após aulas deve haver intervalos também definidos\n"
      ],
      "metadata": {
        "id": "ZtJiiBm5y6Iz"
      }
    },
    {
      "cell_type": "markdown",
      "source": [
        "## Funções de Avaliação"
      ],
      "metadata": {
        "id": "l8WIcxG1n01G"
      }
    },
    {
      "cell_type": "markdown",
      "source": [
        "### Avaliar Objetivos"
      ],
      "metadata": {
        "id": "P-FYF8HLsdRm"
      }
    },
    {
      "cell_type": "markdown",
      "source": [
        "#### OBJETIVO 1: TEMPO DE OCIOSIDADE ENTRE AULAS DE MESMA DISCIPLINA"
      ],
      "metadata": {
        "id": "-ZP8QAZtdmGT"
      }
    },
    {
      "cell_type": "code",
      "source": [
        "def calcular_horas_vagas(aulas):\n",
        "  disciplinas = set(aulas);\n",
        "  aula_vaga = 0\n",
        "\n",
        "  for disciplina in disciplinas:\n",
        "    if disciplina == 0:                                                         #Ignora aulas vagas\n",
        "      continue\n",
        "\n",
        "    aula_atual = proxima_aula = 0\n",
        "    while aulas[proxima_aula:].count(disciplina) > 1:                           #Calcula horas vagas de uma disciplina\n",
        "      # print(\"Aula Atual: \", aula_atual, \"     Proxima Aula: \", proxima_aula)\n",
        "      aula_atual = aulas.index(disciplina, proxima_aula)\n",
        "      proxima_aula = aulas.index(disciplina, aula_atual+1)\n",
        "\n",
        "      aula_vaga += proxima_aula - (aula_atual + 1)\n",
        "\n",
        "  return aula_vaga"
      ],
      "metadata": {
        "id": "QuJwSSNL_unu"
      },
      "execution_count": 9,
      "outputs": []
    },
    {
      "cell_type": "code",
      "source": [
        "calcular_horas_vagas([2, 0, 2, 2, 0])"
      ],
      "metadata": {
        "colab": {
          "base_uri": "https://localhost:8080/"
        },
        "id": "01G41nwgA_gr",
        "outputId": "720e06da-6a97-4f28-f820-325736fd8191"
      },
      "execution_count": 10,
      "outputs": [
        {
          "output_type": "execute_result",
          "data": {
            "text/plain": [
              "1"
            ]
          },
          "metadata": {},
          "execution_count": 10
        }
      ]
    },
    {
      "cell_type": "markdown",
      "source": [
        "### Avaliar Restrições"
      ],
      "metadata": {
        "id": "ZO8pOeZHspHd"
      }
    },
    {
      "cell_type": "markdown",
      "source": [
        "#### RESTRIÇÃO 3: Intervalo de Almoço\n",
        "\n",
        "Analisa-se a possibilidade da hora do almoço estar entre aulas de uma mesma disciplina"
      ],
      "metadata": {
        "id": "lPk1KUGDdx-J"
      }
    },
    {
      "cell_type": "code",
      "source": [
        "def calcular_restricao_3(aulas):\n",
        "  if aulas[gene_almoco - 1] == aulas[gene_almoco]:\n",
        "    return 1\n",
        "  return 0"
      ],
      "metadata": {
        "id": "wsnxFAbcmIuI"
      },
      "execution_count": 11,
      "outputs": []
    },
    {
      "cell_type": "markdown",
      "source": [
        "##Definir Cromossomo\n",
        "\n",
        "Definir a sequência genética de formação de um cromossomo\n",
        "\n",
        "Os genes determinam aspectos de um indivíduo e o cromossomo é o conjunto dessas características o qual forma o indivíduo (possível solução do problema)\n",
        "\n",
        "O cromossomo está estruturado da seguinte forma:\n",
        "- turma -> dias da semana -> disciplinas\n",
        "- Não há divisão física entre os dados, eles são sequenciais\n",
        "- As informações indicadas no primeiro tópico se repetem N vezes onde N indica o número de turmas\n",
        "\n",
        "[Turma1:(Segunda:(..disciplinas), Terça:(..disciplinas), Quarta:(..disciplinas), Quinta:(..disciplinas), Sexta:(..disciplinas)), Turma2:(Segunda:(..disciplinas), Terça:(..disciplinas), Quarta:(..disciplinas), Quinta:(..disciplinas), Sexta:(..disciplinas))..]\n",
        "\n",
        "Ex.: [(SO,SO,SO,SO,MF,MF), (MF,MF,OC,OC,OC,OC), (CO,CO,CO,CO,IA,IA), (IA,IA,NA,NA,NA,NA), (NA,NA,NA,NA,NA,NA),</br>\n",
        "(SO,SO,SO,SO,MF,MF), (MF,MF,OC,OC,OC,OC), (CO,CO,CO,CO,IA,IA), (IA,IA,NA,NA,NA,NA), (NA,NA,NA,NA,NA,NA)]"
      ],
      "metadata": {
        "id": "L9vgHiG_KAc0"
      }
    },
    {
      "cell_type": "code",
      "source": [
        "hora_aula = estrutura_horario[\"duracao_hora_aula\"] * 60\n",
        "intervalo_aula = estrutura_horario[\"intervalo_minutos_entre_aulas\"]\n",
        "\n",
        "segmentacao_horario = hora_aula + intervalo_aula                                   # Divisão do horário no QTS (minutos)\n",
        "espacos_totais = calcular_disciplinas_dia(estrutura_horario, segmentacao_horario)  # Retorna quantidade de sessões destinadas às disciplinas pela manhã"
      ],
      "metadata": {
        "id": "9YHLBelcF-42"
      },
      "execution_count": 12,
      "outputs": []
    },
    {
      "cell_type": "code",
      "source": [
        "espacos_totais"
      ],
      "metadata": {
        "colab": {
          "base_uri": "https://localhost:8080/"
        },
        "id": "dVViyGadYH-j",
        "outputId": "792d00d8-a77b-4696-a5c0-294c068ff7c4"
      },
      "execution_count": 13,
      "outputs": [
        {
          "output_type": "execute_result",
          "data": {
            "text/plain": [
              "9"
            ]
          },
          "metadata": {},
          "execution_count": 13
        }
      ]
    },
    {
      "cell_type": "markdown",
      "source": [
        "Para melhor atender a restrição do horário de almoço houve o desconto das horas de intervalo. A sua posição no gene é calculada abaixo a fim de ser acrescentado posteriormente na solução\n"
      ],
      "metadata": {
        "id": "seE0UMiudY4z"
      }
    },
    {
      "cell_type": "code",
      "source": [
        "inicio_aula = converter_minutos(estrutura_horario['horario_inicio'])\n",
        "inicio_almoco = converter_minutos(estrutura_horario['almoco']['inicio'])\n",
        "aulas_manha = (((inicio_almoco - inicio_aula) // segmentacao_horario) + 1) // curso[\"maximo_aulas_dia\"]\n",
        "gene_almoco = aulas_manha                                                       # Gene inicial é o zero!\n",
        "gene_almoco"
      ],
      "metadata": {
        "colab": {
          "base_uri": "https://localhost:8080/"
        },
        "id": "eWwnMqtYdUoO",
        "outputId": "cc9f4aa1-ed85-489a-8242-cd5d47443f6d"
      },
      "execution_count": 14,
      "outputs": [
        {
          "output_type": "execute_result",
          "data": {
            "text/plain": [
              "2"
            ]
          },
          "metadata": {},
          "execution_count": 14
        }
      ]
    },
    {
      "cell_type": "markdown",
      "source": [
        "Para melhor atender a restrição das aulas conjuntas cada instância de aula representará um conjunto de aulas. Por exemplo, aparencendo uma instância da aula \"1\" ela representa um grupo de N aulas da aula \"1\", seguidas."
      ],
      "metadata": {
        "id": "iIxpovglN8vk"
      }
    },
    {
      "cell_type": "code",
      "source": [
        "disciplinas_dia = espacos_totais // curso[\"maximo_aulas_dia\"]\n",
        "disciplinas_dia"
      ],
      "metadata": {
        "colab": {
          "base_uri": "https://localhost:8080/"
        },
        "id": "rZcixffrNvSG",
        "outputId": "56f6a5e4-f8b4-4c32-c869-9a9da3dec8e6"
      },
      "execution_count": 15,
      "outputs": [
        {
          "output_type": "execute_result",
          "data": {
            "text/plain": [
              "4"
            ]
          },
          "metadata": {},
          "execution_count": 15
        }
      ]
    },
    {
      "cell_type": "markdown",
      "source": [
        "## Criar o Domínio de Variação dos Genes"
      ],
      "metadata": {
        "id": "m9jtxMv9Zy5m"
      }
    },
    {
      "cell_type": "code",
      "source": [
        "dominio = [(0, len(disciplinas)-1)] * (curso[\"quantidade_turmas\"] * len(dias_semana) * disciplinas_dia)\n",
        "print(f'Domínio: {dominio}\\nElementos: {len(dominio)}')"
      ],
      "metadata": {
        "colab": {
          "base_uri": "https://localhost:8080/"
        },
        "id": "lp43_PEzZnQd",
        "outputId": "6759619b-f872-4d3c-c005-ff64f31f6879"
      },
      "execution_count": 16,
      "outputs": [
        {
          "output_type": "stream",
          "name": "stdout",
          "text": [
            "Domínio: [(0, 5), (0, 5), (0, 5), (0, 5), (0, 5), (0, 5), (0, 5), (0, 5), (0, 5), (0, 5), (0, 5), (0, 5), (0, 5), (0, 5), (0, 5), (0, 5), (0, 5), (0, 5), (0, 5), (0, 5), (0, 5), (0, 5), (0, 5), (0, 5), (0, 5), (0, 5), (0, 5), (0, 5), (0, 5), (0, 5), (0, 5), (0, 5), (0, 5), (0, 5), (0, 5), (0, 5), (0, 5), (0, 5), (0, 5), (0, 5), (0, 5), (0, 5), (0, 5), (0, 5), (0, 5), (0, 5), (0, 5), (0, 5), (0, 5), (0, 5), (0, 5), (0, 5), (0, 5), (0, 5), (0, 5), (0, 5), (0, 5), (0, 5), (0, 5), (0, 5), (0, 5), (0, 5), (0, 5), (0, 5), (0, 5), (0, 5), (0, 5), (0, 5), (0, 5), (0, 5), (0, 5), (0, 5), (0, 5), (0, 5), (0, 5), (0, 5), (0, 5), (0, 5), (0, 5), (0, 5), (0, 5), (0, 5), (0, 5), (0, 5), (0, 5), (0, 5), (0, 5), (0, 5), (0, 5), (0, 5), (0, 5), (0, 5), (0, 5), (0, 5), (0, 5), (0, 5), (0, 5), (0, 5), (0, 5), (0, 5)]\n",
            "Elementos: 100\n"
          ]
        }
      ]
    },
    {
      "cell_type": "markdown",
      "source": [
        "## Gerar Cromossomo\n"
      ],
      "metadata": {
        "id": "uIFBXvrgpMZf"
      }
    },
    {
      "cell_type": "code",
      "source": [
        "def gerar_cromossomo(turmas=curso['quantidade_turmas'], qtd_dias_semana=len(dias_semana), disciplinas_dia=disciplinas_dia, dominio=dominio[0]):\n",
        "  tamanho_cromossomo = turmas * qtd_dias_semana * disciplinas_dia\n",
        "  cromossomo = []\n",
        "\n",
        "  for i in range(tamanho_cromossomo):\n",
        "    cromossomo += [random.randint(dominio[0], dominio[1])]\n",
        "\n",
        "  return cromossomo"
      ],
      "metadata": {
        "id": "NRiuUeZ4-dCY"
      },
      "execution_count": 17,
      "outputs": []
    },
    {
      "cell_type": "code",
      "source": [
        "cromossomo = gerar_cromossomo()\n",
        "print(cromossomo, \"\\nTamanho:\", len(cromossomo))"
      ],
      "metadata": {
        "colab": {
          "base_uri": "https://localhost:8080/"
        },
        "id": "WAq6lQVW_iWh",
        "outputId": "ea52a088-8941-46a6-8d4b-496a840abee5"
      },
      "execution_count": 18,
      "outputs": [
        {
          "output_type": "stream",
          "name": "stdout",
          "text": [
            "[5, 2, 3, 2, 3, 1, 2, 3, 5, 2, 3, 4, 3, 5, 1, 1, 0, 2, 4, 5, 0, 0, 1, 0, 1, 2, 2, 5, 2, 3, 0, 5, 3, 2, 5, 1, 3, 5, 1, 0, 5, 4, 0, 0, 2, 2, 1, 3, 1, 5, 5, 5, 4, 5, 5, 1, 3, 2, 0, 0, 3, 2, 1, 3, 2, 2, 3, 4, 0, 5, 4, 1, 0, 2, 3, 1, 2, 2, 4, 3, 2, 1, 5, 1, 3, 5, 5, 4, 3, 0, 3, 1, 0, 2, 3, 4, 3, 2, 0, 2] \n",
            "Tamanho: 100\n"
          ]
        }
      ]
    },
    {
      "cell_type": "code",
      "source": [
        "cromossomo = gerar_cromossomo(1, 4, 2)\n",
        "print(cromossomo, \"\\nTamanho:\", len(cromossomo))"
      ],
      "metadata": {
        "colab": {
          "base_uri": "https://localhost:8080/"
        },
        "id": "i3hjVy6-Q1Ik",
        "outputId": "70ec0fb0-005c-4c63-f4b7-48631faa6ef7"
      },
      "execution_count": 19,
      "outputs": [
        {
          "output_type": "stream",
          "name": "stdout",
          "text": [
            "[2, 4, 0, 0, 3, 4, 3, 1] \n",
            "Tamanho: 8\n"
          ]
        }
      ]
    },
    {
      "cell_type": "markdown",
      "source": [
        "# Função de Avaliação (Fitness Function)\n",
        "Algoritmo que atribui pontuação ao indivíduo gerado (possível solução) baseada no objetivo estabelecido e critérios do sistema\n",
        "\n",
        "A implementação da função de fitness penaliza os QTS que infrinjem restrições\n",
        "\n",
        "Critérios:\n",
        "- Objetivo\n",
        "  - Minimizar tempo de ociosadade entre aulas de mesma disciplina\n",
        "- Restrições\n",
        "  - Restrição Temporal\n",
        "  - Aulas conjuntas\n",
        "  - Intervalos"
      ],
      "metadata": {
        "id": "vcpW2xs3woJf"
      }
    },
    {
      "cell_type": "markdown",
      "source": [
        "### Objetivos\n",
        "\n",
        "O cromossomo será avaliado de forma que minimizações da ociosidade possuem uma pontuação menor associada"
      ],
      "metadata": {
        "id": "FziK7DgAN6m9"
      }
    },
    {
      "cell_type": "code",
      "source": [
        "# Objetivo(x) = constante * desvio\n",
        "constante_objetivo = 10\n",
        "def avaliar_objetivos(aulas_dia):\n",
        "  desvio = 0\n",
        "\n",
        "  desvio += calcular_horas_vagas(aulas_dia)                                     #Objetivo 1\n",
        "  \n",
        "  return constante_objetivo * desvio"
      ],
      "metadata": {
        "id": "rsqULPQIN6m-"
      },
      "execution_count": 20,
      "outputs": []
    },
    {
      "cell_type": "markdown",
      "source": [
        "### Restrições\n",
        "\n",
        "A cada quebra de restrição o cromossomo é penalizado com acréscimo de sua pontuação. A pontuação atribuída é maior em relação ao objetivo"
      ],
      "metadata": {
        "id": "bZxKvU5ruMus"
      }
    },
    {
      "cell_type": "code",
      "source": [
        "# Penalidade(x) = constante * desvio\n",
        "def aplicar_penalidades(aulas_dia):\n",
        "  desvio, constante = 0, 100\n",
        "  \n",
        "  desvio += calcular_restricao_3(aulas_dia)                                     #Restrição 3\n",
        "  \n",
        "  return constante * desvio"
      ],
      "metadata": {
        "id": "ubLoTHvMjkyy"
      },
      "execution_count": 21,
      "outputs": []
    },
    {
      "cell_type": "markdown",
      "source": [
        "###Fitness Function"
      ],
      "metadata": {
        "id": "CtJIrvtKphvt"
      }
    },
    {
      "cell_type": "code",
      "source": [
        "def funcao_avaliacao(calendario):\n",
        "  pontuacao = 0\n",
        "\n",
        "  for i in range(0, len(calendario), disciplinas_dia):\n",
        "    aulas_dia = calendario[i:i+disciplinas_dia]\n",
        "\n",
        "    pontuacao += avaliar_objetivos(aulas_dia)                                   #Pontuar pelo nível de cumprimento dos objetivos\n",
        "    pontuacao += aplicar_penalidades(aulas_dia)                                 #Penalizar descumprimento das restrições\n",
        "  \n",
        "  return pontuacao"
      ],
      "metadata": {
        "id": "R8YhhUhmq-r3"
      },
      "execution_count": 22,
      "outputs": []
    },
    {
      "cell_type": "code",
      "source": [
        "funcao_avaliacao([1,1,0,0, 2,4,5,1, 4,1,1,4, 2,2,5,5, 0,3,0,5,\n",
        "                  1,1,0,0, 2,4,5,1, 4,1,4,4, 2,2,5,5, 0,3,0,5])"
      ],
      "metadata": {
        "colab": {
          "base_uri": "https://localhost:8080/"
        },
        "id": "Cx1cW87Je9wP",
        "outputId": "b9b20d0a-5fd0-410e-a873-cfd1a44285ab"
      },
      "execution_count": 23,
      "outputs": [
        {
          "output_type": "execute_result",
          "data": {
            "text/plain": [
              "130"
            ]
          },
          "metadata": {},
          "execution_count": 23
        }
      ]
    },
    {
      "cell_type": "markdown",
      "source": [
        "# Impressão de Quadro de Trabalho Semanal"
      ],
      "metadata": {
        "id": "rVxczKmoOri6"
      }
    },
    {
      "cell_type": "code",
      "source": [
        "def imprimir_qts(calendario):\n",
        "  dia_id = 0\n",
        "  espera_total = 0\n",
        "  qtd_dias_semana = len(dias_semana)\n",
        "\n",
        "  for i in range(curso[\"quantidade_turmas\"]):\n",
        "    print(f\"\\n{i+1}ª Turma:\")\n",
        "    inicio_turma = i*(disciplinas_dia*qtd_dias_semana)\n",
        "    for j in range(qtd_dias_semana):\n",
        "        dia = dias_semana[j]\n",
        "        comeco_semana = inicio_turma + j*disciplinas_dia\n",
        "        \n",
        "        disciplinas_semana = calendario[comeco_semana:comeco_semana+disciplinas_dia]                            # coleta as disciplinas da semana\n",
        "        expandir_grupos = [info for aula in disciplinas_semana for info in [aula] * curso[\"maximo_aulas_dia\"]]  # expõem a quantidade real de aulas\n",
        "        decodificar_disciplinas = [disciplinas[disciplina][0] for disciplina in expandir_grupos]                # traduz números em disciplinas\n",
        "\n",
        "        decodificar_disciplinas.insert(gene_almoco * curso[\"maximo_aulas_dia\"], \"Almoço\")                       # inserção do horário de almoço\n",
        "\n",
        "        dia_id += 1                                                                                             # próximo dia da semana\n",
        "        print(f'|{dia:7}| {\", \".join(decodificar_disciplinas)}|')\n",
        "        \n",
        "        espera_total += (avaliar_objetivos(disciplinas_semana) // constante_objetivo) * curso[\"maximo_aulas_dia\"]\n",
        "\n",
        "  print(f'\\nTempo Total de Espera Entre Aulas: {espera_total} {\"Horas\" if espera_total != 1 else \"Hora\"}')"
      ],
      "metadata": {
        "id": "G7_jsoPGOri7"
      },
      "execution_count": 24,
      "outputs": []
    },
    {
      "cell_type": "code",
      "source": [
        "individuo = gerar_cromossomo()\n",
        "print(individuo)\n",
        "imprimir_qts(individuo)"
      ],
      "metadata": {
        "colab": {
          "base_uri": "https://localhost:8080/"
        },
        "id": "3DM1zFpBS1xx",
        "outputId": "1dfb6540-30a4-49d5-bf19-922065856a25"
      },
      "execution_count": 25,
      "outputs": [
        {
          "output_type": "stream",
          "name": "stdout",
          "text": [
            "[1, 0, 3, 1, 4, 2, 0, 1, 0, 5, 4, 2, 0, 4, 2, 5, 3, 0, 1, 0, 0, 0, 4, 0, 3, 1, 5, 2, 1, 0, 0, 0, 2, 3, 4, 3, 2, 4, 4, 3, 4, 1, 4, 3, 1, 5, 4, 5, 3, 1, 2, 3, 1, 0, 5, 5, 0, 3, 1, 1, 4, 4, 3, 3, 1, 2, 3, 3, 5, 4, 4, 3, 2, 2, 5, 2, 5, 2, 2, 1, 3, 4, 0, 1, 5, 4, 0, 3, 5, 5, 5, 4, 5, 4, 0, 4, 4, 3, 4, 2]\n",
            "\n",
            "1ª Turma:\n",
            "|Segunda| SO, SO, NA, NA, Almoço, OC, OC, SO, SO|\n",
            "|Terça  | CO, CO, MF, MF, Almoço, NA, NA, SO, SO|\n",
            "|Quarta | NA, NA, IA, IA, Almoço, CO, CO, MF, MF|\n",
            "|Quinta | NA, NA, CO, CO, Almoço, MF, MF, IA, IA|\n",
            "|Sexta  | OC, OC, NA, NA, Almoço, SO, SO, NA, NA|\n",
            "\n",
            "2ª Turma:\n",
            "|Segunda| NA, NA, NA, NA, Almoço, CO, CO, NA, NA|\n",
            "|Terça  | OC, OC, SO, SO, Almoço, IA, IA, MF, MF|\n",
            "|Quarta | SO, SO, NA, NA, Almoço, NA, NA, NA, NA|\n",
            "|Quinta | MF, MF, OC, OC, Almoço, CO, CO, OC, OC|\n",
            "|Sexta  | MF, MF, CO, CO, Almoço, CO, CO, OC, OC|\n",
            "\n",
            "3ª Turma:\n",
            "|Segunda| CO, CO, SO, SO, Almoço, CO, CO, OC, OC|\n",
            "|Terça  | SO, SO, IA, IA, Almoço, CO, CO, IA, IA|\n",
            "|Quarta | OC, OC, SO, SO, Almoço, MF, MF, OC, OC|\n",
            "|Quinta | SO, SO, NA, NA, Almoço, IA, IA, IA, IA|\n",
            "|Sexta  | NA, NA, OC, OC, Almoço, SO, SO, SO, SO|\n",
            "\n",
            "4ª Turma:\n",
            "|Segunda| CO, CO, CO, CO, Almoço, OC, OC, OC, OC|\n",
            "|Terça  | SO, SO, MF, MF, Almoço, OC, OC, OC, OC|\n",
            "|Quarta | IA, IA, CO, CO, Almoço, CO, CO, OC, OC|\n",
            "|Quinta | MF, MF, MF, MF, Almoço, IA, IA, MF, MF|\n",
            "|Sexta  | IA, IA, MF, MF, Almoço, MF, MF, SO, SO|\n",
            "\n",
            "5ª Turma:\n",
            "|Segunda| OC, OC, CO, CO, Almoço, NA, NA, SO, SO|\n",
            "|Terça  | IA, IA, CO, CO, Almoço, NA, NA, OC, OC|\n",
            "|Quarta | IA, IA, IA, IA, Almoço, IA, IA, CO, CO|\n",
            "|Quinta | IA, IA, CO, CO, Almoço, NA, NA, CO, CO|\n",
            "|Sexta  | CO, CO, OC, OC, Almoço, CO, CO, MF, MF|\n",
            "\n",
            "Tempo Total de Espera Entre Aulas: 20 Horas\n"
          ]
        }
      ]
    },
    {
      "cell_type": "code",
      "source": [
        "imprimir_qts([1,2,1,1, 2,2,2,2, 3,3,3,3, 4,4,4,0, 1,1,1,1,\n",
        "              1,1,1,1, 2,2,2,2, 3,3,3,3, 5,0,1,2, 2,2,2,2,\n",
        "              1,1,1,1, 2,2,2,2, 3,3,3,3, 4,4,4,4, 5,5,5,5,\n",
        "              1,1,1,1, 2,2,2,2, 3,3,3,3, 4,4,4,4, 0,0,0,0,\n",
        "              1,1,1,1, 2,2,2,2, 3,3,3,3, 4,4,4,4, 3,3,3,3])"
      ],
      "metadata": {
        "colab": {
          "base_uri": "https://localhost:8080/"
        },
        "outputId": "6823dff8-cb7f-409c-a5de-8a041e05f2b6",
        "id": "TDggotXTOri7"
      },
      "execution_count": 26,
      "outputs": [
        {
          "output_type": "stream",
          "name": "stdout",
          "text": [
            "\n",
            "1ª Turma:\n",
            "|Segunda| SO, SO, MF, MF, Almoço, SO, SO, SO, SO|\n",
            "|Terça  | MF, MF, MF, MF, Almoço, MF, MF, MF, MF|\n",
            "|Quarta | OC, OC, OC, OC, Almoço, OC, OC, OC, OC|\n",
            "|Quinta | CO, CO, CO, CO, Almoço, CO, CO, NA, NA|\n",
            "|Sexta  | SO, SO, SO, SO, Almoço, SO, SO, SO, SO|\n",
            "\n",
            "2ª Turma:\n",
            "|Segunda| SO, SO, SO, SO, Almoço, SO, SO, SO, SO|\n",
            "|Terça  | MF, MF, MF, MF, Almoço, MF, MF, MF, MF|\n",
            "|Quarta | OC, OC, OC, OC, Almoço, OC, OC, OC, OC|\n",
            "|Quinta | IA, IA, NA, NA, Almoço, SO, SO, MF, MF|\n",
            "|Sexta  | MF, MF, MF, MF, Almoço, MF, MF, MF, MF|\n",
            "\n",
            "3ª Turma:\n",
            "|Segunda| SO, SO, SO, SO, Almoço, SO, SO, SO, SO|\n",
            "|Terça  | MF, MF, MF, MF, Almoço, MF, MF, MF, MF|\n",
            "|Quarta | OC, OC, OC, OC, Almoço, OC, OC, OC, OC|\n",
            "|Quinta | CO, CO, CO, CO, Almoço, CO, CO, CO, CO|\n",
            "|Sexta  | IA, IA, IA, IA, Almoço, IA, IA, IA, IA|\n",
            "\n",
            "4ª Turma:\n",
            "|Segunda| SO, SO, SO, SO, Almoço, SO, SO, SO, SO|\n",
            "|Terça  | MF, MF, MF, MF, Almoço, MF, MF, MF, MF|\n",
            "|Quarta | OC, OC, OC, OC, Almoço, OC, OC, OC, OC|\n",
            "|Quinta | CO, CO, CO, CO, Almoço, CO, CO, CO, CO|\n",
            "|Sexta  | NA, NA, NA, NA, Almoço, NA, NA, NA, NA|\n",
            "\n",
            "5ª Turma:\n",
            "|Segunda| SO, SO, SO, SO, Almoço, SO, SO, SO, SO|\n",
            "|Terça  | MF, MF, MF, MF, Almoço, MF, MF, MF, MF|\n",
            "|Quarta | OC, OC, OC, OC, Almoço, OC, OC, OC, OC|\n",
            "|Quinta | CO, CO, CO, CO, Almoço, CO, CO, CO, CO|\n",
            "|Sexta  | OC, OC, OC, OC, Almoço, OC, OC, OC, OC|\n",
            "\n",
            "Tempo Total de Espera Entre Aulas: 2 Horas\n"
          ]
        }
      ]
    },
    {
      "cell_type": "markdown",
      "source": [
        "# Mutação"
      ],
      "metadata": {
        "id": "2Npp9cugy-in"
      }
    },
    {
      "cell_type": "code",
      "source": [
        "def mutacao(passo, calendario, probabilidade, dominio = dominio):\n",
        "  gene = random.randint(0, len(dominio) - 1)    #Escolha do gene que sofrerá a mutação\n",
        "  mutante = calendario\n",
        "  #print(\"Gene: \", gene)\n",
        "  #Joga um número aleatório para verificar se haverá mutação.\n",
        "  if random.random() < probabilidade:\n",
        "    if calendario[gene] != dominio[gene][0]:    #Verifica borda inferior\n",
        "      mutante = calendario[0:gene] + [calendario[gene] - passo] + calendario[gene + 1:]\n",
        "    elif calendario[gene] != dominio[gene][1]:  #Verifica borda superior\n",
        "      mutante = calendario[0:gene] + [calendario[gene] + passo] + calendario[gene + 1:]\n",
        "  return mutante"
      ],
      "metadata": {
        "id": "5RAZcpBWy_gb"
      },
      "execution_count": 27,
      "outputs": []
    },
    {
      "cell_type": "code",
      "source": [
        "print(mutacao(2, [2,2,2,2,2,2, 2,2,2,2,2,2, 2,2,2,2,2,2, 2,2,2,2,2,2, 2,2,2,2,2,2], 0.9, dominio[0:30]))"
      ],
      "metadata": {
        "id": "x6XLd7Cw0fHZ",
        "colab": {
          "base_uri": "https://localhost:8080/"
        },
        "outputId": "b68a187f-2b92-4c3a-d640-71450aa1e2b1"
      },
      "execution_count": 28,
      "outputs": [
        {
          "output_type": "stream",
          "name": "stdout",
          "text": [
            "[2, 2, 2, 2, 0, 2, 2, 2, 2, 2, 2, 2, 2, 2, 2, 2, 2, 2, 2, 2, 2, 2, 2, 2, 2, 2, 2, 2, 2, 2]\n"
          ]
        }
      ]
    },
    {
      "cell_type": "markdown",
      "source": [
        "# Crossover"
      ],
      "metadata": {
        "id": "Q-T8bim57cf6"
      }
    },
    {
      "cell_type": "code",
      "source": [
        "def crossover(individuo1, individuo2, dominio = dominio):\n",
        "  gene = random.randint(1, len(dominio) - 2)\n",
        "  #print(gene)\n",
        "  return individuo1[0:gene] + individuo2[gene:]"
      ],
      "metadata": {
        "id": "qRNlIEZU50Jd"
      },
      "execution_count": 29,
      "outputs": []
    },
    {
      "cell_type": "code",
      "source": [
        "s1 = [1,1,1,1,1,1, 1,1,1,1,1,1, 1,1,1,1,1,1, 1,1,1,1,1,1, 1,1,1,1,1,1]\n",
        "s2 = [2,2,2,2,2,2, 2,2,2,2,2,2, 2,2,2,2,2,2, 2,2,2,2,2,2, 2,2,2,2,2,2]"
      ],
      "metadata": {
        "id": "FJc-V3ND8d3L"
      },
      "execution_count": 30,
      "outputs": []
    },
    {
      "cell_type": "code",
      "source": [
        "print(crossover(s1, s2, dominio[0:30]))"
      ],
      "metadata": {
        "id": "c5ydHKLC8hlE",
        "colab": {
          "base_uri": "https://localhost:8080/"
        },
        "outputId": "c00c65be-833b-4e64-ec5f-c7dcca394b14"
      },
      "execution_count": 31,
      "outputs": [
        {
          "output_type": "stream",
          "name": "stdout",
          "text": [
            "[1, 1, 1, 1, 1, 1, 1, 1, 1, 2, 2, 2, 2, 2, 2, 2, 2, 2, 2, 2, 2, 2, 2, 2, 2, 2, 2, 2, 2, 2]\n"
          ]
        }
      ]
    },
    {
      "cell_type": "markdown",
      "source": [
        "# Algoritmo Genético Completo"
      ],
      "metadata": {
        "id": "0P_rftK69Q4Q"
      }
    },
    {
      "cell_type": "code",
      "source": [
        "%matplotlib inline\n",
        "\n",
        "\n",
        "def algoritmo_genetico(tamanho_populacao = 10, passo = 1, elitismo = 0.2,\n",
        "                        numero_geracoes = 100, probabilidade_mutacao = 0.05, dominio = dominio):\n",
        "    populacao = []\n",
        "    for i in range(tamanho_populacao):\n",
        "        #Cria aleatoriamente os indivíduos\n",
        "        individuo = gerar_cromossomo()\n",
        "        populacao.append(individuo)\n",
        "    # print(populacao)\n",
        "    # print(len(populacao))\n",
        "    numero_elitismo = int(elitismo * tamanho_populacao)\n",
        "\n",
        "    #print('Tamanho da população: ', len(populacao))\n",
        "\n",
        "    melhor_fit = []#Guardar o melhor de cada interação\n",
        "\n",
        "    for i in range(numero_geracoes):\n",
        "        custos = [(funcao_avaliacao(individuo), individuo) for individuo in populacao]\n",
        "        # print(\"A\",custos)\n",
        "        custos.sort()\n",
        "        #print(\"B\",custos)\n",
        "        individuos_ordenados = [individuo for (custo, individuo) in custos]\n",
        "        #print(individuos_ordenados)\n",
        "        populacao = individuos_ordenados[0:numero_elitismo] # só pega o percentual dos elementos baseados no elisitmo\n",
        "        \n",
        "        while len(populacao) < tamanho_populacao:\n",
        "            i1 = random.randint(0, numero_elitismo)\n",
        "            i2 = random.randint(0, numero_elitismo)\n",
        "            #print(i1, i2, individuos_ordenados[i1], individuos_ordenados[i2])\n",
        "            novo_individuo = crossover(individuos_ordenados[i1], individuos_ordenados[i2])\n",
        "            #print(novo_individuo)\n",
        "            mutacao_novo_individuo = mutacao(passo, novo_individuo, probabilidade_mutacao)\n",
        "            #print(novo_individuo)\n",
        "            #print(mutacao_novo_individuo)\n",
        "            #print()\n",
        "            populacao.append(mutacao_novo_individuo)\n",
        "\n",
        "        #print('Tamanho da população: ', len(populacao))\n",
        "        melhor_fit.append(custos[0][0])\n",
        "    #print(custos)\n",
        "    \n",
        "    # print(melhor_fit)\n",
        "    #Plotar o gráfico\n",
        "    plt.plot(melhor_fit);\n",
        "    \n",
        "    return custos[0][1]"
      ],
      "metadata": {
        "id": "tCYVi6W787YS"
      },
      "execution_count": 32,
      "outputs": []
    },
    {
      "cell_type": "code",
      "source": [
        "solucao = algoritmo_genetico(tamanho_populacao = 10, numero_geracoes= 400)"
      ],
      "metadata": {
        "colab": {
          "base_uri": "https://localhost:8080/",
          "height": 430
        },
        "outputId": "ec551238-83ec-4b5f-f226-b068b8fa9ed9",
        "id": "qVH_r0l-hTvn"
      },
      "execution_count": 33,
      "outputs": [
        {
          "output_type": "display_data",
          "data": {
            "text/plain": [
              "<Figure size 640x480 with 1 Axes>"
            ],
            "image/png": "[encoded data removed]"
          },
          "metadata": {}
        }
      ]
    },
    {
      "cell_type": "code",
      "source": [
        "print(solucao)"
      ],
      "metadata": {
        "colab": {
          "base_uri": "https://localhost:8080/"
        },
        "outputId": "4f172f91-08fe-46fb-fbfa-9e2e6aee87ac",
        "id": "_Z9rxVOUhjUU"
      },
      "execution_count": 34,
      "outputs": [
        {
          "output_type": "stream",
          "name": "stdout",
          "text": [
            "[2, 0, 4, 4, 2, 2, 1, 0, 5, 3, 0, 0, 0, 2, 0, 3, 0, 0, 1, 3, 0, 2, 3, 3, 0, 5, 0, 3, 5, 0, 3, 3, 0, 3, 0, 4, 1, 0, 3, 3, 4, 0, 5, 0, 1, 3, 0, 0, 1, 0, 5, 3, 4, 4, 0, 3, 0, 0, 5, 3, 0, 0, 1, 3, 0, 0, 3, 0, 0, 3, 5, 0, 1, 0, 4, 0, 1, 1, 3, 0, 5, 1, 0, 0, 4, 3, 0, 2, 0, 1, 2, 3, 0, 2, 3, 1, 0, 2, 0, 4]\n"
          ]
        }
      ]
    },
    {
      "cell_type": "code",
      "source": [
        "funcao_avaliacao(solucao)"
      ],
      "metadata": {
        "colab": {
          "base_uri": "https://localhost:8080/"
        },
        "outputId": "55289be2-f7ec-477d-a25e-97dd5a5a8a3b",
        "id": "5ZTWfPpPhreP"
      },
      "execution_count": 35,
      "outputs": [
        {
          "output_type": "execute_result",
          "data": {
            "text/plain": [
              "0"
            ]
          },
          "metadata": {},
          "execution_count": 35
        }
      ]
    },
    {
      "cell_type": "code",
      "source": [
        "imprimir_qts(solucao)"
      ],
      "metadata": {
        "colab": {
          "base_uri": "https://localhost:8080/"
        },
        "outputId": "b5cc0101-58a3-49a8-bdb0-142a2755d7af",
        "id": "ZeNqVc8Zhv_Q"
      },
      "execution_count": 36,
      "outputs": [
        {
          "output_type": "stream",
          "name": "stdout",
          "text": [
            "\n",
            "1ª Turma:\n",
            "|Segunda| MF, MF, NA, NA, Almoço, CO, CO, CO, CO|\n",
            "|Terça  | MF, MF, MF, MF, Almoço, SO, SO, NA, NA|\n",
            "|Quarta | IA, IA, OC, OC, Almoço, NA, NA, NA, NA|\n",
            "|Quinta | NA, NA, MF, MF, Almoço, NA, NA, OC, OC|\n",
            "|Sexta  | NA, NA, NA, NA, Almoço, SO, SO, OC, OC|\n",
            "\n",
            "2ª Turma:\n",
            "|Segunda| NA, NA, MF, MF, Almoço, OC, OC, OC, OC|\n",
            "|Terça  | NA, NA, IA, IA, Almoço, NA, NA, OC, OC|\n",
            "|Quarta | IA, IA, NA, NA, Almoço, OC, OC, OC, OC|\n",
            "|Quinta | NA, NA, OC, OC, Almoço, NA, NA, CO, CO|\n",
            "|Sexta  | SO, SO, NA, NA, Almoço, OC, OC, OC, OC|\n",
            "\n",
            "3ª Turma:\n",
            "|Segunda| CO, CO, NA, NA, Almoço, IA, IA, NA, NA|\n",
            "|Terça  | SO, SO, OC, OC, Almoço, NA, NA, NA, NA|\n",
            "|Quarta | SO, SO, NA, NA, Almoço, IA, IA, OC, OC|\n",
            "|Quinta | CO, CO, CO, CO, Almoço, NA, NA, OC, OC|\n",
            "|Sexta  | NA, NA, NA, NA, Almoço, IA, IA, OC, OC|\n",
            "\n",
            "4ª Turma:\n",
            "|Segunda| NA, NA, NA, NA, Almoço, SO, SO, OC, OC|\n",
            "|Terça  | NA, NA, NA, NA, Almoço, OC, OC, NA, NA|\n",
            "|Quarta | NA, NA, OC, OC, Almoço, IA, IA, NA, NA|\n",
            "|Quinta | SO, SO, NA, NA, Almoço, CO, CO, NA, NA|\n",
            "|Sexta  | SO, SO, SO, SO, Almoço, OC, OC, NA, NA|\n",
            "\n",
            "5ª Turma:\n",
            "|Segunda| IA, IA, SO, SO, Almoço, NA, NA, NA, NA|\n",
            "|Terça  | CO, CO, OC, OC, Almoço, NA, NA, MF, MF|\n",
            "|Quarta | NA, NA, SO, SO, Almoço, MF, MF, OC, OC|\n",
            "|Quinta | NA, NA, MF, MF, Almoço, OC, OC, SO, SO|\n",
            "|Sexta  | NA, NA, MF, MF, Almoço, NA, NA, CO, CO|\n",
            "\n",
            "Tempo Total de Espera Entre Aulas: 0 Horas\n"
          ]
        }
      ]
    },
    {
      "cell_type": "code",
      "source": [],
      "metadata": {
        "id": "XyU8tnQ2OYfK"
      },
      "execution_count": 36,
      "outputs": []
    }
  ]
}